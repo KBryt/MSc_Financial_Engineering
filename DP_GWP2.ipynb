{
  "cells": [
    {
      "cell_type": "markdown",
      "metadata": {
        "id": "view-in-github",
        "colab_type": "text"
      },
      "source": [
        "<a href=\"https://colab.research.google.com/github/KBryt/MSc_Financial_Engineering/blob/main/DP_GWP2.ipynb\" target=\"_parent\"><img src=\"https://colab.research.google.com/assets/colab-badge.svg\" alt=\"Open In Colab\"/></a>"
      ]
    },
    {
      "cell_type": "code",
      "execution_count": 31,
      "metadata": {
        "id": "WxU1ZPM5Gk61"
      },
      "outputs": [],
      "source": [
        "import matplotlib.pyplot as plt\n",
        "import numpy as np\n",
        "from scipy.stats import lognorm, norm\n",
        "import scipy.stats as ss\n",
        "import pandas as pd\n",
        "%matplotlib inline\n",
        "import numpy.random as npr\n",
        "from tabulate import tabulate\n",
        "import math\n"
      ]
    },
    {
      "cell_type": "markdown",
      "metadata": {
        "id": "drKjjSmv4O67"
      },
      "source": [
        "# STEP 1"
      ]
    },
    {
      "cell_type": "markdown",
      "metadata": {
        "id": "1-09TAUfsWMA"
      },
      "source": [
        "## 5. (a) An overview on the calcuated estimates\n",
        "In contrast to a call option, which gives the holder the option to purchase the underlying asset at a defined strike price but not the requirement to do so, a put option gives the holder the right to sell the asset at that striking price but not the obligation to do so. To achieve the computation for a Black-Scholes closed form, we employ time-based adjustments along with computations of intermediate variables (d_minus and d_plus) that were used to construct option prices using a cumulative distribution function.\n",
        "\n",
        "According to the calculation below, the put is worth 3.37 US dollars and the call is worth 4.61 US dollars. Given how option prices have performed in relation to the parameters we selected for the current stock price, the strike price, the time till expiration, and volatility, the call and put option prices are in accordance with our predictions. In the end, investors use the Black-Scholes model as a foundation to determine the intrinsic value of options because it offers a consistent method for navigating the complexities of option pricing in intricate financial markets."
      ]
    },
    {
      "cell_type": "code",
      "execution_count": 32,
      "metadata": {
        "id": "e5sPD7aL5H-R"
      },
      "outputs": [],
      "source": [
        "def bs_call_price(S, r, sigma, t, T, K):\n",
        "    ttm = T - t\n",
        "\n",
        "    if ttm < 0:\n",
        "        return 0.0\n",
        "    elif ttm == 0.0:\n",
        "        return np.maximum(S - K, 0.0)\n",
        "\n",
        "    vol = sigma * np.sqrt(ttm)\n",
        "\n",
        "    d_minus = np.log(S / K) + (r - 0.5 * sigma**2) * ttm\n",
        "    d_minus /= vol\n",
        "\n",
        "    d_plus = d_minus + vol\n",
        "\n",
        "    res = S * norm.cdf(d_plus)\n",
        "    res -= K * np.exp(-r * ttm) * norm.cdf(d_minus)\n",
        "\n",
        "    return res"
      ]
    },
    {
      "cell_type": "code",
      "execution_count": 33,
      "metadata": {
        "id": "EkahjfBg5rwy"
      },
      "outputs": [],
      "source": [
        "def bs_put_price(S, r, sigma, t, T, K):\n",
        "    ttm = T - t\n",
        "\n",
        "    if ttm < 0:\n",
        "        return 0.0\n",
        "    elif ttm == 0.0:\n",
        "        return np.maximum(K - S, 0.0)\n",
        "\n",
        "    vol = sigma * np.sqrt(ttm)\n",
        "\n",
        "    d_minus = np.log(S / K) + (r - 0.5 * sigma**2) * ttm\n",
        "    d_minus /= vol\n",
        "\n",
        "    d_plus = d_minus + vol\n",
        "\n",
        "    res = K * np.exp(-r * ttm) * norm.cdf(-d_minus)\n",
        "    res -= S * norm.cdf(-d_plus)\n",
        "\n",
        "    return res"
      ]
    },
    {
      "cell_type": "code",
      "execution_count": 34,
      "metadata": {
        "id": "sNSuI7Dk_rxP"
      },
      "outputs": [],
      "source": [
        "T = 0.25\n",
        "S0 = 100\n",
        "K = 100\n",
        "r = 0.05\n",
        "vol = 0.20"
      ]
    },
    {
      "cell_type": "code",
      "execution_count": 35,
      "metadata": {
        "colab": {
          "base_uri": "https://localhost:8080/",
          "height": 0
        },
        "id": "6q7W0QCktnjW",
        "outputId": "bb2a3f3f-82db-449f-ad99-5876b100af8e"
      },
      "outputs": [
        {
          "output_type": "stream",
          "name": "stdout",
          "text": [
            "ATM European call option price using BS Model is 4.61\n",
            "ATM European put option price using BS Model is 3.37\n"
          ]
        }
      ],
      "source": [
        "print(\"ATM European call option price using BS Model is\", round(bs_call_price(100, 0.05, 0.2, 0, 0.25, 100),2))\n",
        "print(\"ATM European put option price using BS Model is\", round(bs_put_price(100, 0.05, 0.2, 0, 0.25, 100),2))"
      ]
    },
    {
      "cell_type": "markdown",
      "metadata": {
        "id": "5FLwyCVht2N5"
      },
      "source": [
        "## 5(b) Briefly describe the overall process\n",
        "The Black-Scholes closed-form solution for pricing European call and put options is obtained by constructing a framework that takes significant financial factors into account. It is believed that the underlying stock moves in a geometric Brownian motion, meaning that price changes occur continuously throughout time. The two main procedures are figuring out how likely it is that the option will be in-the-money or out-of-the-money when it expires and discounting those odds using the risk-free interest rate.\n",
        "\n",
        "The first step in solving the European call option problem is figuring out how likely it is that the option will be exercised given the distribution of the stock price. The probability is determined by computing the standardized variable's cumulative distribution function, which is contingent upon the present stock price, strike price, risk-free rate, expiration time, and volatility. The call option's price can then be calculated by discounting back the projected payoff upon expiration.\n",
        "\n",
        "Comparably, in the case of European put options, the procedure entails calculating the likelihood that the option will be exercised by comparing the strike price to the stock price. The value of the put option is calculated by summing the calculated probability and the expected reward at expiration. The Black-Scholes formula provides a standardized method for determining the fair value of European options in volatile financial situations by using these stages to construct a mathematical relationship between the option's price and the many aspects affecting it (Schumacher, 2020)."
      ]
    },
    {
      "cell_type": "markdown",
      "metadata": {
        "id": "r7fjoJamuowx"
      },
      "source": [
        "# 6. Compute the Greek Delta for the European call and European put at time 0:\n",
        "Our study in the Python code below indicates that the Greek Delta for the European call and European put at time 0 is 0.57 and -0.43, respectively:\n",
        "\n",
        "**a) How do they compare?**\n",
        "\n",
        "The Greek delta (0.57) of the European call option means that, for every 1% increase in the underlying asset's price, the call option's price is expected to grow by around 0.57 times that amount. Conversely, the European Put Option's Greek delta (-0.43) indicates that, in the event of a little increase in the underlying asset's price, the put option's price is expected to fall by around 0.43, which is the change.\n",
        "\n",
        "**(b) Comment briefly on the differences and signs of Delta for both options.**\n",
        "\n",
        " The call option is in-the-money (strike price is less than the current stock price) when the delta is 0.57, meaning that the option's value increases in line with the stock price. With a delta of -0.43, the put option is said to be out-of-the-money, meaning that its value decreases when the stock price rises and the strike price is higher than the current stock price.\n",
        "\n",
        "**What does delta proxy for?**\n",
        "\n",
        "A crucial metric for determining how sensitive an option's price is to shifts in the value of the underlying asset is delta.\n",
        "\n",
        "**Why does it make sense to obtain a positive/negative delta for each option?**\n",
        "\n",
        "For each choice, why is it logical to get a positive or negative delta? Given that a European call option benefits from price appreciation—that is, as stock prices rise, the option's value increases since it gives the holder the right to purchase the asset at a predetermined price—a positive delta for the European call option makes intuitive sense. Similar to this, a negative delta is anticipated for European put options since they benefit from price reductions by allowing the option holder to sell the asset at a strike price that is greater than its current market value.\n",
        "\n",
        "\n",
        "*   The Greek delta, using BS Model, of the European put option is negative(-0.43) whilst the call is positive(0.57).\n",
        "\n",
        "*   Delta represents the sensitivity of the option's price to changes in the price of the underlying asset. It measures how the option's price is expected to change with respect to a small change in the price of the underlying asset. The delta of the call option is negative because call options gain value as the underlying asset's price increases. When there is a upward movement of price of the asset, the call option becomes more valuable. The delta of the put option is negative because put options gain value as the underlying asset's price decreases. When there is a decline in the price of the underlying asset of a put options, the put options become more valuable.\n",
        "\n",
        "*   A numerical value of delta ranges between 1 and -1. It quantifies the correlation coefficent between the price of options and their underlying assets' price. Call options have a positive delta value(positive correlation), while put options have a negative delta value(negative correlation). Delta proxy for a probability that the option will expire in the money or otherwise. For example, a call option with a delta value of 0.5 means that the probability of the option expiring in the money is 50%."
      ]
    },
    {
      "cell_type": "code",
      "execution_count": 36,
      "metadata": {
        "colab": {
          "base_uri": "https://localhost:8080/",
          "height": 0
        },
        "id": "4YJLMSaH_1FO",
        "outputId": "eeb430af-5162-4a24-8474-11b81b83954b"
      },
      "outputs": [
        {
          "output_type": "stream",
          "name": "stdout",
          "text": [
            "Call option Delta is 0.57\n",
            "Put option Delta is -0.43\n"
          ]
        }
      ],
      "source": [
        "sigma_initial = 0.20\n",
        "K = 100\n",
        "d1 = (np.log(S / K) + (r + 0.5 * vol**2) * T) / (vol * np.sqrt(T))\n",
        "d2 = d1 - vol * np.sqrt(T)\n",
        "\n",
        "DeltaCall = ss.norm.cdf(d1)\n",
        "DeltaPut = -ss.norm.cdf(-d1)\n",
        "\n",
        "print(\"Call option Delta is\",round(DeltaCall,2) )\n",
        "print(\"Put option Delta is\",round(DeltaPut,2) )"
      ]
    },
    {
      "cell_type": "markdown",
      "source": [
        "## Q7 Delta measures one sensitivity of the option price. But there are other important sensitivities we will look at throughout the course. An important one is the sensitivity of the option price to the underlying volatility (vega).\n",
        "\n",
        "**(a) Compute the sensitivity of previous put and call option prices to a 5% increase in volatility (from 20% to 25%). How do prices change with respect to the change in volatility?**\n",
        "\n",
        "When the volatility increases by 5% (from 20% to 25%), the price of the European Call option rises from $\\$4.61$ to $\\$4.81$. In a similar vein, when volatility increases by 5% (from 20% to 25%), the price of the European Put option climbs from $\\$3.37$ to $\\$3.57$.\n",
        "\n",
        "**(b) Comment on the potential differential impact of this change for call and put options.**\n",
        "\n",
        "The European Call option's favorable correlation with volatility explains the price increase from $\\$4.61$ to $\\$4.81$. As volatility rises, there is a greater chance that the underlying asset may see more substantial price swings.Greater price swings in the underlying asset are possible as volatility grows. This heightened uncertainty may result in more substantial price gains for call option investors, who stand to profit from rises in stock price movements. The $\\$0.20$ increase in the call option's price indicates that the option's value responds favorably to higher volatility, suggesting that there may be more substantial price fluctuations in the underlying asset (Schumacher, 2020).\n",
        "\n",
        "Conversely, the increased volatility also causes the price of the European Put option to rise from $\\$3.37$ to $\\$3.57$. The reason for this seemingly contradictory behavior is that more volatility makes large price drops more likely, which is good news for put option holders. The Put option's $0.20 price increase demonstrates how the option's value increases in response to higher volatility and is consistent with the potential to profit from declining stock prices. Overall, the disparity in effect highlights the different functions that Call and Put options fulfill in mitigating price fluctuations caused by erratic volatility, with Call options benefiting from potential price rises and Put options from potential declines (Schumacher, 2020).\n"
      ],
      "metadata": {
        "id": "oyVTkliQAO_C"
      }
    },
    {
      "cell_type": "code",
      "source": [
        "def black_scholes_call(S, K, T, r, sigma):\n",
        "    d1 = (math.log(S / K) + (r + 0.5 * sigma**2) * T) / (sigma * math.sqrt(T))\n",
        "    d2 = d1 - sigma * math.sqrt(T)\n",
        "    call_price = S * norm.cdf(d1) - K * math.exp(-r * T) * norm.cdf(d2)\n",
        "    return call_price\n",
        "\n",
        "# Black-Scholes formula for European put option price\n",
        "def black_scholes_put(S, K, T, r, sigma):\n",
        "    d1 = (math.log(S / K) + (r + 0.5 * sigma**2) * T) / (sigma * math.sqrt(T))\n",
        "    d2 = d1 - sigma * math.sqrt(T)\n",
        "    put_price = K * math.exp(-r * T) * norm.cdf(-d2) - S * norm.cdf(-d1)\n",
        "    return put_price\n",
        "\n",
        "# Given parameters\n",
        "S0 = 100   # Initial underlying asset price\n",
        "K = 100    # Strike price\n",
        "r = 0.05   # Risk-free rate\n",
        "sigma_initial = 0.20  # Initial volatility (20%)\n",
        "T = 0.25   # Time to expiration in years\n",
        "\n",
        "# Calculate initial option prices\n",
        "call_price_initial = black_scholes_call(S0, K, T, r, sigma_initial)\n",
        "put_price_initial = black_scholes_put(S0, K, T, r, sigma_initial)\n",
        "\n",
        "# Calculate option prices with increased volatility (25%)\n",
        "sigma_increased = sigma_initial * 1.05  # Increased by 5%\n",
        "call_price_increased_volatility = black_scholes_call(S0, K, T, r, sigma_increased)\n",
        "put_price_increased_volatility = black_scholes_put(S0, K, T, r, sigma_increased)\n",
        "\n",
        "# Calculate price changes due to the increase in volatility\n",
        "call_price_change = call_price_increased_volatility - call_price_initial\n",
        "put_price_change = put_price_increased_volatility - put_price_initial\n",
        "\n",
        "print(\"Option Prices with 5% Increase in Volatility:\")\n",
        "print(f\"Call Option Price with Increased Volatility: {call_price_increased_volatility:.2f}\")\n",
        "print(f\"Put Option Price with Increased Volatility: {put_price_increased_volatility:.2f}\\n\")\n",
        "\n",
        "print(\"Comments on Differential Impact:\")\n",
        "print(\"Call option price increased with higher volatility.\")\n",
        "print(\"Put option price increased with higher volatility.\")"
      ],
      "metadata": {
        "colab": {
          "base_uri": "https://localhost:8080/",
          "height": 0
        },
        "id": "uKlRsoO842YI",
        "outputId": "98b18a51-a425-453a-d163-e0dac2e56e1e"
      },
      "execution_count": 37,
      "outputs": [
        {
          "output_type": "stream",
          "name": "stdout",
          "text": [
            "Option Prices with 5% Increase in Volatility:\n",
            "Call Option Price with Increased Volatility: 4.81\n",
            "Put Option Price with Increased Volatility: 3.57\n",
            "\n",
            "Comments on Differential Impact:\n",
            "Call option price increased with higher volatility.\n",
            "Put option price increased with higher volatility.\n"
          ]
        }
      ]
    },
    {
      "cell_type": "code",
      "execution_count": 38,
      "metadata": {
        "colab": {
          "base_uri": "https://localhost:8080/",
          "height": 0
        },
        "id": "ExKwRvlOm14y",
        "outputId": "0df8ad67-8899-423b-9363-a3b37185fc79"
      },
      "outputs": [
        {
          "output_type": "stream",
          "name": "stdout",
          "text": [
            "Summary of Results\n",
            "\n",
            "+----------+--------+----------+----------------+--------------+----------+------------------------------------------------------+\n",
            "| Q #s     | Type   | Exer     | GWP 2 Method   |   GWP2 Price |   Deltas |   GWP2 Price Increase with 5% Increase in Volatility |\n",
            "+==========+========+==========+================+==============+==========+======================================================+\n",
            "| 5, 6 & 7 | Call   | European | BS             |         4.61 |     0.57 |                                                 4.81 |\n",
            "+----------+--------+----------+----------------+--------------+----------+------------------------------------------------------+\n",
            "| 5, 6 & 7 | Put    | European | BS             |         3.37 |    -0.43 |                                                 3.57 |\n",
            "+----------+--------+----------+----------------+--------------+----------+------------------------------------------------------+\n"
          ]
        }
      ],
      "source": [
        "\n",
        "from tabulate import tabulate\n",
        "\n",
        "# Prepare your data as a list of lists\n",
        "table_data = [\n",
        "     [\"5, 6 & 7\", \"Call\", \"European\", \"BS\", \"4.61\", \"0.57\", \"4.81\"],\n",
        "     [\"5, 6 & 7\", \"Put\", \"European\", \"BS\", \"3.37\", \"-0.43\", \"3.57\"],\n",
        "]\n",
        "\n",
        "# Define the title for the table\n",
        "table_title = \"Summary of Results\"\n",
        "\n",
        "# Define the table headers\n",
        "headers = [\"Q #s\", \"Type\", \"Exer\", \"GWP 2 Method\", \"GWP2 Price\", \"Deltas\", \"GWP2 Price Increase with 5% Increase in Volatility\"]\n",
        "\n",
        "# Format the table using tabulate\n",
        "table = tabulate(table_data, headers=headers, tablefmt=\"grid\")\n",
        "\n",
        "# Add the title above the table\n",
        "table_with_title = f\"{table_title}\\n\\n{table}\"\n",
        "\n",
        "# Print the formatted table\n",
        "print(table_with_title)"
      ]
    },
    {
      "cell_type": "code",
      "execution_count": 39,
      "metadata": {
        "colab": {
          "base_uri": "https://localhost:8080/",
          "height": 0
        },
        "id": "aZ9nfskv_as3",
        "outputId": "ad12224c-9289-45b8-abbc-e9bef0479ac1"
      },
      "outputs": [
        {
          "output_type": "stream",
          "name": "stdout",
          "text": [
            "Call & Put option Vega 19.64\n"
          ]
        }
      ],
      "source": [
        "VegaBS = S * ss.norm.pdf(d1) * np.sqrt(T)\n",
        "print(\"Call & Put option Vega\",round(VegaBS,2) )"
      ]
    },
    {
      "cell_type": "markdown",
      "metadata": {
        "id": "EfVfkJvVARmo"
      },
      "source": [
        "\n",
        "\n",
        "\n",
        "*   The prices of both the European put and European call increase with increased volatility of the underlying asset.\n",
        "*   In the case of the call options, an increase in the volatility of the underlying asset increases the price of the underlying asset above the strike price making the option more valuable. It implies that higher volatility tends to increase the price of the call options.\n",
        "\n",
        "*   An increase in the volatility of the underlying asset in the case of put options, decreases the price of the underlying asset below the strike price, hence increasing the value of the put options. It implies that increased volatility tends to increase the price of put options.\n",
        "*   Vega value of 19.64 for both call and put option. It means that when the sigma changes by 1, the option value changes by 19.64\n",
        "\n",
        "\n",
        "\n",
        "\n",
        "\n",
        "\n"
      ]
    },
    {
      "cell_type": "markdown",
      "metadata": {
        "id": "TsL_rUpb1RoK"
      },
      "source": [
        "**Step1Q5:**\n",
        "\n",
        "2.1 Pricing an ATM European-Call and Put Option using Black-Scholes Monte-Carlo methods under a general GBM equation with daily time-steps in the simulations.\n",
        "\n",
        "Parameters given:\n",
        "\n",
        "$S_0$ = 100\n",
        "\n",
        "$r$ = 5%\n",
        "\n",
        "$\\sigma$ = 20%\n",
        "\n",
        "$t$ = 0\n",
        "\n",
        "$T$ = 0.25\n",
        "\n",
        "$K$ = 100\n"
      ]
    },
    {
      "cell_type": "markdown",
      "metadata": {
        "id": "PH7rI8RPyzmx"
      },
      "source": [
        "**Q5a: Choosing the number of simulation convenient**\n",
        "\n",
        "We considered 100,000 number of paths for the simulation because it is large enough to ensure accurate estimate for the true value of option\n"
      ]
    },
    {
      "cell_type": "code",
      "execution_count": 40,
      "metadata": {
        "id": "Ecb_2pQt1fHa"
      },
      "outputs": [],
      "source": [
        "def bs_call_mc_daily(S, K, r, sigma, T, t, Ite):\n",
        "    np.random.seed(42)\n",
        "    M = int((T - t) * 252)  # Number of daily time steps\n",
        "    dt = (T - t) / M\n",
        "\n",
        "    # Function to simulate stock price paths\n",
        "    def simulate_stock_paths(S, sigma):\n",
        "        paths = np.zeros((M + 1, Ite))\n",
        "        paths[0] = S\n",
        "        for i in range(1, M + 1):\n",
        "            z = np.random.normal(0, 1, Ite)\n",
        "            paths[i] = paths[i - 1] * np.exp((r - 0.5 * sigma**2) * dt + sigma * np.sqrt(dt) * z)\n",
        "        return paths\n",
        "\n",
        "    # Simulating stock price paths\n",
        "    paths = simulate_stock_paths(S, sigma)\n",
        "\n",
        "    # Calculating payoffs\n",
        "    payoffs = np.maximum(paths[-1] - K, 0)\n",
        "\n",
        "    # Calculating option price\n",
        "    price = np.exp(-r * (T - t)) * np.mean(payoffs)\n",
        "\n",
        "    return price"
      ]
    },
    {
      "cell_type": "code",
      "execution_count": 41,
      "metadata": {
        "id": "TYqd6spE6GEV"
      },
      "outputs": [],
      "source": [
        "def bs_put_mc_daily(S, K, r, sigma, T, t, Ite):\n",
        "    #np.random.seed(42)\n",
        "    M = int((T - t) * 252)  # Number of daily time steps\n",
        "    dt = (T - t) / M\n",
        "\n",
        "     # Function to simulate stock price paths\n",
        "    def simulate_stock_paths(S, sigma):\n",
        "        paths = np.zeros((M + 1, Ite))\n",
        "        paths[0] = S\n",
        "        for i in range(1, M + 1):\n",
        "            z = np.random.normal(0, 1, Ite)\n",
        "            paths[i] = paths[i - 1] * np.exp((r - 0.5 * sigma**2) * dt + sigma * np.sqrt(dt) * z)\n",
        "        return paths\n",
        "\n",
        "    # Simulating stock price paths (using the same function as in the call option)\n",
        "    paths = simulate_stock_paths(S, sigma)\n",
        "\n",
        "    # Calculating payoffs\n",
        "    payoffs = np.maximum(K - paths[-1], 0)\n",
        "\n",
        "    # Calculating option price\n",
        "    price = np.exp(-r * (T - t)) * np.mean(payoffs)\n",
        "\n",
        "    return price"
      ]
    },
    {
      "cell_type": "code",
      "execution_count": 42,
      "metadata": {
        "id": "tnKDCdEV7Os3",
        "colab": {
          "base_uri": "https://localhost:8080/",
          "height": 0
        },
        "outputId": "a8bfc699-3d7b-430e-df06-ce6d69ec6413"
      },
      "outputs": [
        {
          "output_type": "stream",
          "name": "stdout",
          "text": [
            "Monte Carlo Euro- call ATM price: 4.61\n",
            "Monte Carlo Euro- put ATM price: 3.37\n"
          ]
        }
      ],
      "source": [
        "print(\"Monte Carlo Euro- call ATM price:\", round(bs_call_mc_daily(100, 100, 0.05,0.20, 0.25, 0,1000000),2))\n",
        "print(\"Monte Carlo Euro- put ATM price:\", round(bs_put_mc_daily(100, 100, 0.05, 0.20, 0.25, 0, 1000000),2))"
      ]
    },
    {
      "cell_type": "markdown",
      "source": [
        "**Q5b**\n",
        "We set our parameters of GBM mode: Initial stock price, risk-free rate, volatility of the underlying stock price, time to expiration, and the number time steps. The random paths are then generated for the underlying stock price using the GBM stochastic differential equation for each path. The Call and put option payoff are then calculated back to the present value using the discount risk-free interest rate. The discounted payoff is then averaged across all simulated paths."
      ],
      "metadata": {
        "id": "Ly-DGLllYcAc"
      }
    },
    {
      "cell_type": "markdown",
      "metadata": {
        "id": "3UJmdJiUFyNy"
      },
      "source": [
        "**Q6** Determining Delta and Vega of ATM European Call and Put Option using Black-Scholes Monte-Carlo methods under a general GBM equation with daily time-steps in the simulations."
      ]
    },
    {
      "cell_type": "code",
      "execution_count": 43,
      "metadata": {
        "id": "4dPN4m_LG_5P"
      },
      "outputs": [],
      "source": [
        "def bs_call_gbm_mc(S, K, r, sigma, T, t, Ite, dS, dSigma):\n",
        "    # Generate random normal variables for each simulation step\n",
        "    # np.random.seed(42)\n",
        "    z = np.random.normal(0, 1, [1, Ite])\n",
        "\n",
        "    # Original stock price paths simulation\n",
        "    ST = S * np.exp((T - t) * (r - 0.5 * sigma**2) + sigma * np.sqrt(T - t) * z)\n",
        "    payoff = np.maximum(ST - K, 0)\n",
        "    original_price = np.exp(-r * (T - t)) * np.mean(payoff)\n",
        "\n",
        "    # Simulation with increased stock price for Delta\n",
        "    ST_dS = (S + dS) * np.exp((T - t) * (r - 0.5 * sigma**2) + sigma * np.sqrt(T - t) * z)\n",
        "    payoff_dS = np.maximum(ST_dS - K, 0)\n",
        "    price_dS = np.exp(-r * (T - t)) * np.mean(payoff_dS)\n",
        "    delta = (price_dS - original_price) / dS\n",
        "\n",
        "    # Simulation with increased volatility for Vega\n",
        "    ST_dSigma = S * np.exp((T - t) * (r - 0.5 * (sigma + dSigma)**2) + (sigma + dSigma) * np.sqrt(T - t) * z)\n",
        "    payoff_dSigma = np.maximum(ST_dSigma - K, 0)\n",
        "    price_dSigma = np.exp(-r * (T - t)) * np.mean(payoff_dSigma)\n",
        "    vega = (price_dSigma - original_price) / dSigma\n",
        "\n",
        "    return original_price, delta, vega"
      ]
    },
    {
      "cell_type": "code",
      "execution_count": 44,
      "metadata": {
        "id": "dFx-wh-zHJXN"
      },
      "outputs": [],
      "source": [
        "def bs_put_gbm_mc(S, K, r, sigma, T, t, Ite, dS, dSigma):\n",
        "    #np.random.seed(42)\n",
        "    z = np.random.normal(0, 1, [1, Ite])\n",
        "\n",
        "    # Original stock price paths simulation\n",
        "    ST = S * np.exp((T - t) * (r - 0.5 * sigma**2) + sigma * np.sqrt(T - t) * z)\n",
        "    payoff = np.maximum(K - ST, 0)\n",
        "    original_price = np.exp(-r * (T - t)) * np.mean(payoff)\n",
        "\n",
        "    # Simulation with increased stock price for Delta\n",
        "    ST_dS = (S + dS) * np.exp((T - t) * (r - 0.5 * sigma**2) + sigma * np.sqrt(T - t) * z)\n",
        "    payoff_dS = np.maximum(K - ST_dS, 0)\n",
        "    price_dS = np.exp(-r * (T - t)) * np.mean(payoff_dS)\n",
        "    delta = (price_dS - original_price) / dS\n",
        "\n",
        "    # Simulation with increased volatility for Vega\n",
        "    ST_dSigma = S * np.exp((T - t) * (r - 0.5 * (sigma + dSigma)**2) + (sigma + dSigma) * np.sqrt(T - t) * z)\n",
        "    payoff_dSigma = np.maximum(K - ST_dSigma, 0)\n",
        "    price_dSigma = np.exp(-r * (T - t)) * np.mean(payoff_dSigma)\n",
        "    vega = (price_dSigma - original_price) / dSigma\n",
        "\n",
        "    return original_price, delta, vega"
      ]
    },
    {
      "cell_type": "code",
      "execution_count": 45,
      "metadata": {
        "id": "LeT1VNogQ-Aj"
      },
      "outputs": [],
      "source": [
        "call_price_mc, call_mc_delta, call_mc_vega = bs_call_gbm_mc(100, 100, 0.05, 0.20, 0.25, 0, 100000, 1.0, 0.05)"
      ]
    },
    {
      "cell_type": "code",
      "execution_count": 46,
      "metadata": {
        "id": "g8s6FmnbRGd4"
      },
      "outputs": [],
      "source": [
        "put_price_mc, put_mc_delta, put_mc_vega = bs_put_gbm_mc(100, 100, 0.05, 0.20, 0.25, 0, 100000, 1.0, 0.05)"
      ]
    },
    {
      "cell_type": "code",
      "execution_count": 47,
      "metadata": {
        "id": "df7cTQFNSND7",
        "colab": {
          "base_uri": "https://localhost:8080/",
          "height": 0
        },
        "outputId": "7d3f8e88-4455-4df1-911c-ea12c4ba24f4"
      },
      "outputs": [
        {
          "output_type": "stream",
          "name": "stdout",
          "text": [
            "European call option Delta under MC: 0.5882\n",
            "European put option Delta under MC: -0.4107\n",
            "European call Vega under MC: 19.5928\n",
            "European put Vega under MC: 19.6837\n"
          ]
        }
      ],
      "source": [
        "print(\"European call option Delta under MC:\", round(call_mc_delta,4))\n",
        "print(\"European put option Delta under MC:\", round(put_mc_delta,4))\n",
        "print(\"European call Vega under MC:\", round(call_mc_vega,4))\n",
        "print(\"European put Vega under MC:\", round(put_mc_vega,4))"
      ]
    },
    {
      "cell_type": "markdown",
      "source": [
        "**Q6a** The Greek delta of the European put option is negative(-0.43) whilst the call is positive(0.57).\n",
        "  Delta represents the sensitivity of the option's price to changes in the price of the underlying asset. It measures how the option's price is expected to change with respect to a small change in the price of the underlying asset. The delta of the call option is negative because call options gain value as the underlying asset's price increases. When there is an upward movement of price of the asset, the call option becomes more valuable. The delta of the put option is negative because put options gain value as the underlying asset's price decreases. When there is a decline in the price of the underlying asset of a put option, the put options become more valuable.\n",
        "A numerical value of delta ranges between 1 and -1. It quantifies the correlation coefficient between the price of options and their underlying assets' price. Call options have a positive delta value(positive correlation), while put options have a negative delta value(negative correlation). Delta proxy for a probability that the option will expire in the money or otherwise. For example, a call option with a delta value of 0.5 means that the probability of the option expiring in the money is 50%.\n"
      ],
      "metadata": {
        "id": "PmpVMjf7TjYa"
      }
    },
    {
      "cell_type": "markdown",
      "metadata": {
        "id": "SWX44unFXBNE"
      },
      "source": [
        "**Q7a** Option Price sensitivity as volatility increases from 20% to 25%"
      ]
    },
    {
      "cell_type": "code",
      "execution_count": 48,
      "metadata": {
        "id": "S7w4104sXOq7"
      },
      "outputs": [],
      "source": [
        "mc_bs_call_price_2 = bs_call_mc_daily(100, 100, 0.05, 0.25, 0.25, 0, 1000000)\n",
        "mc_bs_put_price_2 = bs_put_mc_daily(100, 100, 0.05, 0.25, 0.25, 0, 1000000)"
      ]
    },
    {
      "cell_type": "code",
      "execution_count": 49,
      "metadata": {
        "id": "b5G03_G5YC5t",
        "colab": {
          "base_uri": "https://localhost:8080/",
          "height": 0
        },
        "outputId": "030e7b78-2428-45f5-ddb4-611c09466c55"
      },
      "outputs": [
        {
          "output_type": "stream",
          "name": "stdout",
          "text": [
            "European call price when sigma is 25% under MC: 5.59\n",
            "European put price when sigma is 25% under MC: 4.35\n"
          ]
        }
      ],
      "source": [
        "print(\"European call price when sigma is 25% under MC:\", round(mc_bs_call_price_2,2))\n",
        "print(\"European put price when sigma is 25% under MC:\", round(mc_bs_put_price_2,2))"
      ]
    },
    {
      "cell_type": "markdown",
      "source": [
        "**Q7b** In the case of the call options, an increase in the volatility of the underlying asset increases the price of the underlying asset above the strike price making the option more valuable. It implies that higher volatility tends to increase the price of the call options.\n",
        "An increase in the volatility of the underlying asset in the case of put options, decreases the price of the underlying asset below the strike price, hence increasing the value of the put options. It implies that increased volatility tends to increase the price of put options.\n"
      ],
      "metadata": {
        "id": "zw27ntBHZ-GY"
      }
    },
    {
      "cell_type": "code",
      "source": [
        "from tabulate import tabulate\n",
        "\n",
        "# Prepare your data as a list of lists\n",
        "change_in_call_price = mc_bs_call_price_2 - call_price_mc\n",
        "change_in_put_price = mc_bs_put_price_2 - put_price_mc\n",
        "\n",
        "table_data = [\n",
        "    [\"5, 6 & 7\", \"Call\", \"European\", \"MC\", call_price_mc, call_mc_delta, call_mc_vega, change_in_call_price],\n",
        "    [\"5, 6 & 7\", \"Put\", \"European\", \"MC\", put_price_mc, put_mc_delta, put_mc_vega, change_in_put_price]\n",
        "]\n",
        "\n",
        "# Define the title for the table\n",
        "table_title = \"Summary of Results\"\n",
        "\n",
        "# Define the table headers\n",
        "headers = [\"Q #s\", \"Type\", \"Exer\", \"GWP 2 Method\", \"GWP2 Price\", \"Deltas\", \"Vega\", \"GWP2 Price Increase with 5% Increase in Volatility\"]\n",
        "\n",
        "# Format the table using tabulate\n",
        "table = tabulate(table_data, headers=headers, tablefmt=\"grid\")\n",
        "\n",
        "# Add the title above the table\n",
        "table_with_title = f\"{table_title}\\n\\n{table}\"\n",
        "\n",
        "# Print the formatted table\n",
        "print(table_with_title)"
      ],
      "metadata": {
        "colab": {
          "base_uri": "https://localhost:8080/",
          "height": 0
        },
        "id": "B4goae5v8__M",
        "outputId": "b7581fa0-d220-4f82-86db-67ea1ea9f6f7"
      },
      "execution_count": 50,
      "outputs": [
        {
          "output_type": "stream",
          "name": "stdout",
          "text": [
            "Summary of Results\n",
            "\n",
            "+----------+--------+----------+----------------+--------------+-----------+---------+------------------------------------------------------+\n",
            "| Q #s     | Type   | Exer     | GWP 2 Method   |   GWP2 Price |    Deltas |    Vega |   GWP2 Price Increase with 5% Increase in Volatility |\n",
            "+==========+========+==========+================+==============+===========+=========+======================================================+\n",
            "| 5, 6 & 7 | Call   | European | MC             |      4.59885 |  0.588217 | 19.5928 |                                             0.988913 |\n",
            "+----------+--------+----------+----------------+--------------+-----------+---------+------------------------------------------------------+\n",
            "| 5, 6 & 7 | Put    | European | MC             |      3.37724 | -0.410707 | 19.6837 |                                             0.977161 |\n",
            "+----------+--------+----------+----------------+--------------+-----------+---------+------------------------------------------------------+\n"
          ]
        }
      ]
    },
    {
      "cell_type": "markdown",
      "metadata": {
        "id": "I1aCGjDVnNqO"
      },
      "source": [
        "# 3. The following tasks will fall under team member C:\n",
        "\n",
        "# a. Checking that Put-Call parity is satisfied under both methods (BS and MC).."
      ]
    },
    {
      "cell_type": "markdown",
      "metadata": {
        "id": "SY5i5lBDnheK"
      },
      "source": [
        "## BS:\n",
        "The put-call parity formula is given by:\n",
        "\n",
        "$ C_0 = -Ke^{-rT} + S_0 + P_0 $\n",
        "\n",
        "From this, we can observe that:\n",
        "\n",
        "- $ C_0 = 4.61 $\n",
        "- $ -Ke^{-rT} = -98.76 $\n",
        "- $ S_0 = 100 $\n",
        "- $ P_0 = 3.37 $\n",
        "\n",
        "In other words, Put-Call parity is satisfied under Black-Scholes (BS) techniques, since $ C_0 = -Ke^{-rT} + S_0 + P_0 $.\n",
        "\n",
        "\n",
        "## MC:\n",
        "\n",
        "The put-call parity equation is given by:\n",
        "\n",
        "$C_0 = -Ke^{-rT} + S_0 + P_0 $\n",
        "\n",
        "As we can see from the given values:\n",
        "\n",
        "- $ C_0 = 4.57 $\n",
        "- $ -Ke^{-rT} = -98.76 $\n",
        "- $ S_0 = 100 $\n",
        "- $ P_0 = 3.37 $\n",
        "\n",
        "In other words, Put-Call parity is somewhat satisfied under Monte Carlo simulations if $ C_0 \\approx -Ke^{-rT} + S_0 + P_0 $.\n"
      ]
    },
    {
      "cell_type": "markdown",
      "metadata": {
        "id": "oIYylBUzpnFA"
      },
      "source": [
        "# b. Compare and discuss the prices obtained in both methods: do they converge? why/why not?\n",
        "\n",
        "The European Call prices obtained through both the Black-Scholes (BS) and Monte Carlo (MC) methods demonstrate convergence. This convergence indicates consistency in pricing European Call options using the two methods. The expectation, according to formal Put-Call parity, is that European Put prices should also converge. The convergence suggests that as the number of iterations or simulations increases in the Monte Carlo method, the results approach the theoretical values derived from the Black-Scholes model."
      ]
    },
    {
      "cell_type": "code",
      "execution_count": 51,
      "metadata": {
        "id": "P8s-riqOpMED",
        "colab": {
          "base_uri": "https://localhost:8080/",
          "height": 7521
        },
        "outputId": "0aeb9457-cabf-43a3-8367-ce31d316a767"
      },
      "outputs": [
        {
          "output_type": "stream",
          "name": "stderr",
          "text": [
            "<ipython-input-51-01536544f0e6>:35: FutureWarning: The frame.append method is deprecated and will be removed from pandas in a future version. Use pandas.concat instead.\n",
            "  df = df.append(\n",
            "<ipython-input-51-01536544f0e6>:35: FutureWarning: The frame.append method is deprecated and will be removed from pandas in a future version. Use pandas.concat instead.\n",
            "  df = df.append(\n",
            "<ipython-input-51-01536544f0e6>:35: FutureWarning: The frame.append method is deprecated and will be removed from pandas in a future version. Use pandas.concat instead.\n",
            "  df = df.append(\n",
            "<ipython-input-51-01536544f0e6>:35: FutureWarning: The frame.append method is deprecated and will be removed from pandas in a future version. Use pandas.concat instead.\n",
            "  df = df.append(\n",
            "<ipython-input-51-01536544f0e6>:35: FutureWarning: The frame.append method is deprecated and will be removed from pandas in a future version. Use pandas.concat instead.\n",
            "  df = df.append(\n",
            "<ipython-input-51-01536544f0e6>:35: FutureWarning: The frame.append method is deprecated and will be removed from pandas in a future version. Use pandas.concat instead.\n",
            "  df = df.append(\n",
            "<ipython-input-51-01536544f0e6>:35: FutureWarning: The frame.append method is deprecated and will be removed from pandas in a future version. Use pandas.concat instead.\n",
            "  df = df.append(\n",
            "<ipython-input-51-01536544f0e6>:35: FutureWarning: The frame.append method is deprecated and will be removed from pandas in a future version. Use pandas.concat instead.\n",
            "  df = df.append(\n",
            "<ipython-input-51-01536544f0e6>:35: FutureWarning: The frame.append method is deprecated and will be removed from pandas in a future version. Use pandas.concat instead.\n",
            "  df = df.append(\n",
            "<ipython-input-51-01536544f0e6>:35: FutureWarning: The frame.append method is deprecated and will be removed from pandas in a future version. Use pandas.concat instead.\n",
            "  df = df.append(\n",
            "<ipython-input-51-01536544f0e6>:35: FutureWarning: The frame.append method is deprecated and will be removed from pandas in a future version. Use pandas.concat instead.\n",
            "  df = df.append(\n",
            "<ipython-input-51-01536544f0e6>:35: FutureWarning: The frame.append method is deprecated and will be removed from pandas in a future version. Use pandas.concat instead.\n",
            "  df = df.append(\n",
            "<ipython-input-51-01536544f0e6>:35: FutureWarning: The frame.append method is deprecated and will be removed from pandas in a future version. Use pandas.concat instead.\n",
            "  df = df.append(\n",
            "<ipython-input-51-01536544f0e6>:35: FutureWarning: The frame.append method is deprecated and will be removed from pandas in a future version. Use pandas.concat instead.\n",
            "  df = df.append(\n",
            "<ipython-input-51-01536544f0e6>:35: FutureWarning: The frame.append method is deprecated and will be removed from pandas in a future version. Use pandas.concat instead.\n",
            "  df = df.append(\n",
            "<ipython-input-51-01536544f0e6>:35: FutureWarning: The frame.append method is deprecated and will be removed from pandas in a future version. Use pandas.concat instead.\n",
            "  df = df.append(\n",
            "<ipython-input-51-01536544f0e6>:35: FutureWarning: The frame.append method is deprecated and will be removed from pandas in a future version. Use pandas.concat instead.\n",
            "  df = df.append(\n",
            "<ipython-input-51-01536544f0e6>:35: FutureWarning: The frame.append method is deprecated and will be removed from pandas in a future version. Use pandas.concat instead.\n",
            "  df = df.append(\n",
            "<ipython-input-51-01536544f0e6>:35: FutureWarning: The frame.append method is deprecated and will be removed from pandas in a future version. Use pandas.concat instead.\n",
            "  df = df.append(\n",
            "<ipython-input-51-01536544f0e6>:35: FutureWarning: The frame.append method is deprecated and will be removed from pandas in a future version. Use pandas.concat instead.\n",
            "  df = df.append(\n",
            "<ipython-input-51-01536544f0e6>:35: FutureWarning: The frame.append method is deprecated and will be removed from pandas in a future version. Use pandas.concat instead.\n",
            "  df = df.append(\n",
            "<ipython-input-51-01536544f0e6>:35: FutureWarning: The frame.append method is deprecated and will be removed from pandas in a future version. Use pandas.concat instead.\n",
            "  df = df.append(\n",
            "<ipython-input-51-01536544f0e6>:35: FutureWarning: The frame.append method is deprecated and will be removed from pandas in a future version. Use pandas.concat instead.\n",
            "  df = df.append(\n",
            "<ipython-input-51-01536544f0e6>:35: FutureWarning: The frame.append method is deprecated and will be removed from pandas in a future version. Use pandas.concat instead.\n",
            "  df = df.append(\n",
            "<ipython-input-51-01536544f0e6>:35: FutureWarning: The frame.append method is deprecated and will be removed from pandas in a future version. Use pandas.concat instead.\n",
            "  df = df.append(\n",
            "<ipython-input-51-01536544f0e6>:35: FutureWarning: The frame.append method is deprecated and will be removed from pandas in a future version. Use pandas.concat instead.\n",
            "  df = df.append(\n",
            "<ipython-input-51-01536544f0e6>:35: FutureWarning: The frame.append method is deprecated and will be removed from pandas in a future version. Use pandas.concat instead.\n",
            "  df = df.append(\n",
            "<ipython-input-51-01536544f0e6>:35: FutureWarning: The frame.append method is deprecated and will be removed from pandas in a future version. Use pandas.concat instead.\n",
            "  df = df.append(\n",
            "<ipython-input-51-01536544f0e6>:35: FutureWarning: The frame.append method is deprecated and will be removed from pandas in a future version. Use pandas.concat instead.\n",
            "  df = df.append(\n",
            "<ipython-input-51-01536544f0e6>:35: FutureWarning: The frame.append method is deprecated and will be removed from pandas in a future version. Use pandas.concat instead.\n",
            "  df = df.append(\n",
            "<ipython-input-51-01536544f0e6>:35: FutureWarning: The frame.append method is deprecated and will be removed from pandas in a future version. Use pandas.concat instead.\n",
            "  df = df.append(\n",
            "<ipython-input-51-01536544f0e6>:35: FutureWarning: The frame.append method is deprecated and will be removed from pandas in a future version. Use pandas.concat instead.\n",
            "  df = df.append(\n",
            "<ipython-input-51-01536544f0e6>:35: FutureWarning: The frame.append method is deprecated and will be removed from pandas in a future version. Use pandas.concat instead.\n",
            "  df = df.append(\n",
            "<ipython-input-51-01536544f0e6>:35: FutureWarning: The frame.append method is deprecated and will be removed from pandas in a future version. Use pandas.concat instead.\n",
            "  df = df.append(\n",
            "<ipython-input-51-01536544f0e6>:35: FutureWarning: The frame.append method is deprecated and will be removed from pandas in a future version. Use pandas.concat instead.\n",
            "  df = df.append(\n",
            "<ipython-input-51-01536544f0e6>:35: FutureWarning: The frame.append method is deprecated and will be removed from pandas in a future version. Use pandas.concat instead.\n",
            "  df = df.append(\n",
            "<ipython-input-51-01536544f0e6>:35: FutureWarning: The frame.append method is deprecated and will be removed from pandas in a future version. Use pandas.concat instead.\n",
            "  df = df.append(\n",
            "<ipython-input-51-01536544f0e6>:35: FutureWarning: The frame.append method is deprecated and will be removed from pandas in a future version. Use pandas.concat instead.\n",
            "  df = df.append(\n",
            "<ipython-input-51-01536544f0e6>:35: FutureWarning: The frame.append method is deprecated and will be removed from pandas in a future version. Use pandas.concat instead.\n",
            "  df = df.append(\n",
            "<ipython-input-51-01536544f0e6>:35: FutureWarning: The frame.append method is deprecated and will be removed from pandas in a future version. Use pandas.concat instead.\n",
            "  df = df.append(\n",
            "<ipython-input-51-01536544f0e6>:35: FutureWarning: The frame.append method is deprecated and will be removed from pandas in a future version. Use pandas.concat instead.\n",
            "  df = df.append(\n",
            "<ipython-input-51-01536544f0e6>:35: FutureWarning: The frame.append method is deprecated and will be removed from pandas in a future version. Use pandas.concat instead.\n",
            "  df = df.append(\n",
            "<ipython-input-51-01536544f0e6>:35: FutureWarning: The frame.append method is deprecated and will be removed from pandas in a future version. Use pandas.concat instead.\n",
            "  df = df.append(\n",
            "<ipython-input-51-01536544f0e6>:35: FutureWarning: The frame.append method is deprecated and will be removed from pandas in a future version. Use pandas.concat instead.\n",
            "  df = df.append(\n",
            "<ipython-input-51-01536544f0e6>:35: FutureWarning: The frame.append method is deprecated and will be removed from pandas in a future version. Use pandas.concat instead.\n",
            "  df = df.append(\n",
            "<ipython-input-51-01536544f0e6>:35: FutureWarning: The frame.append method is deprecated and will be removed from pandas in a future version. Use pandas.concat instead.\n",
            "  df = df.append(\n",
            "<ipython-input-51-01536544f0e6>:35: FutureWarning: The frame.append method is deprecated and will be removed from pandas in a future version. Use pandas.concat instead.\n",
            "  df = df.append(\n",
            "<ipython-input-51-01536544f0e6>:35: FutureWarning: The frame.append method is deprecated and will be removed from pandas in a future version. Use pandas.concat instead.\n",
            "  df = df.append(\n",
            "<ipython-input-51-01536544f0e6>:35: FutureWarning: The frame.append method is deprecated and will be removed from pandas in a future version. Use pandas.concat instead.\n",
            "  df = df.append(\n",
            "<ipython-input-51-01536544f0e6>:35: FutureWarning: The frame.append method is deprecated and will be removed from pandas in a future version. Use pandas.concat instead.\n",
            "  df = df.append(\n",
            "<ipython-input-51-01536544f0e6>:35: FutureWarning: The frame.append method is deprecated and will be removed from pandas in a future version. Use pandas.concat instead.\n",
            "  df = df.append(\n",
            "<ipython-input-51-01536544f0e6>:35: FutureWarning: The frame.append method is deprecated and will be removed from pandas in a future version. Use pandas.concat instead.\n",
            "  df = df.append(\n",
            "<ipython-input-51-01536544f0e6>:35: FutureWarning: The frame.append method is deprecated and will be removed from pandas in a future version. Use pandas.concat instead.\n",
            "  df = df.append(\n",
            "<ipython-input-51-01536544f0e6>:35: FutureWarning: The frame.append method is deprecated and will be removed from pandas in a future version. Use pandas.concat instead.\n",
            "  df = df.append(\n",
            "<ipython-input-51-01536544f0e6>:35: FutureWarning: The frame.append method is deprecated and will be removed from pandas in a future version. Use pandas.concat instead.\n",
            "  df = df.append(\n",
            "<ipython-input-51-01536544f0e6>:35: FutureWarning: The frame.append method is deprecated and will be removed from pandas in a future version. Use pandas.concat instead.\n",
            "  df = df.append(\n",
            "<ipython-input-51-01536544f0e6>:35: FutureWarning: The frame.append method is deprecated and will be removed from pandas in a future version. Use pandas.concat instead.\n",
            "  df = df.append(\n",
            "<ipython-input-51-01536544f0e6>:35: FutureWarning: The frame.append method is deprecated and will be removed from pandas in a future version. Use pandas.concat instead.\n",
            "  df = df.append(\n",
            "<ipython-input-51-01536544f0e6>:35: FutureWarning: The frame.append method is deprecated and will be removed from pandas in a future version. Use pandas.concat instead.\n",
            "  df = df.append(\n",
            "<ipython-input-51-01536544f0e6>:35: FutureWarning: The frame.append method is deprecated and will be removed from pandas in a future version. Use pandas.concat instead.\n",
            "  df = df.append(\n",
            "<ipython-input-51-01536544f0e6>:35: FutureWarning: The frame.append method is deprecated and will be removed from pandas in a future version. Use pandas.concat instead.\n",
            "  df = df.append(\n",
            "<ipython-input-51-01536544f0e6>:35: FutureWarning: The frame.append method is deprecated and will be removed from pandas in a future version. Use pandas.concat instead.\n",
            "  df = df.append(\n",
            "<ipython-input-51-01536544f0e6>:35: FutureWarning: The frame.append method is deprecated and will be removed from pandas in a future version. Use pandas.concat instead.\n",
            "  df = df.append(\n",
            "<ipython-input-51-01536544f0e6>:35: FutureWarning: The frame.append method is deprecated and will be removed from pandas in a future version. Use pandas.concat instead.\n",
            "  df = df.append(\n",
            "<ipython-input-51-01536544f0e6>:35: FutureWarning: The frame.append method is deprecated and will be removed from pandas in a future version. Use pandas.concat instead.\n",
            "  df = df.append(\n",
            "<ipython-input-51-01536544f0e6>:35: FutureWarning: The frame.append method is deprecated and will be removed from pandas in a future version. Use pandas.concat instead.\n",
            "  df = df.append(\n",
            "<ipython-input-51-01536544f0e6>:35: FutureWarning: The frame.append method is deprecated and will be removed from pandas in a future version. Use pandas.concat instead.\n",
            "  df = df.append(\n",
            "<ipython-input-51-01536544f0e6>:35: FutureWarning: The frame.append method is deprecated and will be removed from pandas in a future version. Use pandas.concat instead.\n",
            "  df = df.append(\n",
            "<ipython-input-51-01536544f0e6>:35: FutureWarning: The frame.append method is deprecated and will be removed from pandas in a future version. Use pandas.concat instead.\n",
            "  df = df.append(\n",
            "<ipython-input-51-01536544f0e6>:35: FutureWarning: The frame.append method is deprecated and will be removed from pandas in a future version. Use pandas.concat instead.\n",
            "  df = df.append(\n",
            "<ipython-input-51-01536544f0e6>:35: FutureWarning: The frame.append method is deprecated and will be removed from pandas in a future version. Use pandas.concat instead.\n",
            "  df = df.append(\n",
            "<ipython-input-51-01536544f0e6>:35: FutureWarning: The frame.append method is deprecated and will be removed from pandas in a future version. Use pandas.concat instead.\n",
            "  df = df.append(\n",
            "<ipython-input-51-01536544f0e6>:35: FutureWarning: The frame.append method is deprecated and will be removed from pandas in a future version. Use pandas.concat instead.\n",
            "  df = df.append(\n",
            "<ipython-input-51-01536544f0e6>:35: FutureWarning: The frame.append method is deprecated and will be removed from pandas in a future version. Use pandas.concat instead.\n",
            "  df = df.append(\n",
            "<ipython-input-51-01536544f0e6>:35: FutureWarning: The frame.append method is deprecated and will be removed from pandas in a future version. Use pandas.concat instead.\n",
            "  df = df.append(\n",
            "<ipython-input-51-01536544f0e6>:35: FutureWarning: The frame.append method is deprecated and will be removed from pandas in a future version. Use pandas.concat instead.\n",
            "  df = df.append(\n",
            "<ipython-input-51-01536544f0e6>:35: FutureWarning: The frame.append method is deprecated and will be removed from pandas in a future version. Use pandas.concat instead.\n",
            "  df = df.append(\n",
            "<ipython-input-51-01536544f0e6>:35: FutureWarning: The frame.append method is deprecated and will be removed from pandas in a future version. Use pandas.concat instead.\n",
            "  df = df.append(\n",
            "<ipython-input-51-01536544f0e6>:35: FutureWarning: The frame.append method is deprecated and will be removed from pandas in a future version. Use pandas.concat instead.\n",
            "  df = df.append(\n",
            "<ipython-input-51-01536544f0e6>:35: FutureWarning: The frame.append method is deprecated and will be removed from pandas in a future version. Use pandas.concat instead.\n",
            "  df = df.append(\n",
            "<ipython-input-51-01536544f0e6>:35: FutureWarning: The frame.append method is deprecated and will be removed from pandas in a future version. Use pandas.concat instead.\n",
            "  df = df.append(\n",
            "<ipython-input-51-01536544f0e6>:35: FutureWarning: The frame.append method is deprecated and will be removed from pandas in a future version. Use pandas.concat instead.\n",
            "  df = df.append(\n",
            "<ipython-input-51-01536544f0e6>:35: FutureWarning: The frame.append method is deprecated and will be removed from pandas in a future version. Use pandas.concat instead.\n",
            "  df = df.append(\n",
            "<ipython-input-51-01536544f0e6>:35: FutureWarning: The frame.append method is deprecated and will be removed from pandas in a future version. Use pandas.concat instead.\n",
            "  df = df.append(\n",
            "<ipython-input-51-01536544f0e6>:35: FutureWarning: The frame.append method is deprecated and will be removed from pandas in a future version. Use pandas.concat instead.\n",
            "  df = df.append(\n",
            "<ipython-input-51-01536544f0e6>:35: FutureWarning: The frame.append method is deprecated and will be removed from pandas in a future version. Use pandas.concat instead.\n",
            "  df = df.append(\n",
            "<ipython-input-51-01536544f0e6>:35: FutureWarning: The frame.append method is deprecated and will be removed from pandas in a future version. Use pandas.concat instead.\n",
            "  df = df.append(\n",
            "<ipython-input-51-01536544f0e6>:35: FutureWarning: The frame.append method is deprecated and will be removed from pandas in a future version. Use pandas.concat instead.\n",
            "  df = df.append(\n",
            "<ipython-input-51-01536544f0e6>:35: FutureWarning: The frame.append method is deprecated and will be removed from pandas in a future version. Use pandas.concat instead.\n",
            "  df = df.append(\n",
            "<ipython-input-51-01536544f0e6>:35: FutureWarning: The frame.append method is deprecated and will be removed from pandas in a future version. Use pandas.concat instead.\n",
            "  df = df.append(\n",
            "<ipython-input-51-01536544f0e6>:35: FutureWarning: The frame.append method is deprecated and will be removed from pandas in a future version. Use pandas.concat instead.\n",
            "  df = df.append(\n",
            "<ipython-input-51-01536544f0e6>:35: FutureWarning: The frame.append method is deprecated and will be removed from pandas in a future version. Use pandas.concat instead.\n",
            "  df = df.append(\n",
            "<ipython-input-51-01536544f0e6>:35: FutureWarning: The frame.append method is deprecated and will be removed from pandas in a future version. Use pandas.concat instead.\n",
            "  df = df.append(\n",
            "<ipython-input-51-01536544f0e6>:35: FutureWarning: The frame.append method is deprecated and will be removed from pandas in a future version. Use pandas.concat instead.\n",
            "  df = df.append(\n",
            "<ipython-input-51-01536544f0e6>:35: FutureWarning: The frame.append method is deprecated and will be removed from pandas in a future version. Use pandas.concat instead.\n",
            "  df = df.append(\n",
            "<ipython-input-51-01536544f0e6>:35: FutureWarning: The frame.append method is deprecated and will be removed from pandas in a future version. Use pandas.concat instead.\n",
            "  df = df.append(\n",
            "<ipython-input-51-01536544f0e6>:35: FutureWarning: The frame.append method is deprecated and will be removed from pandas in a future version. Use pandas.concat instead.\n",
            "  df = df.append(\n",
            "<ipython-input-51-01536544f0e6>:35: FutureWarning: The frame.append method is deprecated and will be removed from pandas in a future version. Use pandas.concat instead.\n",
            "  df = df.append(\n",
            "<ipython-input-51-01536544f0e6>:35: FutureWarning: The frame.append method is deprecated and will be removed from pandas in a future version. Use pandas.concat instead.\n",
            "  df = df.append(\n",
            "<ipython-input-51-01536544f0e6>:35: FutureWarning: The frame.append method is deprecated and will be removed from pandas in a future version. Use pandas.concat instead.\n",
            "  df = df.append(\n",
            "<ipython-input-51-01536544f0e6>:35: FutureWarning: The frame.append method is deprecated and will be removed from pandas in a future version. Use pandas.concat instead.\n",
            "  df = df.append(\n",
            "<ipython-input-51-01536544f0e6>:35: FutureWarning: The frame.append method is deprecated and will be removed from pandas in a future version. Use pandas.concat instead.\n",
            "  df = df.append(\n",
            "<ipython-input-51-01536544f0e6>:35: FutureWarning: The frame.append method is deprecated and will be removed from pandas in a future version. Use pandas.concat instead.\n",
            "  df = df.append(\n",
            "<ipython-input-51-01536544f0e6>:35: FutureWarning: The frame.append method is deprecated and will be removed from pandas in a future version. Use pandas.concat instead.\n",
            "  df = df.append(\n",
            "<ipython-input-51-01536544f0e6>:35: FutureWarning: The frame.append method is deprecated and will be removed from pandas in a future version. Use pandas.concat instead.\n",
            "  df = df.append(\n",
            "<ipython-input-51-01536544f0e6>:35: FutureWarning: The frame.append method is deprecated and will be removed from pandas in a future version. Use pandas.concat instead.\n",
            "  df = df.append(\n",
            "<ipython-input-51-01536544f0e6>:35: FutureWarning: The frame.append method is deprecated and will be removed from pandas in a future version. Use pandas.concat instead.\n",
            "  df = df.append(\n",
            "<ipython-input-51-01536544f0e6>:35: FutureWarning: The frame.append method is deprecated and will be removed from pandas in a future version. Use pandas.concat instead.\n",
            "  df = df.append(\n",
            "<ipython-input-51-01536544f0e6>:35: FutureWarning: The frame.append method is deprecated and will be removed from pandas in a future version. Use pandas.concat instead.\n",
            "  df = df.append(\n",
            "<ipython-input-51-01536544f0e6>:35: FutureWarning: The frame.append method is deprecated and will be removed from pandas in a future version. Use pandas.concat instead.\n",
            "  df = df.append(\n",
            "<ipython-input-51-01536544f0e6>:35: FutureWarning: The frame.append method is deprecated and will be removed from pandas in a future version. Use pandas.concat instead.\n",
            "  df = df.append(\n",
            "<ipython-input-51-01536544f0e6>:35: FutureWarning: The frame.append method is deprecated and will be removed from pandas in a future version. Use pandas.concat instead.\n",
            "  df = df.append(\n",
            "<ipython-input-51-01536544f0e6>:35: FutureWarning: The frame.append method is deprecated and will be removed from pandas in a future version. Use pandas.concat instead.\n",
            "  df = df.append(\n",
            "<ipython-input-51-01536544f0e6>:35: FutureWarning: The frame.append method is deprecated and will be removed from pandas in a future version. Use pandas.concat instead.\n",
            "  df = df.append(\n",
            "<ipython-input-51-01536544f0e6>:35: FutureWarning: The frame.append method is deprecated and will be removed from pandas in a future version. Use pandas.concat instead.\n",
            "  df = df.append(\n",
            "<ipython-input-51-01536544f0e6>:35: FutureWarning: The frame.append method is deprecated and will be removed from pandas in a future version. Use pandas.concat instead.\n",
            "  df = df.append(\n",
            "<ipython-input-51-01536544f0e6>:35: FutureWarning: The frame.append method is deprecated and will be removed from pandas in a future version. Use pandas.concat instead.\n",
            "  df = df.append(\n",
            "<ipython-input-51-01536544f0e6>:35: FutureWarning: The frame.append method is deprecated and will be removed from pandas in a future version. Use pandas.concat instead.\n",
            "  df = df.append(\n",
            "<ipython-input-51-01536544f0e6>:35: FutureWarning: The frame.append method is deprecated and will be removed from pandas in a future version. Use pandas.concat instead.\n",
            "  df = df.append(\n",
            "<ipython-input-51-01536544f0e6>:35: FutureWarning: The frame.append method is deprecated and will be removed from pandas in a future version. Use pandas.concat instead.\n",
            "  df = df.append(\n",
            "<ipython-input-51-01536544f0e6>:35: FutureWarning: The frame.append method is deprecated and will be removed from pandas in a future version. Use pandas.concat instead.\n",
            "  df = df.append(\n",
            "<ipython-input-51-01536544f0e6>:35: FutureWarning: The frame.append method is deprecated and will be removed from pandas in a future version. Use pandas.concat instead.\n",
            "  df = df.append(\n",
            "<ipython-input-51-01536544f0e6>:35: FutureWarning: The frame.append method is deprecated and will be removed from pandas in a future version. Use pandas.concat instead.\n",
            "  df = df.append(\n",
            "<ipython-input-51-01536544f0e6>:35: FutureWarning: The frame.append method is deprecated and will be removed from pandas in a future version. Use pandas.concat instead.\n",
            "  df = df.append(\n",
            "<ipython-input-51-01536544f0e6>:35: FutureWarning: The frame.append method is deprecated and will be removed from pandas in a future version. Use pandas.concat instead.\n",
            "  df = df.append(\n",
            "<ipython-input-51-01536544f0e6>:35: FutureWarning: The frame.append method is deprecated and will be removed from pandas in a future version. Use pandas.concat instead.\n",
            "  df = df.append(\n",
            "<ipython-input-51-01536544f0e6>:35: FutureWarning: The frame.append method is deprecated and will be removed from pandas in a future version. Use pandas.concat instead.\n",
            "  df = df.append(\n",
            "<ipython-input-51-01536544f0e6>:35: FutureWarning: The frame.append method is deprecated and will be removed from pandas in a future version. Use pandas.concat instead.\n",
            "  df = df.append(\n",
            "<ipython-input-51-01536544f0e6>:35: FutureWarning: The frame.append method is deprecated and will be removed from pandas in a future version. Use pandas.concat instead.\n",
            "  df = df.append(\n",
            "<ipython-input-51-01536544f0e6>:35: FutureWarning: The frame.append method is deprecated and will be removed from pandas in a future version. Use pandas.concat instead.\n",
            "  df = df.append(\n",
            "<ipython-input-51-01536544f0e6>:35: FutureWarning: The frame.append method is deprecated and will be removed from pandas in a future version. Use pandas.concat instead.\n",
            "  df = df.append(\n",
            "<ipython-input-51-01536544f0e6>:35: FutureWarning: The frame.append method is deprecated and will be removed from pandas in a future version. Use pandas.concat instead.\n",
            "  df = df.append(\n",
            "<ipython-input-51-01536544f0e6>:35: FutureWarning: The frame.append method is deprecated and will be removed from pandas in a future version. Use pandas.concat instead.\n",
            "  df = df.append(\n",
            "<ipython-input-51-01536544f0e6>:35: FutureWarning: The frame.append method is deprecated and will be removed from pandas in a future version. Use pandas.concat instead.\n",
            "  df = df.append(\n",
            "<ipython-input-51-01536544f0e6>:35: FutureWarning: The frame.append method is deprecated and will be removed from pandas in a future version. Use pandas.concat instead.\n",
            "  df = df.append(\n",
            "<ipython-input-51-01536544f0e6>:35: FutureWarning: The frame.append method is deprecated and will be removed from pandas in a future version. Use pandas.concat instead.\n",
            "  df = df.append(\n",
            "<ipython-input-51-01536544f0e6>:35: FutureWarning: The frame.append method is deprecated and will be removed from pandas in a future version. Use pandas.concat instead.\n",
            "  df = df.append(\n",
            "<ipython-input-51-01536544f0e6>:35: FutureWarning: The frame.append method is deprecated and will be removed from pandas in a future version. Use pandas.concat instead.\n",
            "  df = df.append(\n",
            "<ipython-input-51-01536544f0e6>:35: FutureWarning: The frame.append method is deprecated and will be removed from pandas in a future version. Use pandas.concat instead.\n",
            "  df = df.append(\n",
            "<ipython-input-51-01536544f0e6>:35: FutureWarning: The frame.append method is deprecated and will be removed from pandas in a future version. Use pandas.concat instead.\n",
            "  df = df.append(\n",
            "<ipython-input-51-01536544f0e6>:35: FutureWarning: The frame.append method is deprecated and will be removed from pandas in a future version. Use pandas.concat instead.\n",
            "  df = df.append(\n",
            "<ipython-input-51-01536544f0e6>:35: FutureWarning: The frame.append method is deprecated and will be removed from pandas in a future version. Use pandas.concat instead.\n",
            "  df = df.append(\n",
            "<ipython-input-51-01536544f0e6>:35: FutureWarning: The frame.append method is deprecated and will be removed from pandas in a future version. Use pandas.concat instead.\n",
            "  df = df.append(\n",
            "<ipython-input-51-01536544f0e6>:35: FutureWarning: The frame.append method is deprecated and will be removed from pandas in a future version. Use pandas.concat instead.\n",
            "  df = df.append(\n",
            "<ipython-input-51-01536544f0e6>:35: FutureWarning: The frame.append method is deprecated and will be removed from pandas in a future version. Use pandas.concat instead.\n",
            "  df = df.append(\n",
            "<ipython-input-51-01536544f0e6>:35: FutureWarning: The frame.append method is deprecated and will be removed from pandas in a future version. Use pandas.concat instead.\n",
            "  df = df.append(\n",
            "<ipython-input-51-01536544f0e6>:35: FutureWarning: The frame.append method is deprecated and will be removed from pandas in a future version. Use pandas.concat instead.\n",
            "  df = df.append(\n",
            "<ipython-input-51-01536544f0e6>:35: FutureWarning: The frame.append method is deprecated and will be removed from pandas in a future version. Use pandas.concat instead.\n",
            "  df = df.append(\n",
            "<ipython-input-51-01536544f0e6>:35: FutureWarning: The frame.append method is deprecated and will be removed from pandas in a future version. Use pandas.concat instead.\n",
            "  df = df.append(\n",
            "<ipython-input-51-01536544f0e6>:35: FutureWarning: The frame.append method is deprecated and will be removed from pandas in a future version. Use pandas.concat instead.\n",
            "  df = df.append(\n",
            "<ipython-input-51-01536544f0e6>:35: FutureWarning: The frame.append method is deprecated and will be removed from pandas in a future version. Use pandas.concat instead.\n",
            "  df = df.append(\n",
            "<ipython-input-51-01536544f0e6>:35: FutureWarning: The frame.append method is deprecated and will be removed from pandas in a future version. Use pandas.concat instead.\n",
            "  df = df.append(\n",
            "<ipython-input-51-01536544f0e6>:35: FutureWarning: The frame.append method is deprecated and will be removed from pandas in a future version. Use pandas.concat instead.\n",
            "  df = df.append(\n",
            "<ipython-input-51-01536544f0e6>:35: FutureWarning: The frame.append method is deprecated and will be removed from pandas in a future version. Use pandas.concat instead.\n",
            "  df = df.append(\n",
            "<ipython-input-51-01536544f0e6>:35: FutureWarning: The frame.append method is deprecated and will be removed from pandas in a future version. Use pandas.concat instead.\n",
            "  df = df.append(\n",
            "<ipython-input-51-01536544f0e6>:35: FutureWarning: The frame.append method is deprecated and will be removed from pandas in a future version. Use pandas.concat instead.\n",
            "  df = df.append(\n",
            "<ipython-input-51-01536544f0e6>:35: FutureWarning: The frame.append method is deprecated and will be removed from pandas in a future version. Use pandas.concat instead.\n",
            "  df = df.append(\n",
            "<ipython-input-51-01536544f0e6>:35: FutureWarning: The frame.append method is deprecated and will be removed from pandas in a future version. Use pandas.concat instead.\n",
            "  df = df.append(\n",
            "<ipython-input-51-01536544f0e6>:35: FutureWarning: The frame.append method is deprecated and will be removed from pandas in a future version. Use pandas.concat instead.\n",
            "  df = df.append(\n",
            "<ipython-input-51-01536544f0e6>:35: FutureWarning: The frame.append method is deprecated and will be removed from pandas in a future version. Use pandas.concat instead.\n",
            "  df = df.append(\n",
            "<ipython-input-51-01536544f0e6>:35: FutureWarning: The frame.append method is deprecated and will be removed from pandas in a future version. Use pandas.concat instead.\n",
            "  df = df.append(\n",
            "<ipython-input-51-01536544f0e6>:35: FutureWarning: The frame.append method is deprecated and will be removed from pandas in a future version. Use pandas.concat instead.\n",
            "  df = df.append(\n",
            "<ipython-input-51-01536544f0e6>:35: FutureWarning: The frame.append method is deprecated and will be removed from pandas in a future version. Use pandas.concat instead.\n",
            "  df = df.append(\n",
            "<ipython-input-51-01536544f0e6>:35: FutureWarning: The frame.append method is deprecated and will be removed from pandas in a future version. Use pandas.concat instead.\n",
            "  df = df.append(\n",
            "<ipython-input-51-01536544f0e6>:35: FutureWarning: The frame.append method is deprecated and will be removed from pandas in a future version. Use pandas.concat instead.\n",
            "  df = df.append(\n",
            "<ipython-input-51-01536544f0e6>:35: FutureWarning: The frame.append method is deprecated and will be removed from pandas in a future version. Use pandas.concat instead.\n",
            "  df = df.append(\n",
            "<ipython-input-51-01536544f0e6>:35: FutureWarning: The frame.append method is deprecated and will be removed from pandas in a future version. Use pandas.concat instead.\n",
            "  df = df.append(\n",
            "<ipython-input-51-01536544f0e6>:35: FutureWarning: The frame.append method is deprecated and will be removed from pandas in a future version. Use pandas.concat instead.\n",
            "  df = df.append(\n",
            "<ipython-input-51-01536544f0e6>:35: FutureWarning: The frame.append method is deprecated and will be removed from pandas in a future version. Use pandas.concat instead.\n",
            "  df = df.append(\n",
            "<ipython-input-51-01536544f0e6>:35: FutureWarning: The frame.append method is deprecated and will be removed from pandas in a future version. Use pandas.concat instead.\n",
            "  df = df.append(\n",
            "<ipython-input-51-01536544f0e6>:35: FutureWarning: The frame.append method is deprecated and will be removed from pandas in a future version. Use pandas.concat instead.\n",
            "  df = df.append(\n",
            "<ipython-input-51-01536544f0e6>:35: FutureWarning: The frame.append method is deprecated and will be removed from pandas in a future version. Use pandas.concat instead.\n",
            "  df = df.append(\n",
            "<ipython-input-51-01536544f0e6>:35: FutureWarning: The frame.append method is deprecated and will be removed from pandas in a future version. Use pandas.concat instead.\n",
            "  df = df.append(\n",
            "<ipython-input-51-01536544f0e6>:35: FutureWarning: The frame.append method is deprecated and will be removed from pandas in a future version. Use pandas.concat instead.\n",
            "  df = df.append(\n",
            "<ipython-input-51-01536544f0e6>:35: FutureWarning: The frame.append method is deprecated and will be removed from pandas in a future version. Use pandas.concat instead.\n",
            "  df = df.append(\n",
            "<ipython-input-51-01536544f0e6>:35: FutureWarning: The frame.append method is deprecated and will be removed from pandas in a future version. Use pandas.concat instead.\n",
            "  df = df.append(\n",
            "<ipython-input-51-01536544f0e6>:35: FutureWarning: The frame.append method is deprecated and will be removed from pandas in a future version. Use pandas.concat instead.\n",
            "  df = df.append(\n",
            "<ipython-input-51-01536544f0e6>:35: FutureWarning: The frame.append method is deprecated and will be removed from pandas in a future version. Use pandas.concat instead.\n",
            "  df = df.append(\n",
            "<ipython-input-51-01536544f0e6>:35: FutureWarning: The frame.append method is deprecated and will be removed from pandas in a future version. Use pandas.concat instead.\n",
            "  df = df.append(\n",
            "<ipython-input-51-01536544f0e6>:35: FutureWarning: The frame.append method is deprecated and will be removed from pandas in a future version. Use pandas.concat instead.\n",
            "  df = df.append(\n",
            "<ipython-input-51-01536544f0e6>:35: FutureWarning: The frame.append method is deprecated and will be removed from pandas in a future version. Use pandas.concat instead.\n",
            "  df = df.append(\n",
            "<ipython-input-51-01536544f0e6>:35: FutureWarning: The frame.append method is deprecated and will be removed from pandas in a future version. Use pandas.concat instead.\n",
            "  df = df.append(\n",
            "<ipython-input-51-01536544f0e6>:35: FutureWarning: The frame.append method is deprecated and will be removed from pandas in a future version. Use pandas.concat instead.\n",
            "  df = df.append(\n",
            "<ipython-input-51-01536544f0e6>:35: FutureWarning: The frame.append method is deprecated and will be removed from pandas in a future version. Use pandas.concat instead.\n",
            "  df = df.append(\n",
            "<ipython-input-51-01536544f0e6>:35: FutureWarning: The frame.append method is deprecated and will be removed from pandas in a future version. Use pandas.concat instead.\n",
            "  df = df.append(\n",
            "<ipython-input-51-01536544f0e6>:35: FutureWarning: The frame.append method is deprecated and will be removed from pandas in a future version. Use pandas.concat instead.\n",
            "  df = df.append(\n",
            "<ipython-input-51-01536544f0e6>:35: FutureWarning: The frame.append method is deprecated and will be removed from pandas in a future version. Use pandas.concat instead.\n",
            "  df = df.append(\n",
            "<ipython-input-51-01536544f0e6>:35: FutureWarning: The frame.append method is deprecated and will be removed from pandas in a future version. Use pandas.concat instead.\n",
            "  df = df.append(\n",
            "<ipython-input-51-01536544f0e6>:35: FutureWarning: The frame.append method is deprecated and will be removed from pandas in a future version. Use pandas.concat instead.\n",
            "  df = df.append(\n",
            "<ipython-input-51-01536544f0e6>:35: FutureWarning: The frame.append method is deprecated and will be removed from pandas in a future version. Use pandas.concat instead.\n",
            "  df = df.append(\n",
            "<ipython-input-51-01536544f0e6>:35: FutureWarning: The frame.append method is deprecated and will be removed from pandas in a future version. Use pandas.concat instead.\n",
            "  df = df.append(\n",
            "<ipython-input-51-01536544f0e6>:35: FutureWarning: The frame.append method is deprecated and will be removed from pandas in a future version. Use pandas.concat instead.\n",
            "  df = df.append(\n",
            "<ipython-input-51-01536544f0e6>:35: FutureWarning: The frame.append method is deprecated and will be removed from pandas in a future version. Use pandas.concat instead.\n",
            "  df = df.append(\n",
            "<ipython-input-51-01536544f0e6>:35: FutureWarning: The frame.append method is deprecated and will be removed from pandas in a future version. Use pandas.concat instead.\n",
            "  df = df.append(\n",
            "<ipython-input-51-01536544f0e6>:35: FutureWarning: The frame.append method is deprecated and will be removed from pandas in a future version. Use pandas.concat instead.\n",
            "  df = df.append(\n",
            "<ipython-input-51-01536544f0e6>:35: FutureWarning: The frame.append method is deprecated and will be removed from pandas in a future version. Use pandas.concat instead.\n",
            "  df = df.append(\n",
            "<ipython-input-51-01536544f0e6>:35: FutureWarning: The frame.append method is deprecated and will be removed from pandas in a future version. Use pandas.concat instead.\n",
            "  df = df.append(\n",
            "<ipython-input-51-01536544f0e6>:35: FutureWarning: The frame.append method is deprecated and will be removed from pandas in a future version. Use pandas.concat instead.\n",
            "  df = df.append(\n",
            "<ipython-input-51-01536544f0e6>:35: FutureWarning: The frame.append method is deprecated and will be removed from pandas in a future version. Use pandas.concat instead.\n",
            "  df = df.append(\n",
            "<ipython-input-51-01536544f0e6>:35: FutureWarning: The frame.append method is deprecated and will be removed from pandas in a future version. Use pandas.concat instead.\n",
            "  df = df.append(\n"
          ]
        },
        {
          "output_type": "display_data",
          "data": {
            "text/plain": [
              "<Figure size 1000x800 with 1 Axes>"
            ],
            "image/png": "[encoded data removed]"
          },
          "metadata": {}
        }
      ],
      "source": [
        "def bs_call_mc(S, K, r, sigma, T, t, Ite):\n",
        "    data = np.zeros((Ite, 2))\n",
        "    z = np.random.normal(0, 1, [1, Ite])\n",
        "    ST = S * np.exp((T - t) * (r - 0.5 * sigma**2) + sigma * np.sqrt(T - t) * z)\n",
        "    data[:, 1] = ST - K\n",
        "\n",
        "    average = np.sum(np.amax(data, axis=1)) / float(Ite)\n",
        "\n",
        "    return np.exp(-r * (T - t)) * average\n",
        "\n",
        "def bs_call_price(S, r, sigma, t, T, K):\n",
        "    ttm = T - t\n",
        "\n",
        "    if ttm < 0:\n",
        "        return 0.0\n",
        "    elif ttm == 0.0:\n",
        "        return np.maximum(S - K, 0.0)\n",
        "\n",
        "    vol = sigma * np.sqrt(ttm)\n",
        "\n",
        "    d_minus = np.log(S / K) + (r - 0.5 * sigma**2) * ttm\n",
        "    d_minus /= vol\n",
        "\n",
        "    d_plus = d_minus + vol\n",
        "\n",
        "    res = S * norm.cdf(d_plus)\n",
        "    res -= K * np.exp(-r * ttm) * norm.cdf(d_minus)\n",
        "\n",
        "    return res\n",
        "\n",
        "df = pd.DataFrame(columns=[\"Iter\", \"BSc\"])\n",
        "\n",
        "\n",
        "for i in range(1, 100000, 500):\n",
        "    df = df.append(\n",
        "        {\"Iter\": i, \"BSc\": bs_call_mc(100, 100, 0.05, 0.2, 3/12, 0, i)}, ignore_index=True\n",
        "    )\n",
        "\n",
        "plt.figure(figsize=(10, 8))\n",
        "\n",
        "plt.hlines(\n",
        "    bs_call_price(100, 0.05, 0.2, 0, 3/12, 100),\n",
        "    xmin=0,\n",
        "    xmax=100000,\n",
        "    linestyle=\"dotted\",\n",
        "    colors=\"red\",\n",
        "    label=\"Analytical BS\",\n",
        ")\n",
        "plt.plot(df.set_index(\"Iter\"), lw=1.5, label=\"Monte Carlo\")\n",
        "\n",
        "plt.title(\"European Call, $S_0$=100, K=100\")\n",
        "plt.xlabel(\"Number of iterations\")\n",
        "plt.ylabel(\"Call Option price\")\n",
        "plt.ylim(\n",
        "    bs_call_price(100, 0.05, 0.2, 0, 3/12, 100) - 1,\n",
        "    bs_call_price(100, 0.05, 0.2, 0, 3/12, 100) + 1,\n",
        ")\n",
        "plt.legend();\n",
        "plt.show();"
      ]
    },
    {
      "cell_type": "markdown",
      "metadata": {
        "id": "r7Z-VdWDCcd1"
      },
      "source": [
        "# Step 2: In step 2, you will still work with the input data from questions from 5, 6, and 7 from GWP1, in this case for American derivatives. Specifically:\n",
        "\n",
        "**Team member A will repeat questions 5, 6, and 7 of GWP#1 using the\n",
        "Black-Scholes closed-form solution to price the different European Options. For\n",
        "Q7 on vega, you can use Black-Scholes closed-form solution.**"
      ]
    },
    {
      "cell_type": "markdown",
      "source": [
        "The estimated value of the option is represented by the calculated American Call option price of 17.99, which is based on the simulated stock price trajectories and hypothetical early exercise decisions. This figure is the average choice reward over all simulated routes. In the Monte Carlo method, a huge number of random price movements are generated by the Geometric Brownian Motion process. These price movements are then used to calculate the associated option payoffs at each time step. The program calculates the option value by taking into account the possibility of early activity and selects the optimal workout plan for each path (FinCampus Lecture Hall, 2013).\n",
        "\n"
      ],
      "metadata": {
        "id": "rUDP4MvxiAWU"
      }
    },
    {
      "cell_type": "code",
      "execution_count": 52,
      "metadata": {
        "id": "SP3to5dFCKqF"
      },
      "outputs": [],
      "source": [
        "def monte_carlo_american_call(S0, K, r, sigma, T, n_paths, n_steps):\n",
        "    dt = T / n_steps\n",
        "\n",
        "    # Generate random paths using GBM\n",
        "    paths = np.zeros((n_paths, n_steps + 1))\n",
        "    paths[:, 0] = S0\n",
        "\n",
        "    for i in range(1, n_steps + 1):\n",
        "        Z = np.random.normal(0, 1, n_paths)\n",
        "        paths[:, i] = paths[:, i - 1] * np.exp((r - 0.5 * sigma**2) * dt + sigma * np.sqrt(dt) * Z)\n",
        "\n",
        "    # Initialize option value matrix\n",
        "    option_values = np.maximum(paths[:, -1] - K, 0)\n",
        "\n",
        "    # Backward induction for American Call option\n",
        "    for i in range(n_steps - 1, 0, -1):\n",
        "        Z = np.random.normal(0, 1, n_paths)\n",
        "        discounted_cashflow = option_values * np.exp(-r * dt)\n",
        "        intrinsic_value = np.maximum(paths[:, i] - K, 0)\n",
        "        option_values = np.maximum(intrinsic_value, discounted_cashflow)\n",
        "\n",
        "    # Calculate option price\n",
        "    option_price = np.mean(option_values * np.exp(-r * dt))\n",
        "\n",
        "    return option_price"
      ]
    },
    {
      "cell_type": "code",
      "execution_count": 53,
      "metadata": {
        "id": "jdsP-f8nCs4O",
        "colab": {
          "base_uri": "https://localhost:8080/",
          "height": 0
        },
        "outputId": "1d2100c1-81dc-4967-d767-d33bc86b2216"
      },
      "outputs": [
        {
          "output_type": "stream",
          "name": "stdout",
          "text": [
            "With number of path =   1, the american call price is 8.43\n",
            "With number of path = 100, the american call price is 4.51\n",
            "With number of path = 1000, the american call price is 4.42\n",
            "With number of path = 10000, the american call price is 4.58\n",
            "With number of path = 20000, the american call price is 4.64\n",
            "With number of path = 30000, the american call price is 4.65\n",
            "With number of path = 40000, the american call price is 4.61\n",
            "With number of path = 50000, the american call price is 4.57\n",
            "With number of path = 100000, the american call price is 4.58\n"
          ]
        }
      ],
      "source": [
        "price_array_MC_call = []\n",
        "for N in [1, 100, 1000, 10000,20000, 30000, 40000, 50000, 100000]:\n",
        "    call_option_MC = monte_carlo_american_call(100, 100, 0.05, 0.2,0.25, N, 1)\n",
        "    price_array_MC_call.append(call_option_MC)\n",
        "    print(\"With number of path = {:3d}, the american call price is {:.2f}\".format(N, call_option_MC))"
      ]
    },
    {
      "cell_type": "markdown",
      "source": [
        "**Q5a** Using different numbers of paths, pricing an american call option with Monte Carlo methods will produce the following prices. The optimal number of paths convenient to achieve reliable estimates of the American call option's price is 10000, as the price converges to $4.65 from the 10000 th step and above"
      ],
      "metadata": {
        "id": "ghC_FkL6COr4"
      }
    },
    {
      "cell_type": "markdown",
      "source": [
        "**Q5b Briefly describe the overall process**:\n",
        "Monte Carlo simulation process for pricing an American Call option using a regular Geometric Brownian Motion process involving:\n",
        "\n",
        "\n",
        "*   Use the GBM process to generate random stock price paths. Each path is simulated over discrete time steps\n",
        "*   Calculate the option values at the maturity of the option by comparing the final stock prices (S) with the strike price (K)\n",
        "*   Iterate backward through the time steps. At each node, compare the intrinsic value with the discounted expected value of the option from the next time step to see which one has higher value\n",
        "*   Lastly, final option values are derived by taking the average and discounting it back to present value\n",
        "\n",
        "\n"
      ],
      "metadata": {
        "id": "OqNb3rDIFKBf"
      }
    },
    {
      "cell_type": "markdown",
      "source": [
        "**Q6a** Computing Delta of American Call option using Monte-Carlo method"
      ],
      "metadata": {
        "id": "C_CCrHsOt4YR"
      }
    },
    {
      "cell_type": "code",
      "execution_count": 54,
      "metadata": {
        "id": "38KNRi_kDe1P",
        "colab": {
          "base_uri": "https://localhost:8080/",
          "height": 0
        },
        "outputId": "e365acb6-29c2-4b85-a721-550da31a8898"
      },
      "outputs": [
        {
          "output_type": "stream",
          "name": "stdout",
          "text": [
            "Call option Delta using Monte Carlo methods is 0.57\n",
            "Call option Vega using Monte Carlo methods is 19.75\n"
          ]
        }
      ],
      "source": [
        "def mc_american_call_greeks(S, K, r, sigma, T, t, Ite, dS, dSigma):\n",
        "    dt = 1/252  # Daily time step\n",
        "    N = int((T - t) / dt)  # Number of steps until maturity\n",
        "    z = np.random.normal(0, 1, [N, Ite])\n",
        "\n",
        "    # Function for calculating price\n",
        "    def option_price(S, sigma):\n",
        "        ST = S\n",
        "        for i in range(N):\n",
        "            ST *= np.exp((r - 0.5 * sigma**2) * dt + sigma * np.sqrt(dt) * z[i])\n",
        "        payoff = np.maximum(ST - K, 0)\n",
        "        return np.exp(-r * (T - t)) * np.mean(payoff)\n",
        "\n",
        "    # Original price\n",
        "    original_price = option_price(S, sigma)\n",
        "\n",
        "    # Price for Delta calculation\n",
        "    price_delta = option_price(S + dS, sigma)\n",
        "    delta = (price_delta - original_price) / dS\n",
        "\n",
        "    # Price for Vega calculation\n",
        "    price_vega = option_price(S, sigma + dSigma)\n",
        "    vega = (price_vega - original_price) / dSigma\n",
        "\n",
        "    return original_price, delta, vega\n",
        "\n",
        "ame_call_price, ame_call_delta, ame_call_vega = mc_american_call_greeks(100,100,0.05,0.20,0.25,0,100000,0.0001,0.0001)\n",
        "print(\"Call option Delta using Monte Carlo methods is\",round(ame_call_delta,2) )\n",
        "print(\"Call option Vega using Monte Carlo methods is\",round(ame_call_vega,2))\n"
      ]
    },
    {
      "cell_type": "markdown",
      "source": [],
      "metadata": {
        "id": "Qy3IUOANtyiN"
      }
    },
    {
      "cell_type": "markdown",
      "source": [
        "**Q6b**\n",
        "*   Delta is the proxy for the sensitivity of the option's price to changes in the price of the underlying asset. It measures how the option's price is expected to change with respect to a small change in the price of the underlying asset. The delta of the call option is positive the call option and underlying asset move in the same direction. In this case, when underlyin asset moves by 1, the option price move in the same direction by 0.57.\n",
        "\n",
        "*   The prices of American call options increase with increased volatility of the underlying asset. An increase in the volatility of the underlying asset increases the probability of the option moving in the money. In this case, when volatility change by 1, the option value change by 19.64"
      ],
      "metadata": {
        "id": "bcKgqUFuCSI2"
      }
    },
    {
      "cell_type": "code",
      "execution_count": 55,
      "metadata": {
        "id": "L3VGQ1Oo5TOO",
        "colab": {
          "base_uri": "https://localhost:8080/",
          "height": 0
        },
        "outputId": "2e5f2e83-69c9-41c1-fe04-750eb7e057f9"
      },
      "outputs": [
        {
          "output_type": "stream",
          "name": "stdout",
          "text": [
            "American Call Price with 20% Volatility using MC: 4.63\n",
            "American Call Price with 25% Volatility using MC: 5.58\n"
          ]
        }
      ],
      "source": [
        "ame_call_price2 , ame_call_delta2 , ame_call_vega2 = mc_american_call_greeks(100, 100,\n",
        "                                                                                      0.05, 0.25, 0.25, 0,\n",
        "                                                                                      100000, 0.0001, 0.0001)\n",
        "print(\"American Call Price with 20% Volatility using MC:\", round(ame_call_price,2))\n",
        "print(\"American Call Price with 25% Volatility using MC:\", round(ame_call_price2,2))"
      ]
    },
    {
      "cell_type": "markdown",
      "source": [
        "As could be seen from the result, the call price with higher volatility has higher price"
      ],
      "metadata": {
        "id": "HMuV0xIdCZn-"
      }
    },
    {
      "cell_type": "markdown",
      "metadata": {
        "id": "I9yF2TLNgmSR"
      },
      "source": [
        "**Step2 Q5**\n",
        "\n",
        "Pricing American put option and determining its sensitivity to Delta and Vega using Monte-Carlo under general GBM process.\n",
        "\n",
        "**Q5a**: Choosing the number of simulation convenient\n",
        "\n",
        "We considered 100,000 number of paths for the simulation because it is large enough to ensure accurate estimate for the true value of option"
      ]
    },
    {
      "cell_type": "code",
      "execution_count": 56,
      "metadata": {
        "id": "C_pVj9ICixOh",
        "colab": {
          "base_uri": "https://localhost:8080/",
          "height": 0
        },
        "outputId": "243a3eea-bdbc-4108-c88f-f74d48ba346c"
      },
      "outputs": [
        {
          "output_type": "stream",
          "name": "stdout",
          "text": [
            "American Put Price: 3.39\n",
            "Delta: -0.43\n",
            "Vega: 19.71\n"
          ]
        }
      ],
      "source": [
        "def mc_american_put_greeks(S, K, r, sigma, T, t, Ite, dS, dSigma):\n",
        "    np.random.seed(42)\n",
        "    dt = 1/252  # Daily time step\n",
        "    N = int((T - t) / dt)  # Number of steps until maturity\n",
        "    z = np.random.normal(0, 1, [N, Ite])\n",
        "\n",
        "    # Function for calculating price\n",
        "    def option_price(S, sigma):\n",
        "        ST = S\n",
        "        for i in range(N):\n",
        "            ST *= np.exp((r - 0.5 * sigma**2) * dt + sigma * np.sqrt(dt) * z[i])\n",
        "        payoff = np.maximum(K - ST, 0)\n",
        "        return np.exp(-r * (T - t)) * np.mean(payoff)\n",
        "\n",
        "    # Original price\n",
        "    original_price = option_price(S, sigma)\n",
        "\n",
        "    # Price for Delta calculation\n",
        "    price_delta = option_price(S + dS, sigma)\n",
        "    delta = (price_delta - original_price) / dS\n",
        "\n",
        "    # Price for Vega calculation\n",
        "    price_vega = option_price(S, sigma + dSigma)\n",
        "    vega = (price_vega - original_price) / dSigma\n",
        "\n",
        "    return original_price, delta, vega\n",
        "\n",
        "# Parameters given for the American put option\n",
        "S = 100  # Current stock price\n",
        "K = 100  # Strike price\n",
        "r = 0.05  # Risk-free rate\n",
        "sigma = 0.2  # Volatility\n",
        "T = 0.25  # Time to maturity\n",
        "t = 0  # Current time\n",
        "Ite = 1000000  # Number of iterations\n",
        "dS = 0.01  # Small change in stock price\n",
        "dSigma = 0.01  # Small change in volatility\n",
        "\n",
        "# Calculate price, delta, and vega\n",
        "amer_put_price, amer_put_delta, amer_put_vega = mc_american_put_greeks(S, K, r, sigma, T, t, Ite, dS, dSigma)\n",
        "print(\"American Put Price:\", round(amer_put_price,2))\n",
        "print(\"Delta:\", round(amer_put_delta,2))\n",
        "print(\"Vega:\", round(amer_put_vega,2))"
      ]
    },
    {
      "cell_type": "markdown",
      "source": [
        "**Q5b**\n",
        "We set our parameters of GBM mode: Initial stock price, risk-free rate, volatility of the underlying stock price, time to expiration, and the number time steps. The random paths are then generated for the underlying stock price using the GBM stochastic differential equation for each path. The Call and put option payoff are then calculated back to the present value using the discount risk-free interest rate. The discounted payoff is then averaged across all simulated paths.\n",
        "\n",
        "**Q6a** The Greek delta of the American put option is negative(-0.43) using Monte-Carlo pricing framework.  Delta represents the sensitivity of the option's price to changes in the price of the underlying asset. It measures how the option's price is expected to change with respect to a small change in the price of the underlying asset. The delta of the call option is positive because call options gain value as the underlying asset's price increases. When there is an upward movement of price of the asset, the call option becomes more valuable. The delta of the put option is negative because put options gain value as the underlying asset's price decreases. When there is a decline in the price of the underlying asset of a put option, the put options become more valuable.\n",
        "A numerical value of delta ranges between 1 and -1. It quantifies the correlation coefficient between the price of options and their underlying assets' price. Call options have a positive delta value(positive correlation), while put options have a negative delta value(negative correlation). Delta proxy for a probability that the option will expire in the money or otherwise. For example, an American put option with a delta value of -0.4 means that the probability of the option expiring in the money is 40%.\n"
      ],
      "metadata": {
        "id": "vz4rxXf747k-"
      }
    },
    {
      "cell_type": "markdown",
      "source": [],
      "metadata": {
        "id": "NR2ROK-C5vHo"
      }
    },
    {
      "cell_type": "markdown",
      "source": [
        "**Q7a** Price change with respect to change in underlying volatility."
      ],
      "metadata": {
        "id": "BCgZfi5XAeJR"
      }
    },
    {
      "cell_type": "code",
      "execution_count": 57,
      "metadata": {
        "id": "Y2kMRRIHsQ9G"
      },
      "outputs": [],
      "source": [
        "#sensitivity of American Call to change in volatility from 20% to 25%\n",
        "\n",
        "amer_put_price_2, amer_put_delta_2, amer_put_vega_2 = mc_american_put_greeks(100, 100,\n",
        "                                                                                      0.05, 0.25, 0.25, 0,\n",
        "                                                                                      1000000, 0.01, 0.01)"
      ]
    },
    {
      "cell_type": "code",
      "execution_count": 58,
      "metadata": {
        "id": "RkBTrfwysZnH",
        "colab": {
          "base_uri": "https://localhost:8080/",
          "height": 0
        },
        "outputId": "93336f9d-21bc-46a1-93cd-09f73252b0c5"
      },
      "outputs": [
        {
          "output_type": "stream",
          "name": "stdout",
          "text": [
            "American Put Price with 20% Volatility using MC: 3.39\n",
            "American Put Price with 25% Volatility using MC: 4.37\n"
          ]
        }
      ],
      "source": [
        "print(\"American Put Price with 20% Volatility using MC:\", round(amer_put_price,2))\n",
        "print(\"American Put Price with 25% Volatility using MC:\", round(amer_put_price_2,2))"
      ]
    },
    {
      "cell_type": "markdown",
      "source": [
        "**Q7b**\n",
        "An increase in the volatility of the underlying asset in the case of the American put options, decreases the price of the underlying asset below the strike price, hence increasing the value of the put options. It implies that increased volatility tends to increase the price of put options.\n"
      ],
      "metadata": {
        "id": "8jzEx_Sr8J4R"
      }
    },
    {
      "cell_type": "markdown",
      "source": [
        "# Team member C will take as input the code from team members for the previous 2 questions and use it to\n",
        "\n",
        "**a. Under Monte-Carlo simulation for daily time-steps, repeat questions 15 and 16 from GWP1 (i.e., price options for different levels of moneyness for American Calls and Puts)**\n",
        "\n"
      ],
      "metadata": {
        "id": "Cs2CcsimKqd8"
      }
    },
    {
      "cell_type": "markdown",
      "source": [
        "## American Call option:"
      ],
      "metadata": {
        "id": "qLSDjpLrLp7G"
      }
    },
    {
      "cell_type": "code",
      "source": [
        "# American Call\n",
        "S = 100\n",
        "r = 0.05\n",
        "sigma = 0.20\n",
        "T = 3 / 12\n",
        "N = 90\n",
        "M = 100000\n",
        "\n",
        "moneyness = [0.90, 0.95, 1.00, 1.05, 1.10]\n",
        "strikes = [S0 * m for m in moneyness]\n",
        "\n",
        "option_prices = []\n",
        "\n",
        "for K in strikes:\n",
        "    np.random.seed(42)\n",
        "    rand_numbers = np.random.normal(size=(M, N))\n",
        "\n",
        "    # Calculate daily returns\n",
        "    daily_returns = np.exp((r - 0.5 * sigma ** 2) * (1 / N) + sigma * np.sqrt(1 / N) * rand_numbers)\n",
        "\n",
        "    # Create stock price paths\n",
        "    stock_paths = np.zeros((M, N + 1))\n",
        "    stock_paths[:, 0] = S0\n",
        "    for i in range(1, N + 1):\n",
        "        stock_paths[:, i] = stock_paths[:, i - 1] * daily_returns[:, i - 1]\n",
        "\n",
        "    call_payoffs = np.maximum(stock_paths - K, 0)\n",
        "\n",
        "    # Initialize option value arrays\n",
        "    call_values = np.zeros((M, N + 1))\n",
        "    call_values[:, -1] = call_payoffs[:, -1]\n",
        "\n",
        "    # Calculate option values at each time step using backward induction\n",
        "    for i in range(N - 1, -1, -1):\n",
        "        intrinsic_value = np.maximum(stock_paths[:, i] - K, 0)\n",
        "        discounted_future_values = np.exp(-r * (1 / N)) * call_values[:, i + 1]\n",
        "        early_exercise_value = np.maximum(intrinsic_value, discounted_future_values)\n",
        "        call_values[:, i] = np.where(intrinsic_value > discounted_future_values, intrinsic_value, early_exercise_value)\n",
        "\n",
        "    option_price = call_values[:, 0].mean()\n",
        "    option_prices.append(option_price)\n",
        "    print(f\"Monte Carlo American Call Option Price for Strike {K:.2f}: {option_price:.2f}\")\n",
        "\n",
        "print(\"Option Prices for Different Strikes:\", [f\"{price:.2f}\" for price in option_prices])\n"
      ],
      "metadata": {
        "colab": {
          "base_uri": "https://localhost:8080/",
          "height": 0
        },
        "id": "0--MOuFwLDlX",
        "outputId": "6af25db5-780d-4819-cb73-38e0ccc760da"
      },
      "execution_count": 59,
      "outputs": [
        {
          "output_type": "stream",
          "name": "stdout",
          "text": [
            "Monte Carlo American Call Option Price for Strike 90.00: 27.78\n",
            "Monte Carlo American Call Option Price for Strike 95.00: 22.91\n",
            "Monte Carlo American Call Option Price for Strike 100.00: 18.05\n",
            "Monte Carlo American Call Option Price for Strike 105.00: 13.79\n",
            "Monte Carlo American Call Option Price for Strike 110.00: 10.32\n",
            "Option Prices for Different Strikes: ['27.78', '22.91', '18.05', '13.79', '10.32']\n"
          ]
        }
      ]
    },
    {
      "cell_type": "markdown",
      "source": [
        "## American Put Price"
      ],
      "metadata": {
        "id": "iI380JWCMERQ"
      }
    },
    {
      "cell_type": "code",
      "source": [
        "import numpy as np\n",
        "\n",
        "def mc_american_put_option_prices(S0, r, sigma, M, N, moneyness):\n",
        "    \"\"\"\n",
        "    Function to estimate American put option prices using Monte Carlo simulation.\n",
        "\n",
        "    Parameters:\n",
        "    - S0: Initial stock price\n",
        "    - r: Risk-free rate\n",
        "    - sigma: Volatility\n",
        "    - M: Number of simulations\n",
        "    - N: Number of time steps\n",
        "    - moneyness: List of moneyness values for different strikes\n",
        "\n",
        "    Returns:\n",
        "    - option_prices: List of estimated American put option prices for different strikes\n",
        "    \"\"\"\n",
        "\n",
        "    option_prices = []  # To store option prices for different strikes\n",
        "\n",
        "    for m in moneyness:\n",
        "        K = S0 * m  # Calculate strike for the given moneyness\n",
        "\n",
        "        # Generate random price movements\n",
        "        np.random.seed(42)\n",
        "        rand_numbers = np.random.normal(size=(M, N))\n",
        "\n",
        "        # Calculate daily returns\n",
        "        daily_returns = np.exp((r - 0.5 * sigma ** 2) * (1 / N) + sigma * np.sqrt(1 / N) * rand_numbers)\n",
        "\n",
        "        # Create stock price paths\n",
        "        stock_paths = np.zeros((M, N + 1))\n",
        "        stock_paths[:, 0] = S0\n",
        "        for i in range(1, N + 1):\n",
        "            stock_paths[:, i] = stock_paths[:, i - 1] * daily_returns[:, i - 1]\n",
        "\n",
        "        # Calculate option payoffs at each time step for put options\n",
        "        put_payoffs = np.maximum(K - stock_paths, 0)\n",
        "\n",
        "        # Initialize option value arrays\n",
        "        put_values = np.zeros((M, N + 1))\n",
        "        put_values[:, -1] = put_payoffs[:, -1]\n",
        "\n",
        "        # Calculate option values at each time step using backward induction\n",
        "        for i in range(N - 1, -1, -1):\n",
        "            intrinsic_value = np.maximum(K - stock_paths[:, i], 0)\n",
        "            discounted_future_values = np.exp(-r * (1 / N)) * put_values[:, i + 1]\n",
        "            early_exercise_value = np.maximum(intrinsic_value, discounted_future_values)\n",
        "            put_values[:, i] = np.where(intrinsic_value > discounted_future_values, intrinsic_value, early_exercise_value)\n",
        "\n",
        "        option_price = put_values[:, 0].mean()\n",
        "        option_prices.append(option_price)\n",
        "        print(f\"Monte Carlo American Put Option Price for Moneyness {m:.2f}: {option_price:.2f}\")\n",
        "\n",
        "    return option_prices\n",
        "\n",
        "moneyness_values = [0.90, 0.95, 1.00, 1.05, 1.10]\n",
        "\n",
        "option_prices_result = mc_american_put_option_prices(S0, r, sigma, M, N, moneyness_values)\n",
        "print(\"Option Prices for Different Moneyness Values:\", [f\"{price:.2f}\" for price in option_prices_result])\n"
      ],
      "metadata": {
        "colab": {
          "base_uri": "https://localhost:8080/",
          "height": 0
        },
        "id": "OVllWOSdMJnj",
        "outputId": "4e710c6c-2b4d-4484-8ab1-b9832d176c0e"
      },
      "execution_count": 60,
      "outputs": [
        {
          "output_type": "stream",
          "name": "stdout",
          "text": [
            "Monte Carlo American Put Option Price for Moneyness 0.90: 4.57\n",
            "Monte Carlo American Put Option Price for Moneyness 0.95: 7.51\n",
            "Monte Carlo American Put Option Price for Moneyness 1.00: 11.53\n",
            "Monte Carlo American Put Option Price for Moneyness 1.05: 16.42\n",
            "Monte Carlo American Put Option Price for Moneyness 1.10: 21.31\n",
            "Option Prices for Different Moneyness Values: ['4.57', '7.51', '11.53', '16.42', '21.31']\n"
          ]
        }
      ]
    },
    {
      "cell_type": "code",
      "source": [
        "from tabulate import tabulate\n",
        "\n",
        "table_data = [\n",
        "    [\"6\", \"Call\", \"American\", \"Monte Carlo with regular GBM process and daily simulations\", \"90.00\",\"27.74\"],\n",
        "    [\"6\", \"Call\", \"American\", \"Monte Carlo with regular GBM process and daily simulations\", \"95.00\",\"22.86\"],\n",
        "    [\"6\", \"Call\", \"American\", \"Monte Carlo with regular GBM process and daily simulations\", \"100.00\",\"17.99\"],\n",
        "    [\"6\", \"Call\", \"American\", \"Monte Carlo with regular GBM process and daily simulations\", \"105.00\",\"13.75\"],\n",
        "    [\"6\", \"Call\", \"American\", \"Monte Carlo with regular GBM process and daily simulations\", \"110.00\",\"10.27\"]\n",
        "]\n",
        "\n",
        "title = \"Summary of Results\"\n",
        "\n",
        "header = [\"Q #s\", \"Type\", \"Exer\", \"GWP 2 Method\",  \"strike\",\"GWP2 Price\"]\n",
        "\n",
        "table = tabulate(table_data, headers=header, tablefmt=\"grid\")\n",
        "table_title = f\"{title}\\n\\n{table}\"\n",
        "\n",
        "print(table_title)"
      ],
      "metadata": {
        "colab": {
          "base_uri": "https://localhost:8080/",
          "height": 0
        },
        "id": "vvbiPQY6M3Pv",
        "outputId": "b397961a-2d99-40dc-eac0-8a3c91be48dc"
      },
      "execution_count": 61,
      "outputs": [
        {
          "output_type": "stream",
          "name": "stdout",
          "text": [
            "Summary of Results\n",
            "\n",
            "+--------+--------+----------+------------------------------------------------------------+----------+--------------+\n",
            "|   Q #s | Type   | Exer     | GWP 2 Method                                               |   strike |   GWP2 Price |\n",
            "+========+========+==========+============================================================+==========+==============+\n",
            "|      6 | Call   | American | Monte Carlo with regular GBM process and daily simulations |       90 |        27.74 |\n",
            "+--------+--------+----------+------------------------------------------------------------+----------+--------------+\n",
            "|      6 | Call   | American | Monte Carlo with regular GBM process and daily simulations |       95 |        22.86 |\n",
            "+--------+--------+----------+------------------------------------------------------------+----------+--------------+\n",
            "|      6 | Call   | American | Monte Carlo with regular GBM process and daily simulations |      100 |        17.99 |\n",
            "+--------+--------+----------+------------------------------------------------------------+----------+--------------+\n",
            "|      6 | Call   | American | Monte Carlo with regular GBM process and daily simulations |      105 |        13.75 |\n",
            "+--------+--------+----------+------------------------------------------------------------+----------+--------------+\n",
            "|      6 | Call   | American | Monte Carlo with regular GBM process and daily simulations |      110 |        10.27 |\n",
            "+--------+--------+----------+------------------------------------------------------------+----------+--------------+\n"
          ]
        }
      ]
    },
    {
      "cell_type": "code",
      "source": [
        "table_data = [\n",
        "    [\"6\", \"Put\", \"American\", \"Monte Carlo with regular GBM process and daily simulations\", \"90.00\",\"4.65\"],\n",
        "    [\"6\", \"Put\", \"American\", \"Monte Carlo with regular GBM process and daily simulations\", \"95.00\",\"7.61\"],\n",
        "    [\"6\", \"Put\", \"American\", \"Monte Carlo with regular GBM process and daily simulations\", \"100.00\",\"11.65\"],\n",
        "    [\"6\", \"Put\", \"American\", \"Monte Carlo with regular GBM process and daily simulations\", \"105.00\",\"16.54\"],\n",
        "    [\"6\", \"Put\", \"American\", \"Monte Carlo with regular GBM process and daily simulations\", \"110.00\",\"21.42\"]\n",
        "]\n",
        "\n",
        "title = \"Summary of Results\"\n",
        "\n",
        "header= [\"Q #s\", \"Type\", \"Exer\", \"GWP 2 Method\",  \"strike\",\"GWP2 Price\"]\n",
        "\n",
        "table = tabulate(table_data, headers=header, tablefmt=\"grid\")\n",
        "\n",
        "table_title = f\"{title}\\n\\n{table}\"\n",
        "\n",
        "print(table_title)"
      ],
      "metadata": {
        "colab": {
          "base_uri": "https://localhost:8080/",
          "height": 0
        },
        "id": "fq29v6vCNJA-",
        "outputId": "628933e0-e9ae-4103-f08a-3666de879017"
      },
      "execution_count": 62,
      "outputs": [
        {
          "output_type": "stream",
          "name": "stdout",
          "text": [
            "Summary of Results\n",
            "\n",
            "+--------+--------+----------+------------------------------------------------------------+----------+--------------+\n",
            "|   Q #s | Type   | Exer     | GWP 2 Method                                               |   strike |   GWP2 Price |\n",
            "+========+========+==========+============================================================+==========+==============+\n",
            "|      6 | Put    | American | Monte Carlo with regular GBM process and daily simulations |       90 |         4.65 |\n",
            "+--------+--------+----------+------------------------------------------------------------+----------+--------------+\n",
            "|      6 | Put    | American | Monte Carlo with regular GBM process and daily simulations |       95 |         7.61 |\n",
            "+--------+--------+----------+------------------------------------------------------------+----------+--------------+\n",
            "|      6 | Put    | American | Monte Carlo with regular GBM process and daily simulations |      100 |        11.65 |\n",
            "+--------+--------+----------+------------------------------------------------------------+----------+--------------+\n",
            "|      6 | Put    | American | Monte Carlo with regular GBM process and daily simulations |      105 |        16.54 |\n",
            "+--------+--------+----------+------------------------------------------------------------+----------+--------------+\n",
            "|      6 | Put    | American | Monte Carlo with regular GBM process and daily simulations |      110 |        21.42 |\n",
            "+--------+--------+----------+------------------------------------------------------------+----------+--------------+\n"
          ]
        }
      ]
    },
    {
      "cell_type": "markdown",
      "source": [
        "**b. Graph the relationship between option price and moneyness for call and put (i.e., 2 different graphs).**"
      ],
      "metadata": {
        "id": "TNd2aBqfNoAB"
      }
    },
    {
      "cell_type": "code",
      "source": [
        "american_call_prices = [27.74, 22.86, 17.99, 13.75, 10.27]\n",
        "\n",
        "# Sample data for American Put Option\n",
        "american_put_prices = [4.65, 7.61, 11.65, 16.54, 21.42]\n",
        "\n",
        "Strike = [90, 95, 100, 105, 110]\n",
        "\n",
        "# Plotting American Call Option Prices\n",
        "plt.figure(figsize=(12, 4))\n",
        "\n",
        "plt.subplot(1, 2, 1)\n",
        "plt.plot(Strike, american_call_prices, label='American Call')\n",
        "plt.xlabel('Strike')\n",
        "plt.ylabel('Option Price')\n",
        "plt.title('American Call Option Prices vs Strike')\n",
        "plt.legend()\n",
        "plt.grid(True)\n",
        "\n",
        "# Plotting American Put Option Prices\n",
        "plt.subplot(1, 2, 2)\n",
        "plt.plot(Strike, american_put_prices, label='American Put')\n",
        "plt.xlabel('Strike')\n",
        "plt.ylabel('Option Price')\n",
        "plt.title('American Put Option Prices vs Strike')\n",
        "plt.legend()\n",
        "plt.grid(True)\n",
        "\n",
        "plt.tight_layout()\n",
        "plt.show()"
      ],
      "metadata": {
        "colab": {
          "base_uri": "https://localhost:8080/",
          "height": 407
        },
        "id": "X5ct7QL3UWac",
        "outputId": "ae30bee1-91ba-4f27-c12b-7be328b5b506"
      },
      "execution_count": 64,
      "outputs": [
        {
          "output_type": "display_data",
          "data": {
            "text/plain": [
              "<Figure size 1200x400 with 2 Axes>"
            ],
            "image/png": "[encoded data removed]"
          },
          "metadata": {}
        }
      ]
    },
    {
      "cell_type": "markdown",
      "metadata": {
        "id": "GsFvkKTDMY4r"
      },
      "source": [
        "# STEP 3\n",
        "\n",
        "## Team member A will work with European options with same characteristics as GWP1 under different levels of moneyness:\n",
        "\n",
        "**a. Price an European Call option with 110% moneyness and an European Put with 95% moneyness using Black-Scholes. Both have 3 months maturity.**\n",
        "\n",
        "The Black-Scholes model pricing results for a European Call option with 110% moneyness and a European Put option with 95% moneyness are $\\$1.19$ and $\\$1.53$, respectively. This implies that there is a relative cost difference between the Call and Put options. The inherent characteristics of options account for this pricing discrepancy. The right to purchase the underlying asset at a certain price is granted by a call option, which is more valuable when an increase in the asset's price is anticipated. On the other hand, a put option is more beneficial when the asset's price is expected to decline because it enables the holder to sell the asset at a predetermined price.\n",
        "\n",
        "The calculated deltas of 0.22 for the call option and -0.25 for the put option corroborate this observation. The positive delta of the call option indicates a positive correlation with the price movement of the underlying stock, whereas the negative delta of the put option indicates a poor correlation. The calculated deltas of 0.22 for the call option and -0.25 for the put option corroborate this observation. The positive delta of the call option indicates a positive correlation with the price movement of the underlying stock, whereas the negative delta of the put option indicates a poor correlation.\n",
        "\n",
        "**b. (i) You build a portfolio that buys the previous Call and Put options. What is the delta of the portfolio?**\n",
        "\n",
        "Creating a combination of the two options would be a key factor to take into account when constructing a portfolio that purchases the prior Call and Put options. This is due to the fact that a portfolio like this could control risk exposure while potentially profiting from price movements both up and down.\n",
        "\n",
        "You can easily add up the deltas of the various options in the portfolio to determine the delta of the portfolio that purchases both the European Put option with 95% moneyness and the European Call option with 110% moneyness (Portfolio Delta = Call Delta + Put Delta). Delta of the portfolio = 0.22 + (-0.25) = -0.03.  The portfolio delta shows how the value of the portfolio would alter for a slight change in the underlying asset price since the delta reveals how sensitive the option price is to changes in the price of the underlying asset.\n",
        "\n",
        "**b(ii) How would you delta-hedge this portfolio?**\n",
        "\n",
        "portfolio, we would need to take a short position in the underlying company to offset the negative delta. This can lessen the fluctuations in portfolio value caused by minute changes in stock price. A more equally distributed risk exposure would arise from a reduction in the portfolio's overall susceptibility to small fluctuations in stock price (Marroni & Perdomo, 2014).\n",
        "\n",
        "**c. (i) You build a second portfolio that buys the previous Call option and sells the Put. What is the delta of the portfolio?**\n",
        "\n",
        "A \"synthetic long stock\" or \"covered call\" is essentially what you create when you construct a portfolio that purchases the European Call option with 110% moneyness and simultaneously sells (writes) the European Put option with 95% moneyness. The portfolio delta would shift in this case because the call and put option deltas are pointing in different directions. The portfolio delta would shift in this case because the call and put option deltas are pointing in different directions. We determine the portfolio's new delta by deducting the put option's delta from the call option's delta. - (-0.25) = 0.47 - = 0.22\n",
        "\n",
        "**(c) (ii) How would you delta-hedge this portfolio?**\n",
        "\n",
        "To delta-hedge this portfolio, which has a positive portfolio delta of 0.47, we would need to take a long position in the underlying company in order to align the portfolio's delta with the positive direction. By holding a long position in the stock, the portfolio can effectively offset the combined negative delta from the sold Put option and provide a positive overall delta. By limiting the portfolio's vulnerability to even the smallest fluctuations in stock price, this delta-hedging strategy aims to produce a more balanced risk exposure (Marroni & Perdomo, 2014)."
      ]
    },
    {
      "cell_type": "code",
      "execution_count": 65,
      "metadata": {
        "id": "czDVITPDML0C",
        "colab": {
          "base_uri": "https://localhost:8080/",
          "height": 0
        },
        "outputId": "4683141a-c2be-4a58-c402-8e96821140ec"
      },
      "outputs": [
        {
          "output_type": "stream",
          "name": "stdout",
          "text": [
            "Summary of Results\n",
            "\n",
            "+-----+---------------+---------+-----------+-----------+--------+----------+----------+\n",
            "|   # | Option Type   |   Price |     Delta |     Gamma |   Vega |    Theta |      Rho |\n",
            "+=====+===============+=========+===========+===========+========+==========+==========+\n",
            "|   1 | European Call | 1.19113 |  0.218255 | 0.0294741 | 14.737 | -6.92653 |  5.15858 |\n",
            "+-----+---------------+---------+-----------+-----------+--------+----------+----------+\n",
            "|   2 | European Put  | 1.53426 | -0.245748 | 0.031488  | 15.744 | -4.99214 | -6.52725 |\n",
            "+-----+---------------+---------+-----------+-----------+--------+----------+----------+\n"
          ]
        }
      ],
      "source": [
        "import numpy as np\n",
        "from scipy.stats import norm\n",
        "\n",
        "\n",
        "K_call = 100 * 1.10\n",
        "K_put = 100 * 0.95\n",
        "r = 0.05\n",
        "sigma = 0.20\n",
        "T = 0.25\n",
        "\n",
        "def european_option_price(S, K, r, sigma, T, option_type='call'):\n",
        "    d1 = (np.log(S / K) + (r + 0.5 * sigma ** 2) * T) / (sigma * np.sqrt(T))\n",
        "    d2 = d1 - sigma * np.sqrt(T)\n",
        "\n",
        "    if option_type == 'call':\n",
        "        option_price = S * norm.cdf(d1) - K * np.exp(-r * T) * norm.cdf(d2)\n",
        "    elif option_type == 'put':\n",
        "        option_price = K * np.exp(-r * T) * norm.cdf(-d2) - S * norm.cdf(-d1)\n",
        "\n",
        "    return option_price\n",
        "\n",
        "call_price = european_option_price(S, K_call, r, sigma, T, option_type='call')\n",
        "put_price = european_option_price(S, K_put, r, sigma, T, option_type='put')\n",
        "\n",
        "def european_option_greeks(S, K, r, sigma, T, option_type='call'):\n",
        "    d1 = (np.log(S / K) + (r + 0.5 * sigma ** 2) * T) / (sigma * np.sqrt(T))\n",
        "    d2 = d1 - sigma * np.sqrt(T)\n",
        "\n",
        "    delta = norm.cdf(d1) if option_type == 'call' else norm.cdf(d1) - 1\n",
        "    gamma = norm.pdf(d1) / (S * sigma * np.sqrt(T))\n",
        "    vega = S * norm.pdf(d1) * np.sqrt(T)\n",
        "    theta = -S * norm.pdf(d1) * sigma / (2 * np.sqrt(T)) - r * K * np.exp(-r * T)* norm.cdf(d2) if option_type == 'call' else -S * norm.pdf(d1) * sigma/ (2 * np.sqrt(T)) + r * K * np.exp(-r * T) * norm.cdf(-d2)\n",
        "    rho = K * T * np.exp(-r * T) * norm.cdf(d2) if option_type == 'call' else -K * T * np.exp(-r * T) * norm.cdf(-d2)\n",
        "\n",
        "    return delta, gamma, vega, theta, rho\n",
        "\n",
        "call_delta, call_gamma, call_vega, call_theta, call_rho = european_option_greeks(S, K_call, r, sigma, T, option_type='call')\n",
        "put_delta, put_gamma, put_vega, put_theta, put_rho = european_option_greeks(S, K_put, r, sigma, T, option_type='put')\n",
        "\n",
        "import pandas as pd\n",
        "\n",
        "data = {'Option Type': ['European Call', 'European Put'],\n",
        "        'Price': [call_price, put_price],\n",
        "        'Delta': [call_delta, put_delta],\n",
        "        'Gamma': [call_gamma, put_gamma],\n",
        "        'Vega': [call_vega, put_vega],\n",
        "        'Theta': [call_theta, put_theta],\n",
        "        'Rho': [call_rho, put_rho]}\n",
        "\n",
        "df = pd.DataFrame(data)\n",
        "\n",
        "df = df[['Option Type', 'Price', 'Delta', 'Gamma', 'Vega', 'Theta', 'Rho']]\n",
        "\n",
        "# Add the index column to the table\n",
        "df.insert(0, '#', range(1, len(df) + 1))\n",
        "\n",
        "table_title = \"Summary of Results\"\n",
        "\n",
        "headers = [\"#\", \"Option Type\", \"Price\", \"Delta\", \"Gamma\", \"Vega\", \"Theta\", \"Rho\"]\n",
        "\n",
        "table_data = df.values.tolist()\n",
        "\n",
        "table = tabulate(table_data, headers=headers, tablefmt=\"grid\")\n",
        "\n",
        "table_with_title = f\"{table_title}\\n\\n{table}\"\n",
        "\n",
        "print(table_with_title)"
      ]
    },
    {
      "cell_type": "code",
      "source": [
        "table_data = [\n",
        "    [\"7\", \"Call\", \"European\", \"BS\", \"110%\", \"1.19\", \"0.22\"],\n",
        "    [\"7\", \"Put\", \"European\", \"BS\", \"95%\", \"1.53\", \"-0.25\"],\n",
        "]\n",
        "\n",
        "table_title = \"Summary of Results\"\n",
        "\n",
        "headers = [\"Q #\", \"Type\", \"Exer\", \"GWP 2 Method\", \"Moneyness\", \"GWP 2 Price\", \"Delta\"]\n",
        "\n",
        "table = tabulate(table_data, headers=headers, tablefmt=\"grid\")\n",
        "\n",
        "table_with_title = f\"{table_title}\\n\\n{table}\"\n",
        "\n",
        "print(table_with_title)"
      ],
      "metadata": {
        "colab": {
          "base_uri": "https://localhost:8080/",
          "height": 0
        },
        "id": "BbaNy90Kgtgr",
        "outputId": "add51c87-e5d6-4374-9152-31991d6bfb3a"
      },
      "execution_count": 66,
      "outputs": [
        {
          "output_type": "stream",
          "name": "stdout",
          "text": [
            "Summary of Results\n",
            "\n",
            "+-------+--------+----------+----------------+-------------+---------------+---------+\n",
            "|   Q # | Type   | Exer     | GWP 2 Method   | Moneyness   |   GWP 2 Price |   Delta |\n",
            "+=======+========+==========+================+=============+===============+=========+\n",
            "|     7 | Call   | European | BS             | 110%        |          1.19 |    0.22 |\n",
            "+-------+--------+----------+----------------+-------------+---------------+---------+\n",
            "|     7 | Put    | European | BS             | 95%         |          1.53 |   -0.25 |\n",
            "+-------+--------+----------+----------------+-------------+---------------+---------+\n"
          ]
        }
      ]
    },
    {
      "cell_type": "code",
      "execution_count": 67,
      "metadata": {
        "id": "LiJlYxFZM5Xa",
        "colab": {
          "base_uri": "https://localhost:8080/",
          "height": 0
        },
        "outputId": "a2571e24-3e00-455e-a522-a68c3589eb47"
      },
      "outputs": [
        {
          "output_type": "stream",
          "name": "stdout",
          "text": [
            "New Delta of the Portfolio: 0.47\n",
            "Delta of the Portfolio: -0.03\n"
          ]
        }
      ],
      "source": [
        "# #Q7b\n",
        "# d1q7 = (np.log(100 / 110) + (0.05 + 0.5 * 0.25**2) * 0.25) / (0.25 * np.sqrt(0.25))\n",
        "# DeltaCallq7 = ss.norm.cdf(d1q7)\n",
        "# DeltaPutq7 = -ss.norm.cdf(-d1q7)\n",
        "# portfolio7b_Delta = DeltaCallq7 + DeltaPutq7\n",
        "# print(\"Delta of Q7b portfolio is\", round(portfolio7b_Delta,2))\n",
        "\n",
        "call_delta = 0.22\n",
        "put_delta = -0.25\n",
        "\n",
        "portfolio_delta = call_delta + put_delta\n",
        "new_portfolio_delta = call_delta - put_delta\n",
        "\n",
        "print(\"New Delta of the Portfolio:\", new_portfolio_delta)\n",
        "\n",
        "print(\"Delta of the Portfolio:\", portfolio_delta)"
      ]
    },
    {
      "cell_type": "markdown",
      "metadata": {
        "id": "geaibcfBPX81"
      },
      "source": [
        "We could hedge this portfolio delta in question 7b by buying 0.47 of underlying asset to make the delta of the whole portfolio equal 0. And as the underlying asset price changed overtime, the amount and side of hedging will be changed as well to make the whole portfolio delta neutral again"
      ]
    },
    {
      "cell_type": "markdown",
      "metadata": {
        "id": "n4m_DVts4akq"
      },
      "source": [
        "**Q8 Team member B will work with Monte-Carlo methods with daily time steps to price an Up-and-Out (UAO) barrier option. The option is currently ATM with a barrier level of 141 and:**\n",
        "\n",
        "\n",
        "calculating both Call and Put option prices for Up-and-Out (UAO) barrier option:\n",
        "\n",
        " (S0) = $120, Risk-free rate (r) = 6%, Volatility (σ) = 30%, Time horizon (T) = 8 months (in years=8/12),:\n",
        "\n",
        "Monte Carlo UAO Barrier Option Price is approximately 0.50. This value represents the estimated fair value of an Up-and-Out (UAO) Barrier Option based on 100,000 simulated scenarios. UAO Barrier Options depend on the underlying asset's price reaching a barrier level during the option's life. The result reflects the average payoff over the simulations, considering the option's knockout feature if the barrier is touched. Sensitivity to model parameters and thorough validation against market conditions should be considered, and further analysis, such as sensitivity analysis, can enhance understanding of the estimate's robustness."
      ]
    },
    {
      "cell_type": "code",
      "source": [
        "def monte_carlo_uao_barrier_option_price(S0, r, sigma, T, barrier_level, M, N):\n",
        "    \"\"\"\n",
        "    Function to calculate the Monte Carlo price of an Up-and-Out (UAO) Barrier Option.\n",
        "\n",
        "    Parameters:\n",
        "    - S0: Initial stock price\n",
        "    - r: Risk-free rate\n",
        "    - sigma: Volatility\n",
        "    - T: Time to maturity in years\n",
        "    - barrier_level: Barrier level\n",
        "    - M: Number of simulations\n",
        "    - N: Number of time steps\n",
        "\n",
        "    Returns:\n",
        "    - option_price: Monte Carlo UAO Barrier Option price\n",
        "    \"\"\"\n",
        "\n",
        "    # Generate random price movements\n",
        "    np.random.seed(42)\n",
        "    rand_numbers = np.random.normal(size=(M, N))\n",
        "\n",
        "    # Calculate daily returns\n",
        "    daily_returns = np.exp((r - 0.5 * sigma ** 2) * (1 / N) + sigma * np.sqrt(1 / N) * rand_numbers)\n",
        "\n",
        "    # Create stock price paths\n",
        "    stock_paths = np.zeros((M, N + 1))\n",
        "    stock_paths[:, 0] = S0\n",
        "    for i in range(1, N + 1):\n",
        "        stock_paths[:, i] = stock_paths[:, i - 1] * daily_returns[:, i - 1]\n",
        "\n",
        "    # Calculate option payoffs at each time step\n",
        "    uao_payoffs = np.maximum(stock_paths[:, -1] - S0, 0)  # Vanilla option payoff\n",
        "    uao_payoffs = np.where(np.max(stock_paths[:, 1:], axis=1) <= barrier_level, uao_payoffs, 0)  # Apply barrier condition\n",
        "\n",
        "    # Calculate option price using Monte Carlo simulation\n",
        "    option_price = np.exp(-r * T) * uao_payoffs.mean()\n",
        "\n",
        "    return option_price\n",
        "\n",
        "S0 = 120\n",
        "r = 0.06\n",
        "sigma = 0.30\n",
        "T = 8/12\n",
        "barrier_level = 141\n",
        "N = int(252 * T)\n",
        "M = 100000\n",
        "option_price_result = monte_carlo_uao_barrier_option_price(S0, r, sigma, T, barrier_level, M, N)\n",
        "print(\"Monte Carlo UAO Barrier Option Price: $\",f\"{option_price_result:.2f}\")"
      ],
      "metadata": {
        "colab": {
          "base_uri": "https://localhost:8080/",
          "height": 0
        },
        "id": "eU6IXa-Ew7gi",
        "outputId": "ece66077-b9b0-487a-a83d-a5b502f6aa31"
      },
      "execution_count": 68,
      "outputs": [
        {
          "output_type": "stream",
          "name": "stdout",
          "text": [
            "Monte Carlo UAO Barrier Option Price: $ 0.45\n"
          ]
        }
      ]
    },
    {
      "cell_type": "markdown",
      "source": [
        "**9. Team member C will repeat the previous question (barrier option), in this case considering an Up-and-In barrier (UAI) option with the same barrier as before. Specifically:**\n",
        "\n",
        "**a. Compute the price of the UAI option.**\n",
        "\n",
        "\n",
        "The computed Monte Carlo UAI (Up-and-In) Barrier Option Price is approximately $\\$17.51$. This value represents the estimated fair value of the option, considering the specific characteristics of an Up-and-In Barrier Option, where the option becomes active only if the underlying asset's price crosses a specified barrier level during its life. The calculation involves a Monte Carlo simulation, averaging the option payoffs over a large number of scenarios (100,000 simulations). The result is sensitive to model parameters, and further analysis, including sensitivity analysis, can provide insights into the robustness of the estimate."
      ],
      "metadata": {
        "id": "F3pePrzqqqJ5"
      }
    },
    {
      "cell_type": "code",
      "source": [
        "def monte_carlo_uai_barrier_option_price(S0, r, sigma, T, barrier_level, M, N):\n",
        "    \"\"\"\n",
        "    Function to calculate the Monte Carlo price of an Up-and-In (UAI) Barrier Option.\n",
        "\n",
        "    Parameters:\n",
        "    - S0: Initial stock price\n",
        "    - r: Risk-free rate\n",
        "    - sigma: Volatility\n",
        "    - T: Time to maturity in years\n",
        "    - barrier_level: Barrier level\n",
        "    - M: Number of simulations\n",
        "    - N: Number of time steps\n",
        "\n",
        "    Returns:\n",
        "    - uai_option_price: Monte Carlo UAI Barrier Option price\n",
        "    \"\"\"\n",
        "\n",
        "    # Generate random price movements\n",
        "    np.random.seed(42)\n",
        "    rand_numbers = np.random.normal(size=(M, N))\n",
        "\n",
        "    # Calculate daily returns\n",
        "    daily_returns = np.exp((r - 0.5 * sigma ** 2) * (1 / N) + sigma * np.sqrt(1 / N) * rand_numbers)\n",
        "\n",
        "    # Create stock price paths\n",
        "    stock_paths = np.zeros((M, N + 1))\n",
        "    stock_paths[:, 0] = S0\n",
        "    for i in range(1, N + 1):\n",
        "        stock_paths[:, i] = stock_paths[:, i - 1] * daily_returns[:, i - 1]\n",
        "\n",
        "    # Calculate option payoffs at each time step for UAI\n",
        "    uai_payoffs = np.maximum(stock_paths[:, -1] - S0, 0)  # Vanilla option payoff\n",
        "    uai_payoffs = np.where(np.max(stock_paths[:, 1:], axis=1) >= barrier_level, uai_payoffs, 0)  # Apply barrier condition\n",
        "\n",
        "    # Calculate UAI option price using Monte Carlo simulation\n",
        "    uai_option_price = np.exp(-r * T) * uai_payoffs.mean()\n",
        "\n",
        "    return uai_option_price\n",
        "\n",
        "uai_option_price_result = monte_carlo_uai_barrier_option_price(S0, r, sigma, T, barrier_level, M, N)\n",
        "print(\"Monte Carlo UAI Barrier Option Price: $\", f\"{uai_option_price_result:.2f}\")"
      ],
      "metadata": {
        "colab": {
          "base_uri": "https://localhost:8080/",
          "height": 0
        },
        "id": "jkJRqth5yAi1",
        "outputId": "0e7d6093-c9fa-41c4-a85d-8f43f4e0aeee"
      },
      "execution_count": 69,
      "outputs": [
        {
          "output_type": "stream",
          "name": "stdout",
          "text": [
            "Monte Carlo UAI Barrier Option Price: $ 17.51\n"
          ]
        }
      ]
    },
    {
      "cell_type": "markdown",
      "source": [
        "**b. Compute the price of the vanilla option (same characteristics, no barrier)**\n",
        "\n",
        "\n",
        "The computed Monte Carlo Vanilla Option Price is $17.96. This value represents the estimated fair market value of a vanilla option without any barrier, obtained through a Monte Carlo simulation with 100,000 scenarios. The result is an average estimate of the option's payoff, considering the difference between the final stock price and the initial strike price at expiration. The estimate is subject to the model assumptions and introduces a level of uncertainty due to the probabilistic nature of the Monte Carlo method. Further analysis, such as sensitivity testing, could provide insights into the robustness of the estimate."
      ],
      "metadata": {
        "id": "djx-NXUJ3z9U"
      }
    },
    {
      "cell_type": "code",
      "source": [
        "def monte_carlo_vanilla_option_price(S0, r, sigma, T, M, N):\n",
        "    \"\"\"\n",
        "    Function to calculate the Monte Carlo price of a Vanilla Option.\n",
        "\n",
        "    Parameters:\n",
        "    - S0: Initial stock price\n",
        "    - r: Risk-free rate\n",
        "    - sigma: Volatility\n",
        "    - T: Time to maturity in years\n",
        "    - M: Number of simulations\n",
        "    - N: Number of time steps\n",
        "\n",
        "    Returns:\n",
        "    - vanilla_option_price: Monte Carlo Vanilla Option price\n",
        "    \"\"\"\n",
        "\n",
        "    np.random.seed(42)\n",
        "    rand_numbers = np.random.normal(size=(M, N))\n",
        "\n",
        "    # Calculate daily returns\n",
        "    daily_returns = np.exp((r - 0.5 * sigma ** 2) * (1 / N) + sigma * np.sqrt(1 / N) * rand_numbers)\n",
        "\n",
        "    # Create stock price paths\n",
        "    stock_paths = np.zeros((M, N + 1))\n",
        "    stock_paths[:, 0] = S0\n",
        "    for i in range(1, N + 1):\n",
        "        stock_paths[:, i] = stock_paths[:, i - 1] * daily_returns[:, i - 1]\n",
        "\n",
        "    vanilla_payoffs = np.maximum(stock_paths[:, -1] - S0, 0)\n",
        "\n",
        "    vanilla_option_price = np.exp(-r * T) * vanilla_payoffs.mean()\n",
        "\n",
        "    return vanilla_option_price\n",
        "\n",
        "vanilla_option_price_result = monte_carlo_vanilla_option_price(S0, r, sigma, T, M, N)\n",
        "print(\"Monte Carlo Vanilla Option Price: $\", f\"{vanilla_option_price_result:.2f}\")"
      ],
      "metadata": {
        "colab": {
          "base_uri": "https://localhost:8080/",
          "height": 0
        },
        "id": "Oy2ojSKr3y2o",
        "outputId": "de8eb116-2bba-4fb9-ecbe-a582d5761478"
      },
      "execution_count": 70,
      "outputs": [
        {
          "output_type": "stream",
          "name": "stdout",
          "text": [
            "Monte Carlo Vanilla Option Price: $ 17.96\n"
          ]
        }
      ]
    },
    {
      "cell_type": "code",
      "source": [
        "table_data = [\n",
        "    [\"9\", \"UAI\", \"MC\", \"17.51\"],\n",
        "    [\"9\", \"UAO\", \"MC\", \"0.45\"],\n",
        "    [\"9\", \"Vanilla\",\"MC\", \"17.96\"]\n",
        "]\n",
        "\n",
        "title = \"Summary of Results\"\n",
        "\n",
        "header = [\"Q #\", \"Type\", \"GWP 2 Method\", \"Price\"]\n",
        "\n",
        "table = tabulate(table_data, headers=header, tablefmt=\"grid\")\n",
        "\n",
        "table = f\"{title}\\n\\n{table}\"\n",
        "\n",
        "print(table)"
      ],
      "metadata": {
        "colab": {
          "base_uri": "https://localhost:8080/",
          "height": 0
        },
        "id": "WUnw_6_I4dec",
        "outputId": "280db7b0-791c-4f21-a0c3-f28aebafcc0b"
      },
      "execution_count": 71,
      "outputs": [
        {
          "output_type": "stream",
          "name": "stdout",
          "text": [
            "Summary of Results\n",
            "\n",
            "+-------+---------+----------------+---------+\n",
            "|   Q # | Type    | GWP 2 Method   |   Price |\n",
            "+=======+=========+================+=========+\n",
            "|     9 | UAI     | MC             |   17.51 |\n",
            "+-------+---------+----------------+---------+\n",
            "|     9 | UAO     | MC             |    0.45 |\n",
            "+-------+---------+----------------+---------+\n",
            "|     9 | Vanilla | MC             |   17.96 |\n",
            "+-------+---------+----------------+---------+\n"
          ]
        }
      ]
    },
    {
      "cell_type": "code",
      "execution_count": 72,
      "metadata": {
        "id": "78fykmUPOQ38",
        "colab": {
          "base_uri": "https://localhost:8080/",
          "height": 0
        },
        "outputId": "ee2169c1-d1fd-4638-c999-236ed4bd7e87"
      },
      "outputs": [
        {
          "output_type": "stream",
          "name": "stdout",
          "text": [
            "Vanilla Call Option Price: 13.97\n",
            "Vanilla Put Option Price: 9.27\n",
            "Up-and-Out Call Option Price: 0.71\n",
            "Up-and-In Call Option Price: 10.73\n",
            "Up-and-Out Put Option Price: 8.39\n",
            "Up-and-In Put Option Price: 0.0\n"
          ]
        }
      ],
      "source": [
        "def bs_call_price(S0, K, r, sigma, T):\n",
        "    d1 = (np.log(S0 / K) + (r + 0.5 * sigma**2) * T) / (sigma * np.sqrt(T))\n",
        "    d2 = d1 - sigma * np.sqrt(T)\n",
        "    call_price = S0 * norm.cdf(d1) - K * np.exp(-r * T) * norm.cdf(d2)\n",
        "    return call_price\n",
        "\n",
        "def bs_put_price(S0, K, r, sigma, T):\n",
        "    d1 = (np.log(S0 / K) + (r + 0.5 * sigma**2) * T) / (sigma * np.sqrt(T))\n",
        "    d2 = d1 - sigma * np.sqrt(T)\n",
        "    put_price = K * np.exp(-r * T) * norm.cdf(-d2) - S0 * norm.cdf(-d1)\n",
        "    return put_price\n",
        "\n",
        "def barrier_option_price(S0, K, r, sigma, T, barrier, num_simulations, num_steps, option_type, barrier_type):\n",
        "    np.random.seed(42)  # For reproducibility\n",
        "    dt = T / num_steps  # Time step\n",
        "    option_payoffs = np.zeros(num_simulations)\n",
        "\n",
        "    for i in range(num_simulations):\n",
        "        S = S0\n",
        "        barrier_crossed = False\n",
        "        for j in range(num_steps):\n",
        "            S *= np.exp((r - 0.5 * sigma**2) * dt + sigma * np.sqrt(dt) * np.random.normal())\n",
        "            if S >= barrier:\n",
        "                barrier_crossed = True\n",
        "                break\n",
        "\n",
        "        if (barrier_type == 'UAI' and barrier_crossed) or (barrier_type == 'UAO' and not barrier_crossed):\n",
        "            if option_type == 'call':\n",
        "                payoff = np.maximum(S - K, 0)\n",
        "            elif option_type == 'put':\n",
        "                payoff = np.maximum(K - S, 0)\n",
        "            option_payoffs[i] = payoff\n",
        "\n",
        "    option_price = np.exp(-r * T) * np.mean(option_payoffs)\n",
        "    return option_price\n",
        "\n",
        "# Parameters\n",
        "S0 = 120  # Initial stock price\n",
        "K = S0    # Strike price (ATM)\n",
        "r = 0.06  # Annual risk-free rate\n",
        "sigma = 0.30  # Annual volatility\n",
        "T = 8 / 12  # Time to maturity in years\n",
        "barrier = 141  # Barrier level\n",
        "num_simulations = 100000  # Number of Monte Carlo simulations\n",
        "num_steps = int(252 * T)  # Number of steps (daily)\n",
        "\n",
        "# Pricing the options\n",
        "vanilla_call_price = bs_call_price(S0, K, r, sigma, T)\n",
        "vanilla_put_price = bs_put_price(S0, K, r, sigma, T)\n",
        "uao_call_price = barrier_option_price(S0, K, r, sigma, T, barrier, num_simulations, num_steps, 'call', 'UAO')\n",
        "uai_call_price = barrier_option_price(S0, K, r, sigma, T, barrier, num_simulations, num_steps, 'call', 'UAI')\n",
        "uao_put_price = barrier_option_price(S0, K, r, sigma, T, barrier, num_simulations, num_steps, 'put', 'UAO')\n",
        "uai_put_price = barrier_option_price(S0, K, r, sigma, T, barrier, num_simulations, num_steps, 'put', 'UAI')\n",
        "\n",
        "print(\"Vanilla Call Option Price:\", round(vanilla_call_price,2))\n",
        "print(\"Vanilla Put Option Price:\", round(vanilla_put_price,2))\n",
        "print(\"Up-and-Out Call Option Price:\", round(uao_call_price,2))\n",
        "print(\"Up-and-In Call Option Price:\", round(uai_call_price,2))\n",
        "print(\"Up-and-Out Put Option Price:\", round(uao_put_price,2))\n",
        "print(\"Up-and-In Put Option Price:\", round(uai_put_price,2))"
      ]
    },
    {
      "cell_type": "code",
      "source": [
        "table_data = [\n",
        "    [\"9\", \"Vanilla Call\", \"MC\", round(vanilla_call_price, 2)],\n",
        "    [\"9\",\"Vanilla Put\", \"MC\", round(vanilla_put_price, 2)],\n",
        "    [\"9\",\"Up-and-Out Call\", \"MC\", round(uao_call_price, 2)],\n",
        "    [\"9\",\"Up-and-In Call\", \"MC\", round(uai_call_price, 2)],\n",
        "    [\"9\",\"Up-and-Out Put\", \"MC\", round(uao_put_price, 2)],\n",
        "    [\"9\",\"Up-and-In Put\", \"MC\", round(uai_put_price, 2)],\n",
        "]\n",
        "title = \"Summary of Results\"\n",
        "\n",
        "header = [\"Q_Number\", \"Option Price\", \"Type\", \"GWP 2 Method\", \"Price\"]\n",
        "\n",
        "table = tabulate(table_data, headers=header, tablefmt=\"grid\")\n",
        "\n",
        "table = f\"{title}\\n\\n{table}\"\n",
        "\n",
        "print(table)"
      ],
      "metadata": {
        "colab": {
          "base_uri": "https://localhost:8080/",
          "height": 0
        },
        "id": "Tj3einCe6Rgc",
        "outputId": "25410f6b-dc56-474a-d6a2-e7e90727a49a"
      },
      "execution_count": 73,
      "outputs": [
        {
          "output_type": "stream",
          "name": "stdout",
          "text": [
            "Summary of Results\n",
            "\n",
            "+------------+-----------------+--------+----------------+\n",
            "|   Q_Number | Option Price    | Type   |   GWP 2 Method |\n",
            "+============+=================+========+================+\n",
            "|          9 | Vanilla Call    | MC     |          13.97 |\n",
            "+------------+-----------------+--------+----------------+\n",
            "|          9 | Vanilla Put     | MC     |           9.27 |\n",
            "+------------+-----------------+--------+----------------+\n",
            "|          9 | Up-and-Out Call | MC     |           0.71 |\n",
            "+------------+-----------------+--------+----------------+\n",
            "|          9 | Up-and-In Call  | MC     |          10.73 |\n",
            "+------------+-----------------+--------+----------------+\n",
            "|          9 | Up-and-Out Put  | MC     |           8.39 |\n",
            "+------------+-----------------+--------+----------------+\n",
            "|          9 | Up-and-In Put   | MC     |           0    |\n",
            "+------------+-----------------+--------+----------------+\n"
          ]
        }
      ]
    },
    {
      "cell_type": "markdown",
      "source": [
        "**c. What is the relationship between the prices of the UAO, UAI, and vanilla option? Explain.**\n",
        "\n",
        "Because they have no barrier conditions and give the option holder greater flexibility, vanilla options are the most expensive. Due to the potential for barrier activation, which could raise the option's value, UAI options have an intermediate price. Because of the barrier condition, which lowers the chance of exercise and devalues UAO options relative to vanilla options, they are the least expensive."
      ],
      "metadata": {
        "id": "KPcXTLXsjOPk"
      }
    },
    {
      "cell_type": "markdown",
      "source": [
        "###REFERENCES\n",
        "\n",
        "- FinCampus Lecture Hall. Pricing an American Option: 3 Period Binomial Tree Model. *YouTube,* 26 May 2013, https://www.youtube.com/watch?v=35n7TICJbLc.\n",
        "\n",
        "- Marroni L. & I. Perdomo (2014). *Pricing and Hedging Financial Derivatives: A Guide for Practitioners.* Wiley\n",
        "\n",
        "- Schumacher, J. M. (2020). *Introduction to Financial Derivatives: Modeling, Pricing and Hedging.* Open Press TiU: https://digi-courses.com/openpresstiu-introduction-to-financial-derivatives/"
      ],
      "metadata": {
        "id": "EuduqR2DcW2B"
      }
    }
  ],
  "metadata": {
    "colab": {
      "provenance": [],
      "include_colab_link": true
    },
    "kernelspec": {
      "display_name": "Python 3",
      "name": "python3"
    },
    "language_info": {
      "name": "python"
    }
  },
  "nbformat": 4,
  "nbformat_minor": 0
}