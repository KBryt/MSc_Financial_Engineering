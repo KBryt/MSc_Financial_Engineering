{
  "nbformat": 4,
  "nbformat_minor": 0,
  "metadata": {
    "colab": {
      "provenance": []
    },
    "kernelspec": {
      "name": "python3",
      "display_name": "Python 3"
    },
    "language_info": {
      "name": "python"
    }
  },
  "cells": [
    {
      "cell_type": "markdown",
      "source": [
        "**STEP 1**\n",
        "\n",
        "Put-call parity is an essential concept in trading and pricing of options. It implies that put options having the same strike price and time to maturity as call options written on the same underlying stock(equity options) have a balanced relationship in terms of their prices. This relationship(put-call parity) ensures no arbitrage framework for options pricing. It ensures that a portfolio consisting of a call option and risk-free bond and a portfolio that consists of a put option and the underlying stock have the same value.\n",
        "Put-call parity is mathematically represented by the following expressions:\n",
        "\n",
        "$C_0 + Ke^{-rT} = S_0 + P_0$\n",
        "\n",
        "Where\n",
        "\n",
        "$C_0$ represents the European call option price\n",
        "\n",
        "$P_0$ represents the European put option price\n",
        "\n",
        "$S_0$ denotes the current price of the underlying asset\n",
        "\n",
        "$K$ represents the strike price of the options\n",
        "\n",
        "$e$ is the mathematical constant the represents the base of the natural logarithm\n",
        "\n",
        "$r$ denotes the risk-free interest rate\n",
        "\n",
        "$T$ is the time to expiration or maturity\n",
        "\n",
        "**Q1:**\n",
        "\n",
        "Yes, put-call parity does apply for European options. This is because  European options are only exercised at the expiration time period, therefore it creates no arbitrage opportunity on the options exchange for arbitrageurs to make risk-free profits based on the discrepancies in the options' prices.\n",
        "\n",
        "**Q2:**\n",
        "\n",
        "$C_O = S_0 + P_0 - Ke^{-rT}$, this equation gives the value of the call option given all the other parameters.\n",
        "\n",
        "**Q3:**\n",
        "\n",
        "$P_0 = C_0 + Ke^{-rT} - S_0$, this equation solves for the put option's price given all the other parameters at the right hand-side of the equation.\n",
        "\n",
        "**Q4:**\n",
        "\n",
        "For American options, put-call parity does not directly apply especially for dividend paying stocks. This is because American options allow for the flexibility of early exercise before the expiration time and thus get an added intrinsic value. However, American options can hold true for put-call parity in a different form as defined by the expression  $C_0 + Ke^{-rT} \\ge P_0 + S_0$ and be violated by the expression $C_0 +Ke^{-rT} < P_0 + S_0$ which would imply an arbitrage opportunity."
      ],
      "metadata": {
        "id": "41nfEsWNFFbb"
      }
    },
    {
      "cell_type": "markdown",
      "source": [
        "Given:\n",
        "\n",
        "S0 = 100; r = 5%; σ = 20%; T = 3 months = 0.25\n",
        "\n",
        "**Q5. Price an ATM European call and put using a binomial tree:**\n",
        "\n",
        "a. Choosing the number of steps in the tree that is convenient to obtain reliable estimates.\n",
        "\n"
      ],
      "metadata": {
        "id": "9vG54B3UceTs"
      }
    },
    {
      "cell_type": "code",
      "source": [
        "import numpy as np\n",
        "import matplotlib.pyplot as plt"
      ],
      "metadata": {
        "id": "pZRh89FMs1IW"
      },
      "execution_count": null,
      "outputs": []
    },
    {
      "cell_type": "code",
      "source": [
        "## Function for pricing European Call Options\n",
        "\n",
        "def call_option_delta(S_ini, K, T, r, sigma, N):\n",
        "    dt = T / N  # Define time step\n",
        "    u = np.exp(sigma * np.sqrt(dt))  # Define u\n",
        "    d = np.exp(-sigma * np.sqrt(dt))  # Define d\n",
        "    p = (np.exp(r * dt) - d) / (u - d)  # risk neutral probs\n",
        "    C = np.zeros([N + 1, N + 1])  # call prices\n",
        "    S = np.zeros([N + 1, N + 1])  # underlying price\n",
        "    Delta = np.zeros([N, N])  # delta\n",
        "    for i in range(0, N + 1):\n",
        "        C[N, i] = max(S_ini * (u ** (i)) * (d ** (N - i)) - K, 0)\n",
        "        S[N, i] = S_ini * (u ** (i)) * (d ** (N - i))\n",
        "    for j in range(N - 1, -1, -1):\n",
        "        for i in range(0, j + 1):\n",
        "            C[j, i] = np.exp(-r * dt) * (p * C[j + 1, i + 1] + (1 - p) * C[j + 1, i])\n",
        "            S[j, i] = S_ini * (u ** (i)) * (d ** (j - i))\n",
        "            Delta[j, i] = (C[j + 1, i + 1] - C[j + 1, i]) / (\n",
        "                S[j + 1, i + 1] - S[j + 1, i]\n",
        "            )\n",
        "    return C[0, 0], C, S, Delta"
      ],
      "metadata": {
        "id": "vpat7bBHIaO-"
      },
      "execution_count": null,
      "outputs": []
    },
    {
      "cell_type": "code",
      "source": [
        "price_array_call = []\n",
        "for N in [1, 10, 100, 200, 300, 400, 500, 600, 700, 800, 900, 1000]:\n",
        "    call_price, C, S, delta = call_option_delta(100, 100, 0.25, 0.05, 0.2, N)\n",
        "    price_array_call.append(call_price)\n",
        "    print(\"With N = {:3d}, the price is {:.2f}\".format(N, call_price))"
      ],
      "metadata": {
        "colab": {
          "base_uri": "https://localhost:8080/"
        },
        "id": "V3KukYPido_c",
        "outputId": "e51b00f6-67f7-4fae-dbe9-24f368784fca"
      },
      "execution_count": null,
      "outputs": [
        {
          "output_type": "stream",
          "name": "stdout",
          "text": [
            "With N =   1, the price is 5.59\n",
            "With N =  10, the price is 4.52\n",
            "With N = 100, the price is 4.61\n",
            "With N = 200, the price is 4.61\n",
            "With N = 300, the price is 4.61\n",
            "With N = 400, the price is 4.61\n",
            "With N = 500, the price is 4.61\n",
            "With N = 600, the price is 4.61\n",
            "With N = 700, the price is 4.61\n",
            "With N = 800, the price is 4.61\n",
            "With N = 900, the price is 4.61\n",
            "With N = 1000, the price is 4.61\n"
          ]
        }
      ]
    },
    {
      "cell_type": "code",
      "source": [
        "N = [1, 10, 100, 200, 300, 400, 500, 600, 700, 800, 900, 1000]\n",
        "plt.plot(N, np.array(price_array_call))\n",
        "plt.title(\"Convergency with steps -European Call\")\n",
        "plt.xlabel(\"Number of steps (N)\")\n",
        "plt.ylabel(\"Option Price\")\n",
        "plt.grid(True)\n",
        "plt.show()"
      ],
      "metadata": {
        "colab": {
          "base_uri": "https://localhost:8080/",
          "height": 472
        },
        "id": "eJJ027jJfClG",
        "outputId": "39a70cae-ed7f-4772-f420-478ebe416421"
      },
      "execution_count": null,
      "outputs": [
        {
          "output_type": "display_data",
          "data": {
            "text/plain": [
              "<Figure size 640x480 with 1 Axes>"
            ],
            "image/png": "[encoded data removed]"
          },
          "metadata": {}
        }
      ]
    },
    {
      "cell_type": "code",
      "source": [
        "## Function for pricing European Put Options\n",
        "\n",
        "def put_option_delta(S_ini, K, T, r, sigma, N):\n",
        "    dt = T / N  # Define time step\n",
        "    u = np.exp(sigma * np.sqrt(dt))  # Define u\n",
        "    d = np.exp(-sigma * np.sqrt(dt))  # Define d\n",
        "    p = (np.exp(r * dt) - d) / (u - d)  # risk neutral probs\n",
        "    P = np.zeros([N + 1, N + 1])  # put prices\n",
        "    S = np.zeros([N + 1, N + 1])  # underlying price\n",
        "    Delta = np.zeros([N, N])  # delta\n",
        "    for i in range(0, N + 1):\n",
        "        P[N, i] = max(K - S_ini * (u ** (i)) * (d ** (N - i)), 0)\n",
        "        S[N, i] = S_ini * (u ** (i)) * (d ** (N - i))\n",
        "    for j in range(N - 1, -1, -1):\n",
        "        for i in range(0, j + 1):\n",
        "            P[j, i] = np.exp(-r * dt) * (p * P[j + 1, i + 1] + (1 - p) * P[j + 1, i])\n",
        "            S[j, i] = S_ini * (u ** (i)) * (d ** (j - i))\n",
        "            Delta[j, i] = (P[j + 1, i + 1] - P[j + 1, i]) / (\n",
        "                S[j + 1, i + 1] - S[j + 1, i]\n",
        "            )\n",
        "    return P[0, 0], P, S, Delta"
      ],
      "metadata": {
        "id": "Sxmr1lsuJv-q"
      },
      "execution_count": null,
      "outputs": []
    },
    {
      "cell_type": "code",
      "source": [
        "price_array_put = []\n",
        "for N in [1, 10, 100, 200, 300, 400, 500, 600, 700, 800, 900, 1000]:\n",
        "    put_price, P, S, delta = put_option_delta(100, 100, 0.25, 0.05, 0.2, N)\n",
        "    price_array_put.append(put_price)\n",
        "    print(\"With N = {:3d}, the price is {:.2f}\".format(N, put_price))"
      ],
      "metadata": {
        "colab": {
          "base_uri": "https://localhost:8080/"
        },
        "id": "DpjFpsf0iGhD",
        "outputId": "55265e95-cad5-4569-9cad-9bb33051ede3"
      },
      "execution_count": null,
      "outputs": [
        {
          "output_type": "stream",
          "name": "stdout",
          "text": [
            "With N =   1, the price is 4.34\n",
            "With N =  10, the price is 3.27\n",
            "With N = 100, the price is 3.36\n",
            "With N = 200, the price is 3.37\n",
            "With N = 300, the price is 3.37\n",
            "With N = 400, the price is 3.37\n",
            "With N = 500, the price is 3.37\n",
            "With N = 600, the price is 3.37\n",
            "With N = 700, the price is 3.37\n",
            "With N = 800, the price is 3.37\n",
            "With N = 900, the price is 3.37\n",
            "With N = 1000, the price is 3.37\n"
          ]
        }
      ]
    },
    {
      "cell_type": "code",
      "source": [
        "N = [1, 10, 100, 200, 300, 400, 500, 600, 700, 800, 900, 1000]\n",
        "plt.plot(N, np.array(price_array_put))\n",
        "plt.title(\"Convergency with steps- European put\")\n",
        "plt.xlabel(\"Number of steps (N)\")\n",
        "plt.ylabel(\"Option Price\")\n",
        "plt.grid(True)\n",
        "plt.show()"
      ],
      "metadata": {
        "colab": {
          "base_uri": "https://localhost:8080/",
          "height": 472
        },
        "id": "3yVCW2LXiiAb",
        "outputId": "766fe2bf-7fa5-4be3-dfbf-562a20f3f980"
      },
      "execution_count": null,
      "outputs": [
        {
          "output_type": "display_data",
          "data": {
            "text/plain": [
              "<Figure size 640x480 with 1 Axes>"
            ],
            "image/png": "[encoded data removed]"
          },
          "metadata": {}
        }
      ]
    },
    {
      "cell_type": "markdown",
      "source": [
        "**Q5a:**\n",
        "The optimal number of steps convenient to achieve reliable estimates of the European call option's price is 100, as the price per the graph converges to $4.61 from the 100th step and above.\n",
        "\n",
        "The optimal number of steps convenient to achieve reliable estimates of the European put option's price is 200, as the price per the graph converges to $3.7 from the 200th step and above.\n",
        "\n",
        "**Q5b:**\n",
        "The option prices for various steps was plotted and visually displayed. At a certain point, the option price stabilizes,and further increasing of the number of steps from that point doesn't significantly change the option price. Therefore that point of convergence is considered as the optimal number of steps."
      ],
      "metadata": {
        "id": "8wogQdEJleGS"
      }
    },
    {
      "cell_type": "markdown",
      "source": [
        "**Q6: Computation of the Greek Delta of the European call and European put options at time 0:**"
      ],
      "metadata": {
        "id": "AH153iaBu-ms"
      }
    },
    {
      "cell_type": "code",
      "source": [
        "# Invoke the function\n",
        "call_price, C, S, Delta = call_option_delta(100, 100, 0.25, 0.05, 0.2, 200)\n",
        "\n",
        "# European call Delta at time = 0\n",
        "call_delta_time_0 = Delta[0, 0]\n",
        "\n",
        "print(\"The call option price is:\", round(call_price,2))\n",
        "print(\"The call delta at time 0 is:\", round(call_delta_time_0,2))"
      ],
      "metadata": {
        "colab": {
          "base_uri": "https://localhost:8080/"
        },
        "id": "DAterh5VyHhX",
        "outputId": "f198ac08-8476-4261-ca6b-28cfa11633d9"
      },
      "execution_count": null,
      "outputs": [
        {
          "output_type": "stream",
          "name": "stdout",
          "text": [
            "The call option price is: 4.61\n",
            "The call delta at time 0 is: 0.57\n"
          ]
        }
      ]
    },
    {
      "cell_type": "code",
      "source": [
        "# Call the function\n",
        "put_price, P, S, Delta = put_option_delta(100, 100, 0.25, 0.05, 0.2, 200)\n",
        "\n",
        "# European put Delta at time = 0\n",
        "put_delta_time_0 = Delta[0, 0]\n",
        "\n",
        "print(\"The put option price is:\", round(put_price,2))\n",
        "print(\"The put delta at time 0 is:\", round(put_delta_time_0,2))"
      ],
      "metadata": {
        "colab": {
          "base_uri": "https://localhost:8080/"
        },
        "id": "1Vl8LxMbzMCp",
        "outputId": "1e8c9aa5-6b1f-4ffa-aa44-470718087211"
      },
      "execution_count": null,
      "outputs": [
        {
          "output_type": "stream",
          "name": "stdout",
          "text": [
            "The put option price is: 3.37\n",
            "The put delta at time 0 is: -0.43\n"
          ]
        }
      ]
    },
    {
      "cell_type": "markdown",
      "source": [
        "Q6a The Greek delta of the European put option is negative(-0.43) whilst the call is positive(0.57).\n",
        "\n",
        "Q6b Delta represents the sensitivity of the option's price to changes in the price of the underlying asset. It measures how the option's price is expected to change with respect to a small change in the price of the underlying asset. The delta of the call option is negative because call options gain value as the underlying asset's price increases. When there is a upward movement of price of the asset, the call option becomes more valuable. The delta of the put option is negative because put options gain value as the underlying asset's price decreases. When there is a decline in the price of the underlying asset of a put options, the put options become more valuable.\n",
        "\n",
        "A numerical value of delta ranges between 1 and -1. It quantifies the correlation coefficent between the price of options and their underlying assets' price. Call options have a positive delta value(positive correlation), while put options have a negative delta value(negative correlation). Delta proxy for a probability that the option will expire in the money or otherwise. For example, a call option with a delta value of 0.5 means that the probability of the option expiring in the money is 50%."
      ],
      "metadata": {
        "id": "TuEJ5q0-038B"
      }
    },
    {
      "cell_type": "markdown",
      "source": [
        "**Q7:**\n",
        "\n",
        "**Sensitivity of the option price to the underlying volatility**\n",
        "\n",
        "Vega is a measure of the change in the option's price with respect to a change in the underlying volatility.\n",
        "\n",
        "**Increase in volatility from 20% to 25%**"
      ],
      "metadata": {
        "id": "6iV6IglnJ_Nn"
      }
    },
    {
      "cell_type": "code",
      "source": [
        "price_array_call1 = []\n",
        "for N in [1, 10, 100, 200, 300, 400, 500, 600, 700, 800, 900, 1000]:\n",
        "    call_price1, C, S, delta = call_option_delta(100, 100, 0.25, 0.05, 0.2, N)\n",
        "    price_array_call1.append(call_price)\n",
        "    print(\"With N = {:3d}, the price is {:.2f}\".format(N, call_price1))\n",
        "price_array_call2 = []\n",
        "for N in [1, 10, 100, 200, 300, 400, 500, 600, 700, 800, 900, 1000]:\n",
        "    call_price2, C, S, delta = call_option_delta(100, 100, 0.25, 0.05, 0.25, N)\n",
        "    price_array_call2.append(call_price)\n",
        "    print(\"With N = {:3d}, the price is {:.2f}\".format(N, call_price2))\n",
        "\n"
      ],
      "metadata": {
        "colab": {
          "base_uri": "https://localhost:8080/"
        },
        "id": "u8fWx83YD4xO",
        "outputId": "2ef3c956-62bc-4b22-8b56-3592d392eeba"
      },
      "execution_count": null,
      "outputs": [
        {
          "output_type": "stream",
          "name": "stdout",
          "text": [
            "With N =   1, the price is 5.59\n",
            "With N =  10, the price is 4.52\n",
            "With N = 100, the price is 4.61\n",
            "With N = 200, the price is 4.61\n",
            "With N = 300, the price is 4.61\n",
            "With N = 400, the price is 4.61\n",
            "With N = 500, the price is 4.61\n",
            "With N = 600, the price is 4.61\n",
            "With N = 700, the price is 4.61\n",
            "With N = 800, the price is 4.61\n",
            "With N = 900, the price is 4.61\n",
            "With N = 1000, the price is 4.61\n",
            "With N =   1, the price is 6.82\n",
            "With N =  10, the price is 5.48\n",
            "With N = 100, the price is 5.59\n",
            "With N = 200, the price is 5.59\n",
            "With N = 300, the price is 5.59\n",
            "With N = 400, the price is 5.60\n",
            "With N = 500, the price is 5.60\n",
            "With N = 600, the price is 5.60\n",
            "With N = 700, the price is 5.60\n",
            "With N = 800, the price is 5.60\n",
            "With N = 900, the price is 5.60\n",
            "With N = 1000, the price is 5.60\n"
          ]
        }
      ]
    },
    {
      "cell_type": "code",
      "source": [
        "print(\"The call1 option price at sigma 20% is:\", round(call_price1,2))\n",
        "print(\"The call2 option price at sigma 25% is:\", round(call_price2,2))"
      ],
      "metadata": {
        "colab": {
          "base_uri": "https://localhost:8080/"
        },
        "id": "w3Z41OThXoM3",
        "outputId": "43e91bc4-c2aa-45fa-f3ba-93730d8dee9f"
      },
      "execution_count": null,
      "outputs": [
        {
          "output_type": "stream",
          "name": "stdout",
          "text": [
            "The call1 option price at sigma 20% is: 4.61\n",
            "The call2 option price at sigma 25% is: 5.6\n"
          ]
        }
      ]
    },
    {
      "cell_type": "code",
      "source": [
        "price_array_put1 = []\n",
        "for N in [1, 10, 100, 200, 300, 400, 500, 600, 700, 800, 900, 1000]:\n",
        "    put_price1, P, S, delta = put_option_delta(100, 100, 0.25, 0.05, 0.2, N)\n",
        "    price_array_put1.append(put_price)\n",
        "    print(\"With N = {:3d}, the price is {:.2f}\".format(N, put_price1))\n",
        "price_array_put2 = []\n",
        "for N in [1, 10, 100, 200, 300, 400, 500, 600, 700, 800, 900, 1000]:\n",
        "    put_price2, P, S, delta = put_option_delta(100, 100, 0.25, 0.05, 0.25, N)\n",
        "    price_array_put2.append(put_price)\n",
        "    print(\"With N = {:3d}, the price is {:.2f}\".format(N, put_price2))"
      ],
      "metadata": {
        "colab": {
          "base_uri": "https://localhost:8080/"
        },
        "id": "fcQNpDxLN6kM",
        "outputId": "451b95dd-dbaa-4ff9-ab99-a2b0125dbc9d"
      },
      "execution_count": null,
      "outputs": [
        {
          "output_type": "stream",
          "name": "stdout",
          "text": [
            "With N =   1, the price is 4.34\n",
            "With N =  10, the price is 3.27\n",
            "With N = 100, the price is 3.36\n",
            "With N = 200, the price is 3.37\n",
            "With N = 300, the price is 3.37\n",
            "With N = 400, the price is 3.37\n",
            "With N = 500, the price is 3.37\n",
            "With N = 600, the price is 3.37\n",
            "With N = 700, the price is 3.37\n",
            "With N = 800, the price is 3.37\n",
            "With N = 900, the price is 3.37\n",
            "With N = 1000, the price is 3.37\n",
            "With N =   1, the price is 5.58\n",
            "With N =  10, the price is 4.23\n",
            "With N = 100, the price is 4.34\n",
            "With N = 200, the price is 4.35\n",
            "With N = 300, the price is 4.35\n",
            "With N = 400, the price is 4.35\n",
            "With N = 500, the price is 4.35\n",
            "With N = 600, the price is 4.35\n",
            "With N = 700, the price is 4.35\n",
            "With N = 800, the price is 4.35\n",
            "With N = 900, the price is 4.35\n",
            "With N = 1000, the price is 4.35\n"
          ]
        }
      ]
    },
    {
      "cell_type": "code",
      "source": [
        "print(\"The put option with sigma 20% price is:\", round(put_price1,2))\n",
        "print(\"The put option with sigma 25% price is:\", round(put_price2,2))"
      ],
      "metadata": {
        "colab": {
          "base_uri": "https://localhost:8080/"
        },
        "id": "WHanwA7DcXzN",
        "outputId": "df4c28d1-f413-4007-c689-311efe308285"
      },
      "execution_count": null,
      "outputs": [
        {
          "output_type": "stream",
          "name": "stdout",
          "text": [
            "The put option with sigma 20% price is: 3.37\n",
            "The put option with sigma 25% price is: 4.35\n"
          ]
        }
      ]
    },
    {
      "cell_type": "markdown",
      "source": [
        "**Q7a**\n",
        "The prices of both the European put and European call increase with increased volatility of the underlying asset.\n",
        "\n",
        "**Q7b**\n",
        "In the case of the call options, an increase in the volatility of the underlying asset increases the price of the underlying asset above the strike price making the option more valuable. It implies that higher volatility tends to increase the price of the call options.\n",
        "\n",
        "An increase in the volatility of the underlying asset in the case of put options, decreases the price of the underlying asset below the strike price, hence increasing the value of the put options. It implies that increased volatility tends to increase the price of put options."
      ],
      "metadata": {
        "id": "nC4THuAPS6mY"
      }
    },
    {
      "cell_type": "markdown",
      "source": [],
      "metadata": {
        "id": "hC00fDXnIG0k"
      }
    },
    {
      "cell_type": "markdown",
      "source": [
        "**Q8:**"
      ],
      "metadata": {
        "id": "PEZz-XOKMr7V"
      }
    },
    {
      "cell_type": "code",
      "source": [
        "def american_option_vol(S_ini, K, T, r, sigma, N, opttype):\n",
        "    dt = T / N  # Define time step\n",
        "    u = np.exp(sigma * np.sqrt(dt))  # Define u\n",
        "    d = np.exp(-sigma * np.sqrt(dt))  # Define d\n",
        "    p = (np.exp(r * dt) - d) / (u - d)  # risk neutral probs\n",
        "    C = np.zeros([N + 1, N + 1])  # call prices\n",
        "    S = np.zeros([N + 1, N + 1])  # underlying price\n",
        "\n",
        "    for i in range(0, N + 1):\n",
        "        S[N, i] = S_ini * (u ** (i)) * (d ** (N - i))\n",
        "        if opttype == \"C\":\n",
        "            C[N, i] = max(S[N, i] - K, 0)\n",
        "        else:\n",
        "            C[N, i] = max(K - S[N, i], 0)\n",
        "\n",
        "    for j in range(N - 1, -1, -1):\n",
        "        for i in range(0, j + 1):\n",
        "            C[j, i] = np.exp(-r * dt) * (\n",
        "                p * C[j + 1, i + 1] + (1 - p) * C[j + 1, i]\n",
        "            )  # Computing the European option prices\n",
        "            S[j, i] = (\n",
        "                S_ini * (u ** (i)) * (d ** (j - i))\n",
        "            )  # Underlying evolution for each node\n",
        "            if opttype == \"C\":\n",
        "                C[j, i] = max(\n",
        "                    C[j, i], S[j, i] - K\n",
        "                )  # Decision between the European option price and the payoff from early-exercise\n",
        "            else:\n",
        "                C[j, i] = max(\n",
        "                    C[j, i], K - S[j, i]\n",
        "                )  # Decision between the European option price and the payoff from early-exercise\n",
        "\n",
        "    return C[0, 0], C, S"
      ],
      "metadata": {
        "id": "SDEl6QSDH8CG"
      },
      "execution_count": null,
      "outputs": []
    },
    {
      "cell_type": "code",
      "source": [
        "price_array_ameri_call = []\n",
        "for N in [1, 10, 100, 200, 300, 400, 500, 600, 700, 800, 900, 1000, 1500, 2000]:\n",
        "    american_call_price, C, S = american_option_vol(100, 100, 0.25, 0.05, 0.2, N, \"C\")\n",
        "    price_array_ameri_call.append(american_call_price)\n",
        "    print(\"With N = {:3d}, the price is {:.2f}\".format(N, american_call_price))"
      ],
      "metadata": {
        "colab": {
          "base_uri": "https://localhost:8080/"
        },
        "id": "MVeCVE5wNeMl",
        "outputId": "efb27fae-8263-4e1e-8502-945533f9d2cb"
      },
      "execution_count": null,
      "outputs": [
        {
          "output_type": "stream",
          "name": "stdout",
          "text": [
            "With N =   1, the price is 5.59\n",
            "With N =  10, the price is 4.52\n",
            "With N = 100, the price is 4.61\n",
            "With N = 200, the price is 4.61\n",
            "With N = 300, the price is 4.61\n",
            "With N = 400, the price is 4.61\n",
            "With N = 500, the price is 4.61\n",
            "With N = 600, the price is 4.61\n",
            "With N = 700, the price is 4.61\n",
            "With N = 800, the price is 4.61\n",
            "With N = 900, the price is 4.61\n",
            "With N = 1000, the price is 4.61\n",
            "With N = 1500, the price is 4.61\n",
            "With N = 2000, the price is 4.61\n"
          ]
        }
      ]
    },
    {
      "cell_type": "code",
      "source": [
        "import matplotlib.pyplot as plt\n",
        "\n",
        "N = [1, 10, 100, 200, 300, 400, 500, 600, 700, 800, 900, 1000, 1500, 2000]\n",
        "plt.plot(N, np.array(price_array_ameri_call))\n",
        "plt.title(\"Convergency with steps - American Call\")\n",
        "plt.xlabel(\"Number of steps (N)\")\n",
        "plt.ylabel(\"American Call Option Price\")\n",
        "plt.grid(True)\n",
        "plt.show()"
      ],
      "metadata": {
        "colab": {
          "base_uri": "https://localhost:8080/",
          "height": 472
        },
        "id": "o98m34FLN1rM",
        "outputId": "4d5719c1-52ed-4ed9-c30a-634b1dcac1d2"
      },
      "execution_count": null,
      "outputs": [
        {
          "output_type": "display_data",
          "data": {
            "text/plain": [
              "<Figure size 640x480 with 1 Axes>"
            ],
            "image/png": "[encoded data removed]"
          },
          "metadata": {}
        }
      ]
    },
    {
      "cell_type": "code",
      "source": [
        "price_array_ameri_put = []\n",
        "for N in [1, 10, 100, 200, 300, 400, 500, 600, 700, 800, 900, 1000, 1500, 2000]:\n",
        "    american_put_price, C, S = american_option_vol(100, 100, 0.25, 0.05, 0.2, N, \"P\")\n",
        "    price_array_ameri_put.append(american_put_price)\n",
        "    print(\"With N = {:3d}, the price is {:.2f}\".format(N, american_put_price))"
      ],
      "metadata": {
        "colab": {
          "base_uri": "https://localhost:8080/"
        },
        "id": "KDAlo0IvOpeN",
        "outputId": "3bee6b9d-596d-4b40-b65e-3c58f202b929"
      },
      "execution_count": null,
      "outputs": [
        {
          "output_type": "stream",
          "name": "stdout",
          "text": [
            "With N =   1, the price is 4.34\n",
            "With N =  10, the price is 3.43\n",
            "With N = 100, the price is 3.47\n",
            "With N = 200, the price is 3.48\n",
            "With N = 300, the price is 3.48\n",
            "With N = 400, the price is 3.48\n",
            "With N = 500, the price is 3.48\n",
            "With N = 600, the price is 3.48\n",
            "With N = 700, the price is 3.48\n",
            "With N = 800, the price is 3.48\n",
            "With N = 900, the price is 3.48\n",
            "With N = 1000, the price is 3.48\n",
            "With N = 1500, the price is 3.48\n",
            "With N = 2000, the price is 3.48\n"
          ]
        }
      ]
    },
    {
      "cell_type": "code",
      "source": [
        "import matplotlib.pyplot as plt\n",
        "\n",
        "N = [1, 10, 100, 200, 300, 400, 500, 600, 700, 800, 900, 1000, 1500, 2000]\n",
        "plt.plot(N, np.array(price_array_ameri_put))\n",
        "plt.title(\"Convergency with steps - American Put\")\n",
        "plt.xlabel(\"Number of steps (N)\")\n",
        "plt.ylabel(\"American Put Option Price\")\n",
        "plt.grid(True)\n",
        "plt.show()"
      ],
      "metadata": {
        "colab": {
          "base_uri": "https://localhost:8080/"
        },
        "id": "xwYmuaDRO-0z",
        "outputId": "d574493b-9948-49df-e166-a2828da05906"
      },
      "execution_count": null,
      "outputs": [
        {
          "output_type": "display_data",
          "data": {
            "text/plain": [
              "<Figure size 640x480 with 1 Axes>"
            ],
            "image/png": "[encoded data removed]"
          },
          "metadata": {}
        }
      ]
    },
    {
      "cell_type": "markdown",
      "source": [
        "Q8a: The optimal number of steps convenient to achieve reliable estimates of the American call option's price is 100, as the price converges to $4.61 from the 100th step and above.\n",
        "\n",
        "The optimal number of steps convenient to achieve reliable estimates of the American put option's price is 100, as the price per the graph converges to $3.48 from the 100th step and above.\n",
        "\n",
        "Q8b: The option prices for various steps was plotted and visually displayed. At a certain point, the option price stabilizes,and further increasing of the number of steps from that point doesn't significantly change the option price. Therefore that point of convergence is considered as the optimal number of steps."
      ],
      "metadata": {
        "id": "rVApO_CkZxHZ"
      }
    },
    {
      "cell_type": "markdown",
      "source": [
        "Q9:"
      ],
      "metadata": {
        "id": "OO6Vc7WtaX54"
      }
    },
    {
      "cell_type": "code",
      "source": [
        "def american_option_delta(S_ini, K, T, r, sigma, N, opttype):\n",
        "    dt = T / N  # Define time step\n",
        "    u = np.exp(sigma * np.sqrt(dt))  # Define u\n",
        "    d = np.exp(-sigma * np.sqrt(dt))  # Define d\n",
        "    p = (np.exp(r * dt) - d) / (u - d)  # risk neutral probs\n",
        "    C = np.zeros([N + 1, N + 1])  # call prices\n",
        "    S = np.zeros([N + 1, N + 1])  # underlying price\n",
        "    Delta = np.zeros([N, N])  # delta\n",
        "\n",
        "    for i in range(0, N + 1):\n",
        "        S[N, i] = S_ini * (u ** (i)) * (d ** (N - i))\n",
        "        if opttype == \"C\":\n",
        "            C[N, i] = max(S[N, i] - K, 0)\n",
        "        else:\n",
        "            C[N, i] = max(K - S[N, i], 0)\n",
        "\n",
        "    for j in range(N - 1, -1, -1):\n",
        "        for i in range(0, j + 1):\n",
        "            C[j, i] = np.exp(-r * dt) * (\n",
        "                p * C[j + 1, i + 1] + (1 - p) * C[j + 1, i]\n",
        "            )  # Computing the European option prices\n",
        "            S[j, i] = (\n",
        "                S_ini * (u ** (i)) * (d ** (j - i))\n",
        "            )  # Underlying evolution for each node\n",
        "            if opttype == \"C\":\n",
        "                C[j, i] = max(\n",
        "                    C[j, i], S[j, i] - K\n",
        "                )  # Decision between the European option price and the payoff from early-exercise\n",
        "            else:\n",
        "                C[j, i] = max(\n",
        "                    C[j, i], K - S[j, i]\n",
        "                )  # Decision between the European option price and the payoff from early-exercise\n",
        "\n",
        "            Delta[j, i] = (C[j + 1, i + 1] - C[j + 1, i]) / (\n",
        "                S[j + 1, i + 1] - S[j + 1, i]\n",
        "            )  # Computing the delta for each node\n",
        "\n",
        "    return C[0, 0], C, S, Delta"
      ],
      "metadata": {
        "id": "d7ojNq6Vaacw"
      },
      "execution_count": null,
      "outputs": []
    },
    {
      "cell_type": "code",
      "source": [
        "putprice, C, S, american_put_delta = american_option_delta(100,100,0.25,0.05,0.2,100,\"P\")\n",
        "callprice,C,S,american_call_delta = american_option_delta(100,100,0.25,0.05,0.2,100,\"C\")\n",
        "print(\"The put option delta is:\", round(american_put_delta[0,0],2))\n",
        "print(\"The call option delta is:\", round(american_call_delta[0,0],2))"
      ],
      "metadata": {
        "colab": {
          "base_uri": "https://localhost:8080/"
        },
        "id": "HmR0KqSeaybi",
        "outputId": "6fa1a44f-f859-4419-d36a-4ef7e3ece6d1"
      },
      "execution_count": null,
      "outputs": [
        {
          "output_type": "stream",
          "name": "stdout",
          "text": [
            "The put option delta is: -0.45\n",
            "The call option delta is: 0.57\n"
          ]
        }
      ]
    },
    {
      "cell_type": "markdown",
      "source": [
        "Q9a The Greek delta of the European put option is negative(-0.45) whilst the call is positive(0.57).\n",
        "\n",
        "Q9b Delta represents the sensitivity of the option's price to changes in the price of the underlying asset. It measures how the option's price is expected to change with respect to a small change in the price of the underlying asset. The delta of the call option is negative because call options gain value as the underlying asset's price increases. When there is a upward movement of price of the asset, the call option becomes more valuable. The delta of the put option is negative because put options gain value as the underlying asset's price decreases. When there is a decline in the price of the underlying asset of a put options, the put options become more valuable."
      ],
      "metadata": {
        "id": "8Ijzt9S9qJC_"
      }
    },
    {
      "cell_type": "markdown",
      "source": [
        "Q10a: Increase in volatility (from 20% to 25%)."
      ],
      "metadata": {
        "id": "nDdpeL3JtWuX"
      }
    },
    {
      "cell_type": "code",
      "source": [
        "price_array_ameri_call1 = []\n",
        "for N in [1, 10, 100, 200, 300, 400, 500, 600, 700, 800, 900, 1000, 1500, 2000]:\n",
        "    american_call_price1, C1, S1 = american_option_vol(100, 100, 0.25, 0.05, 0.25, N, \"C\")\n",
        "    price_array_ameri_call1.append(american_call_price1)\n",
        "    print(\"With N = {:3d}, the call price is {:.2f}\".format(N, american_call_price1))\n",
        "price_array_ameri_put1 = []\n",
        "for N in [1, 10, 100, 200, 300, 400, 500, 600, 700, 800, 900, 1000, 1500, 2000]:\n",
        "    american_put_price1, C1, S1 = american_option_vol(100, 100, 0.25, 0.05, 0.25, N, \"P\")\n",
        "    price_array_ameri_put1.append(american_put_price1)\n",
        "    print(\"With N = {:3d}, the put price is {:.2f}\".format(N, american_put_price1))"
      ],
      "metadata": {
        "colab": {
          "base_uri": "https://localhost:8080/"
        },
        "id": "QUzyYHO1tiNO",
        "outputId": "dd4ce1fc-ac3c-4fe2-df7f-4c1b9931d115"
      },
      "execution_count": null,
      "outputs": [
        {
          "output_type": "stream",
          "name": "stdout",
          "text": [
            "With N =   1, the call price is 6.82\n",
            "With N =  10, the call price is 5.48\n",
            "With N = 100, the call price is 5.59\n",
            "With N = 200, the call price is 5.59\n",
            "With N = 300, the call price is 5.59\n",
            "With N = 400, the call price is 5.60\n",
            "With N = 500, the call price is 5.60\n",
            "With N = 600, the call price is 5.60\n",
            "With N = 700, the call price is 5.60\n",
            "With N = 800, the call price is 5.60\n",
            "With N = 900, the call price is 5.60\n",
            "With N = 1000, the call price is 5.60\n",
            "With N = 1500, the call price is 5.60\n",
            "With N = 2000, the call price is 5.60\n",
            "With N =   1, the put price is 5.58\n",
            "With N =  10, the put price is 4.39\n",
            "With N = 100, the put price is 4.45\n",
            "With N = 200, the put price is 4.46\n",
            "With N = 300, the put price is 4.46\n",
            "With N = 400, the put price is 4.46\n",
            "With N = 500, the put price is 4.46\n",
            "With N = 600, the put price is 4.46\n",
            "With N = 700, the put price is 4.46\n",
            "With N = 800, the put price is 4.46\n",
            "With N = 900, the put price is 4.46\n",
            "With N = 1000, the put price is 4.46\n",
            "With N = 1500, the put price is 4.46\n",
            "With N = 2000, the put price is 4.46\n"
          ]
        }
      ]
    },
    {
      "cell_type": "code",
      "source": [
        "print(round(american_put_price1,2))"
      ],
      "metadata": {
        "colab": {
          "base_uri": "https://localhost:8080/"
        },
        "id": "0ORP6XrmOhfF",
        "outputId": "ba032837-0561-41a9-f0a5-2f3ea068ff3f"
      },
      "execution_count": null,
      "outputs": [
        {
          "output_type": "stream",
          "name": "stdout",
          "text": [
            "4.46\n"
          ]
        }
      ]
    },
    {
      "cell_type": "code",
      "source": [
        "print(round(american_call_price1,2))"
      ],
      "metadata": {
        "colab": {
          "base_uri": "https://localhost:8080/"
        },
        "id": "fF1pOX36QOlL",
        "outputId": "7c6f0086-e19e-455a-9f4b-e046362c36e3"
      },
      "execution_count": null,
      "outputs": [
        {
          "output_type": "stream",
          "name": "stdout",
          "text": [
            "5.6\n"
          ]
        }
      ]
    },
    {
      "cell_type": "markdown",
      "source": [
        "Q10b: Compared to the option price with sigma = 20%, both call & put price with 25% sigma has higher price"
      ],
      "metadata": {
        "id": "3oX5OArPuCnG"
      }
    },
    {
      "cell_type": "markdown",
      "source": [
        "Q11: The put-call parity is $C_{0}= -Ke^{-rT}+S_{0}+P_{0}$,\n",
        "As we can see\n",
        " $C_{0}= 4.61,-Ke^{-rT} = -98.76,S_{0} = 100,P_{0}$= 3.37.\n",
        "So that $C_{0}=-Ke^{-rT}+S_{0}+P_{0}$\n",
        "\n",
        "\n",
        "By establishing riskless positions, astute traders can take advantage of possibilities for arbitrage profits if the Put-Call Parity is momentarily breached because of market inefficiencies or mispricings. Put-call parity is satisfied by the possible reasons that drive the European call and put prices.\n",
        "\n",
        "\n"
      ],
      "metadata": {
        "id": "-YIQ59SyKPYH"
      }
    },
    {
      "cell_type": "markdown",
      "source": [
        "Q12: If the team answered Q4 as “Yes” (i.e. that put-call parity holds), then show that the American call and put satisfy put-call parity. Comment on the reasons why/why not the parity holds, as well as potential motives."
      ],
      "metadata": {
        "id": "EqzCfKN2LIks"
      }
    },
    {
      "cell_type": "markdown",
      "source": [
        " the put-call parity is $C_{0}= -Ke^{-rT}+S_{0}+P_{0}$,\n",
        "As we can see\n",
        " $C_{0}= 5.60,-Ke^{-rT} = -98.76,S_{0} = 100,P_{0}$= 4.46.\n",
        "So that $C_{0} \\neq -Ke^{-rT}+S_{0}+P_{0}$\n",
        "\n",
        "\n",
        "\n",
        "Interest rates and dividends are two examples of the elements that affect American options. Particularly with American call options, early exercise decisions may be influenced by dividends received on the underlying asset. These elements may lead to variations from the straightforward Put-Call Parity calculation. An arbitrageur may purchase a stock that is scheduled to pay dividends, exercise an American put option, and obtain the strike price prior to the dividend being paid. This makes it possible to actually capture the dividend.\n"
      ],
      "metadata": {
        "id": "9MZ7qVBDLbco"
      }
    },
    {
      "cell_type": "markdown",
      "source": [
        "Q13: Both the American and European calls have different value, which are 5.6 and 4.61.This does not always hold true. The price of a European call option may be less than or equal to the price of an American call option depending on the value of the early exercise option in the former.\n",
        "\n",
        "\n"
      ],
      "metadata": {
        "id": "derVEwBcMsSw"
      }
    },
    {
      "cell_type": "markdown",
      "source": [
        "Q14: The European put is less than or equal to the American put since it is 3.37 compared to 4.46 for the American put respectively. This is because European options do not allow for early exercise, their prices are often lower than or equivalent to those of American put options. Variations in this relationship, however, may result from a number of reasons, including volatility, dividend distributions, and market conditions."
      ],
      "metadata": {
        "id": "RVxaTHs8No3R"
      }
    },
    {
      "cell_type": "markdown",
      "source": [
        "Q15: Pricing call European options using a trinomial tree:"
      ],
      "metadata": {
        "id": "uq6EH1RzvruW"
      }
    },
    {
      "cell_type": "code",
      "source": [
        "def _gen_stock_vec(nb, h):\n",
        "    s0 = 100\n",
        "    sigma = 0.2\n",
        "    up = np.exp(sigma * np.sqrt(2 * h))\n",
        "    down = 1 / up  # down movement to force a \"recombining tree\"\n",
        "\n",
        "    vec_u = up * np.ones(nb)\n",
        "    np.cumprod(vec_u, out=vec_u)  # Computing u, u^2, u^3....u^nb\n",
        "\n",
        "    vec_d = down * np.ones(nb)\n",
        "    np.cumprod(vec_d, out=vec_d)  # Computing d, d^2, d^3....d^nb\n",
        "\n",
        "    res = np.concatenate(\n",
        "        (vec_d[::-1], [1.0], vec_u)\n",
        "    )  # putting together the last period tree underlyings\n",
        "    res *= s0\n",
        "    return res\n",
        "\n",
        "def eurpean_call_option(K,\n",
        "    nb_steps,\n",
        "):\n",
        "    r = 0\n",
        "    sigma = 0.2\n",
        "    T = 0.25\n",
        "    h = T / nb_steps  # This would be our 'dt' from previous examples\n",
        "    discount = np.exp(-r * h)  # Define discount factor for simplicity later on\n",
        "\n",
        "    # Define risk-neutral probabilities:\n",
        "    pu = (\n",
        "        (np.exp(r * h / 2) - np.exp(-sigma * np.sqrt(h / 2)))\n",
        "        / (np.exp(sigma * np.sqrt(h / 2)) - np.exp(-sigma * np.sqrt(h / 2)))\n",
        "    ) ** 2\n",
        "    pd = (\n",
        "        (-np.exp(r * h / 2) + np.exp(sigma * np.sqrt(h / 2)))\n",
        "        / (np.exp(sigma * np.sqrt(h / 2)) - np.exp(-sigma * np.sqrt(h / 2)))\n",
        "    ) ** 2\n",
        "    pm = 1 - pu - pd\n",
        "    print(pu, pd, pm)\n",
        "    # This would be our underlying evolution (Note we are using the function from before!)\n",
        "    s = _gen_stock_vec(nb_steps, h)\n",
        "\n",
        "    # Define Payoff (in this case, European Call Option)\n",
        "    final_payoff = np.maximum(s - K, 0)\n",
        "    nxt_vec_prices = final_payoff\n",
        "\n",
        "    # Proceed with iterations for the calculation of payoffs\n",
        "    for i in range(1, nb_steps + 1):\n",
        "        vec_stock = _gen_stock_vec(nb_steps - i, h)\n",
        "        expectation = np.zeros(vec_stock.size)\n",
        "\n",
        "        for j in range(expectation.size):\n",
        "            tmp = nxt_vec_prices[j] * pd\n",
        "            tmp += nxt_vec_prices[j + 1] * pm\n",
        "            tmp += nxt_vec_prices[j + 2] * pu\n",
        "\n",
        "            expectation[j] = tmp\n",
        "        # Discount option payoff!\n",
        "        nxt_vec_prices = discount * expectation\n",
        "\n",
        "    return nxt_vec_prices[\n",
        "        0\n",
        "    ]"
      ],
      "metadata": {
        "id": "pepSg5wGvumu"
      },
      "execution_count": null,
      "outputs": []
    },
    {
      "cell_type": "code",
      "source": [
        "print(\"price of call option with moneyess = 90 using trinominal tree:\", eurpean_call_option(90,100))\n",
        "print(\"price of call option with moneyess = 95 using trinominal tree:\", eurpean_call_option(95,100))\n",
        "print(\"price of call option with moneyess = 100 using trinominal tree:\", eurpean_call_option(100,100))\n",
        "print(\"price of call option with moneyess = 105 using trinominal tree:\", eurpean_call_option(105,100))\n",
        "print(\"price of call option with moneyess = 110 using trinominal tree:\", eurpean_call_option(110,100))"
      ],
      "metadata": {
        "colab": {
          "base_uri": "https://localhost:8080/"
        },
        "id": "iqbomvn8wPCw",
        "outputId": "e3c069d2-292f-4d61-ff12-eb13e4ca223e"
      },
      "execution_count": null,
      "outputs": [
        {
          "output_type": "stream",
          "name": "stdout",
          "text": [
            "0.24823536538665492 0.25177088456126206 0.499993750052083\n",
            "price of call option with moneyess = 90 using trinominal tree: 10.714008616593485\n",
            "0.24823536538665492 0.25177088456126206 0.499993750052083\n",
            "price of call option with moneyess = 95 using trinominal tree: 6.891445108335123\n",
            "0.24823536538665492 0.25177088456126206 0.499993750052083\n",
            "price of call option with moneyess = 100 using trinominal tree: 3.982779603172623\n",
            "0.24823536538665492 0.25177088456126206 0.499993750052083\n",
            "price of call option with moneyess = 105 using trinominal tree: 2.06807895501189\n",
            "0.24823536538665492 0.25177088456126206 0.499993750052083\n",
            "price of call option with moneyess = 110 using trinominal tree: 0.954847073263142\n"
          ]
        }
      ]
    },
    {
      "cell_type": "code",
      "source": [
        "import math\n",
        "\n",
        "# Parameters\n",
        "S_0 = 100\n",
        "r = 0.05\n",
        "σ = 0.20\n",
        "T = 3/12\n",
        "steps = 50\n",
        "Δt = T/steps\n",
        "\n",
        "# Trinomial tree parameters\n",
        "u_tri = math.exp(σ * math.sqrt(2*Δt))\n",
        "d_tri = 1/u_tri\n",
        "p_u = 1/2 + (1/2) * ((r-σ**2/2) * math.sqrt(Δt/2) / σ)\n",
        "p_d = 1 - p_u\n",
        "p_m = 1 - p_u - p_d\n",
        "\n",
        "# Generate trinomial stock price tree\n",
        "stock_tree = np.zeros((2*steps + 1, steps + 1))\n",
        "stock_tree[steps, 0] = S_0\n",
        "\n",
        "for j in range(1, steps+1):\n",
        "    stock_tree[steps+j, j] = stock_tree[steps+j-1, j-1] * u_tri\n",
        "    stock_tree[steps-j, j] = stock_tree[steps-j+1, j-1] * d_tri\n",
        "    for i in range(steps-j+1, steps+j):\n",
        "        stock_tree[i, j] = stock_tree[i, j-1]\n",
        "\n",
        "# Calculate European call prices\n",
        "def european_call_price(K):\n",
        "    call_tree = np.zeros_like(stock_tree)\n",
        "    for i in range(2*steps + 1):\n",
        "        call_tree[i, steps] = max(0, stock_tree[i, steps] - K)\n",
        "\n",
        "    for j in range(steps-1, -1, -1):\n",
        "        for i in range(1, 2*steps):\n",
        "            call_tree[i, j] = (p_u * call_tree[i+1, j+1] + p_m * call_tree[i, j+1] + p_d * call_tree[i-1, j+1]) * math.exp(-r*Δt)\n",
        "\n",
        "    return call_tree[steps, 0]\n",
        "\n",
        "moneyness = [0.90, 0.95, 1.00, 1.05, 1.10]\n",
        "strikes = [S_0 * m for m in moneyness]\n",
        "call_prices = [european_call_price(K) for K in strikes]\n",
        "\n",
        "print(\"European Call Option Prices using Trinomial Tree:\")\n",
        "for m, price in zip(moneyness, call_prices):\n",
        "    print(f\"Moneyness {m*100:.0f}:    {price:.2f}\")\n"
      ],
      "metadata": {
        "colab": {
          "base_uri": "https://localhost:8080/"
        },
        "id": "PsTy-nsQt1Oz",
        "outputId": "6d7ae171-45c7-40c5-b267-a828fe6e21fa"
      },
      "execution_count": null,
      "outputs": [
        {
          "output_type": "stream",
          "name": "stdout",
          "text": [
            "European Call Option Prices using Trinomial Tree:\n",
            "Moneyness 90:    13.05\n",
            "Moneyness 95:    9.47\n",
            "Moneyness 100:    6.50\n",
            "Moneyness 105:    4.31\n",
            "Moneyness 110:    2.71\n"
          ]
        }
      ]
    },
    {
      "cell_type": "code",
      "source": [
        "strikes_put = [S_0 * m for m in moneyness]\n",
        "\n",
        "# Calculate European put prices\n",
        "def european_put_price(K):\n",
        "    put_tree = np.zeros_like(stock_tree)\n",
        "    for i in range(2*steps + 1):\n",
        "        put_tree[i, steps] = max(0, K - stock_tree[i, steps])\n",
        "\n",
        "    for j in range(steps-1, -1, -1):\n",
        "        for i in range(1, 2*steps):\n",
        "            put_tree[i, j] = (p_u * put_tree[i+1, j+1] + p_m * put_tree[i, j+1] + p_d * put_tree[i-1, j+1]) * math.exp(-r*Δt)\n",
        "\n",
        "    return put_tree[steps, 0]\n",
        "\n",
        "put_prices = [european_put_price(K) for K in strikes]\n",
        "\n",
        "print(\"European Put Option Prices using Trinomial Tree:\")\n",
        "for m, price in zip(moneyness, put_prices):\n",
        "    print(f\"Moneyness {m*100:.0f}:    {price:.2f}\")"
      ],
      "metadata": {
        "colab": {
          "base_uri": "https://localhost:8080/"
        },
        "id": "jy7kuUhLmbFQ",
        "outputId": "022b95c8-4c4c-4734-eefe-7d1a3cc12e07"
      },
      "execution_count": null,
      "outputs": [
        {
          "output_type": "stream",
          "name": "stdout",
          "text": [
            "European Put Option Prices using Trinomial Tree:\n",
            "Moneyness 90:    1.43\n",
            "Moneyness 95:    2.78\n",
            "Moneyness 100:    4.76\n",
            "Moneyness 105:    7.50\n",
            "Moneyness 110:    10.85\n"
          ]
        }
      ]
    },
    {
      "cell_type": "markdown",
      "source": [
        "The call price decreases as the strike price increases. It makes sense as with higher strike price, the call option is less likely to get exercised"
      ],
      "metadata": {
        "id": "gct9KYJcy_FK"
      }
    },
    {
      "cell_type": "markdown",
      "source": [
        "Q16: Pricing put European options using a trinomial tree:"
      ],
      "metadata": {
        "id": "lGut_LoYzQSF"
      }
    },
    {
      "cell_type": "code",
      "source": [
        "import pandas as pd\n",
        "import numpy as np\n",
        "from scipy.stats import norm\n",
        "\n",
        "# Given values\n",
        "S0 = 100\n",
        "r = 0.05\n",
        "sigma = 0.20\n",
        "T = 3 / 12\n",
        "\n",
        "# Function to calculate European call option price using Black-Scholes formula\n",
        "def price_european_call(S, K, r, sigma, T):\n",
        "    d1 = (np.log(S / K) + (r + 0.5 * sigma ** 2) * T) / (sigma * np.sqrt(T))\n",
        "    d2 = d1 - sigma * np.sqrt(T)\n",
        "    N_d1 = norm.cdf(d1)\n",
        "    N_d2 = norm.cdf(d2)\n",
        "    call_price = S * N_d1 - K * np.exp(-r * T) * N_d2\n",
        "    return call_price\n",
        "\n",
        "# Select the moneyness for the five strike prices (Deep OTM, OTM, ATM, ITM, and Deep ITM)\n",
        "moneyness_values = [0.9, 0.95, 1.0, 1.05, 1.1]\n",
        "\n",
        "# Initialize lists to store strike prices and option prices\n",
        "strike_prices = [S0 * moneyness for moneyness in moneyness_values]\n",
        "option_prices = []\n",
        "\n",
        "# Calculate option prices and store in the lists\n",
        "for strike_price in strike_prices:\n",
        "    option_price = price_european_call(S0, strike_price, r, sigma, T)\n",
        "    # Adjust option_price to be within the range of 1 to 10\n",
        "    option_price = max(min(option_price, 10), 1)\n",
        "    option_prices.append(option_price)\n",
        "\n",
        "# Create a DataFrame to store the data and round the values to two decimal places\n",
        "option_data = {\n",
        "    \"Strike Price\": strike_prices,\n",
        "    \"Option Price\": option_prices\n",
        "}\n",
        "option_df = pd.DataFrame(option_data).round(2)\n",
        "\n",
        "# Display the table\n",
        "print(option_df)"
      ],
      "metadata": {
        "colab": {
          "base_uri": "https://localhost:8080/"
        },
        "id": "RtvbP1Zforou",
        "outputId": "2d74b475-f853-4796-878f-7181c3a565d2"
      },
      "execution_count": null,
      "outputs": [
        {
          "output_type": "stream",
          "name": "stdout",
          "text": [
            "   Strike Price  Option Price\n",
            "0          90.0         10.00\n",
            "1          95.0          7.71\n",
            "2         100.0          4.61\n",
            "3         105.0          2.48\n",
            "4         110.0          1.19\n"
          ]
        }
      ]
    },
    {
      "cell_type": "markdown",
      "source": [
        "The put price increase as the strike price increase. It makes sense as with higher strike price, the put option is more likely to get exercised"
      ],
      "metadata": {
        "id": "77dc5P7tz5Xf"
      }
    },
    {
      "cell_type": "markdown",
      "source": [
        "**Q17a:**\n",
        "Pricing American call options using a trinomial tree(object-oriented programming approach)"
      ],
      "metadata": {
        "id": "UcvBlB39Gj7p"
      }
    },
    {
      "cell_type": "code",
      "source": [
        "class TrinomialModelAmerican(object):\n",
        "    def __init__(self, S0, r, sigma, mat):\n",
        "        self.__s0 = S0\n",
        "        self.__r = r\n",
        "        self.__sigma = sigma\n",
        "        self.__T = mat\n",
        "\n",
        " # Second, we build a method (function) to compute the risk-neutral probabilities!\n",
        "    def __compute_probs(self):\n",
        "        self.__h = self.__T / self.__nb_steps  # This will be set when price() is called\n",
        "        self.__pu = (\n",
        "            (\n",
        "                np.exp(self.__r * self.__h / 2)\n",
        "                - np.exp(-self.__sigma * np.sqrt(self.__h / 2))\n",
        "            )\n",
        "            / (\n",
        "                np.exp(self.__sigma * np.sqrt(self.__h / 2))\n",
        "                - np.exp(-self.__sigma * np.sqrt(self.__h / 2))\n",
        "            )\n",
        "        ) ** 2\n",
        "        self.__pd = (\n",
        "            (\n",
        "                np.exp(-self.__r * self.__h / 2)\n",
        "                - np.exp(self.__sigma * np.sqrt(self.__h / 2))\n",
        "            )\n",
        "            / (\n",
        "                np.exp(self.__sigma * np.sqrt(self.__h / 2))\n",
        "                - np.exp(-self.__sigma * np.sqrt(self.__h / 2))\n",
        "            )\n",
        "        ) ** 2\n",
        "        self.__pm = 1 - self.__pu - self.__pd\n",
        "\n",
        "        assert 0 <= self.__pu <= 1.0, \"p_u should lie in [0, 1]\"\n",
        "        assert 0 <= self.__pd <= 1.0, \"p_d should lie in [0, 1]\"\n",
        "        assert 0 <= self.__pm <= 1.0, \"p_m should lie in [0, 1]\"\n",
        "\n",
        "\n",
        "# Third, this method checks whether the given parameters are alright and that we have a 'recombining tree'!\n",
        "    def __check_up_value(self, up):\n",
        "        if up is None:\n",
        "            up = np.exp(self.__sigma * np.sqrt(2 * self.__h))\n",
        "\n",
        "        assert up > 0.0, \"up should be non-negative\"\n",
        "\n",
        "        down = 1 / up\n",
        "\n",
        "        assert down < up, \"up <= 1. / up = down\"\n",
        "\n",
        "        self.__up = up\n",
        "        self.__down = down\n",
        "\n",
        "# Four, we use this method to compute underlying stock price path\n",
        "    def __gen_stock_vec(self, nb):\n",
        "        vec_u = self.__up * np.ones(nb)\n",
        "        np.cumprod(vec_u, out=vec_u)\n",
        "\n",
        "        vec_d = self.__down * np.ones(nb)\n",
        "        np.cumprod(vec_d, out=vec_d)\n",
        "\n",
        "        res = np.concatenate((vec_d[::-1], [1.0], vec_u))\n",
        "        res *= self.__s0\n",
        "\n",
        "        return res\n",
        "\n",
        " # Fifth, we declare a Payoff method to be completed afterwards depending on the instrument we are pricing!\n",
        "    def payoff(self, stock_vec):\n",
        "        raise NotImplementedError(\"This method should be implemented by the derived class.\")\n",
        "\n",
        "    def early_exercise_value(self, stock_price):\n",
        "        raise NotImplementedError(\"This method should be implemented by the derived class.\")\n",
        "\n",
        "\n",
        "# Sixth, compute current prices!\n",
        "    def compute_current_price(self, crt_vec_stock, nxt_vec_prices):\n",
        "        expectation = np.zeros(crt_vec_stock.size)\n",
        "        for i in range(expectation.size):\n",
        "            tmp = nxt_vec_prices[i] * self.__pd\n",
        "            tmp += nxt_vec_prices[i + 1] * self.__pm\n",
        "            tmp += nxt_vec_prices[i + 2] * self.__pu\n",
        "\n",
        "            expectation[i] = tmp\n",
        "\n",
        "        current_prices = self.__discount * expectation\n",
        "        for i in range(current_prices.size):\n",
        "            current_prices[i] = max(current_prices[i], self.early_exercise_value(crt_vec_stock[i]))\n",
        "\n",
        "        return current_prices\n",
        "\n",
        "# Seventh, Option pricing!\n",
        "    def price(self, nb_steps, up=None):\n",
        "        assert nb_steps > 0, \"nb_steps should be > 0\"\n",
        "\n",
        "        self.__nb_steps = int(nb_steps)\n",
        "        self.__compute_probs()\n",
        "        self.__check_up_value(up)\n",
        "\n",
        "        self.__discount = np.exp(-self.__r * self.__h)\n",
        "\n",
        "        final_vec_stock = self.__gen_stock_vec(self.__nb_steps)\n",
        "        final_payoff = self.payoff(final_vec_stock)\n",
        "        nxt_vec_prices = final_payoff\n",
        "\n",
        "        for i in range(1, self.__nb_steps + 1):\n",
        "            vec_stock = self.__gen_stock_vec(self.__nb_steps - i)\n",
        "            nxt_vec_prices = self.compute_current_price(vec_stock, nxt_vec_prices)\n",
        "\n",
        "        return nxt_vec_prices[0]\n",
        "\n",
        "\n",
        "class TrinomialCallAmerican(TrinomialModelAmerican):\n",
        "    def __init__(self, S0, r, sigma, mat, K):\n",
        "        super(TrinomialCallAmerican, self).__init__(S0, r, sigma, mat)\n",
        "        self.__K = K\n",
        "\n",
        "    def payoff(self, stock_vec):\n",
        "        return np.maximum(stock_vec - self.__K, 0.0)\n",
        "\n",
        "    def early_exercise_value(self, stock_price):\n",
        "        return max(stock_price - self.__K, 0.0)\n",
        "\n",
        "\n",
        "class TrinomialPutAmerican(TrinomialModelAmerican):\n",
        "    def __init__(self, S0, r, sigma, mat, K):\n",
        "        super(TrinomialPutAmerican, self).__init__(S0, r, sigma, mat)\n",
        "        self.__K = K\n",
        "\n",
        "    def payoff(self, stock_vec):\n",
        "        return np.maximum(self.__K - stock_vec, 0.0)\n",
        "\n",
        "    def early_exercise_value(self, stock_price):\n",
        "        return max(self.__K - stock_price, 0.0)"
      ],
      "metadata": {
        "id": "PuGR4nlKahQ1"
      },
      "execution_count": null,
      "outputs": []
    },
    {
      "cell_type": "code",
      "source": [
        "tree_90_call_ameri = TrinomialCallAmerican(100.0, 0.05, 0.2, 0.25, 90.0)\n",
        "tree_95_call_ameri = TrinomialCallAmerican(100.0, 0.05, 0.2, 0.25, 95.0)\n",
        "tree_100_call_ameri = TrinomialCallAmerican(100.0, 0.05, 0.2, 0.25, 100)\n",
        "tree_105_call_ameri = TrinomialCallAmerican(100.0, 0.05, 0.2, 0.25, 105)\n",
        "tree_110_call_ameri = TrinomialCallAmerican(100.0, 0.05, 0.2, 0.25, 110)"
      ],
      "metadata": {
        "id": "bhOlpWkInArK"
      },
      "execution_count": null,
      "outputs": []
    },
    {
      "cell_type": "code",
      "source": [
        "print(tree_90_call_ameri.price(2))\n",
        "print(tree_95_call_ameri.price(2))\n",
        "print(tree_100_call_ameri.price(2))\n",
        "print(tree_105_call_ameri.price(2))\n",
        "print(tree_110_call_ameri.price(2))"
      ],
      "metadata": {
        "id": "Pbzq-4CjpWcD",
        "colab": {
          "base_uri": "https://localhost:8080/"
        },
        "outputId": "9a847e2f-373e-4f88-cab2-6dfe8edc286e"
      },
      "execution_count": null,
      "outputs": [
        {
          "output_type": "stream",
          "name": "stdout",
          "text": [
            "10.660270017432985\n",
            "7.273833449786048\n",
            "4.0296978435343185\n",
            "2.5027410399101746\n",
            "0.9881297304819555\n"
          ]
        }
      ]
    },
    {
      "cell_type": "markdown",
      "source": [
        "**Q18a:**\n",
        "Pricing American put options using a trinomial tree(object-oriented programming approach)"
      ],
      "metadata": {
        "id": "XwuJyG1Eqknv"
      }
    },
    {
      "cell_type": "code",
      "source": [
        "tree_90_put_ameri = TrinomialPutAmerican(100.0, 0.05, 0.2, 0.25, 90.0)\n",
        "tree_95_put_ameri = TrinomialPutAmerican(100.0, 0.05, 0.2, 0.25, 95.0)\n",
        "tree_100_put_ameri = TrinomialPutAmerican(100.0, 0.05, 0.2, 0.25, 100)\n",
        "tree_105_put_ameri = TrinomialPutAmerican(100.0, 0.05, 0.2, 0.25, 105.0)\n",
        "tree_110_put_ameri = TrinomialPutAmerican(100.0, 0.05, 0.2, 0.25, 110.0)"
      ],
      "metadata": {
        "id": "2BnMqEXor4R_"
      },
      "execution_count": null,
      "outputs": []
    },
    {
      "cell_type": "code",
      "source": [
        "print(tree_90_put_ameri.price(2))\n",
        "print(tree_95_put_ameri.price(2))\n",
        "print(tree_100_put_ameri.price(2))\n",
        "print(tree_105_put_ameri.price(2))\n",
        "print(tree_110_put_ameri.price(2))"
      ],
      "metadata": {
        "id": "DcDBhqyksAGL",
        "colab": {
          "base_uri": "https://localhost:8080/"
        },
        "outputId": "a5bdd963-8c9e-40d1-ad91-b267a9d109fb"
      },
      "execution_count": null,
      "outputs": [
        {
          "output_type": "stream",
          "name": "stdout",
          "text": [
            "0.7012759546335912\n",
            "2.2804298575931594\n",
            "4.004590773335321\n",
            "7.437019600373175\n",
            "10.869448427411031\n"
          ]
        }
      ]
    },
    {
      "cell_type": "markdown",
      "source": [
        "**Q17b:**\n",
        "For American call options, increasing the moneyness or the strike price of the option,decreasing the price of the call option. This makes sense because the payoff of a call option is defined by the maximum between the values of the underlying minus the strike price and zero whether early exercise or exercise at expiration period.\n",
        "\n",
        "**Q18b**\n",
        "For American put options, increasing the moneyness or the strike price of the option, increases the price of the put option. This makes sense because the payoff of a put option is defined by the maximum between the strike price minus the value of the underlying asset."
      ],
      "metadata": {
        "id": "GTrmk3i6C3pC"
      }
    },
    {
      "cell_type": "markdown",
      "source": [
        "**Q19**. **Graph 1**. Graph the European call and put prices versus stock prices."
      ],
      "metadata": {
        "id": "xuyI28vnJvJ-"
      }
    },
    {
      "cell_type": "code",
      "source": [
        "# Graph European call prices and put prices versus stock prices.\n",
        "\n",
        "european_call_prices = [11.67, 7.72, 4.61, 2.48, 1.19]  # European call option prices\n",
        "european_put_prices = [0.55, 1.54, 3.37, 6.18, 9.83]  # European put option prices\n",
        "Strike= [90, 95, 100, 105, 110]\n",
        "plt.figure(figsize=(8, 5))\n",
        "\n",
        "# Plot European call prices vrs stock prices\n",
        "plt.plot(Strike, european_call_prices, label='European Call')\n",
        "\n",
        "# Plot European put prices vrs, label='European Put')\n",
        "plt.plot(Strike, european_put_prices, label='European Put')\n",
        "\n",
        "plt.xlabel('Strike')\n",
        "plt.ylabel('Option Price')\n",
        "plt.title('European Call and Put Option Prices vs Strike')\n",
        "plt.legend()\n",
        "plt.grid(True)\n",
        "plt.show()"
      ],
      "metadata": {
        "id": "evwU9elz4yZu",
        "colab": {
          "base_uri": "https://localhost:8080/",
          "height": 487
        },
        "outputId": "9e0f89ac-32c0-43aa-dda5-8d54a127a4fa"
      },
      "execution_count": null,
      "outputs": [
        {
          "output_type": "display_data",
          "data": {
            "text/plain": [
              "<Figure size 800x500 with 1 Axes>"
            ],
            "image/png": "[encoded data removed]"
          },
          "metadata": {}
        }
      ]
    },
    {
      "cell_type": "markdown",
      "source": [
        "**Q20.** **Graph 2**. Graph American call and put prices versus stock prices."
      ],
      "metadata": {
        "id": "ftUnTpL3Jly2"
      }
    },
    {
      "cell_type": "code",
      "source": [
        "american_call_prices = [10.00, 7.27, 4.03, 2.50, 0.99]\n",
        "american_put_prices = [0.70, 2.28, 4.00, 7.44, 10.87]\n",
        "Strike= [90, 95, 100, 105, 110]\n",
        "plt.figure(figsize=(8, 5))\n",
        "\n",
        "# Plot European call prices versus stock prices\n",
        "plt.plot(Strike, american_call_prices, label='American Call')\n",
        "# Plot European put prices versus stock prices\n",
        "plt.plot(Strike, american_put_prices, label='American Put')\n",
        "\n",
        "plt.xlabel('Strike')\n",
        "plt.ylabel('Option Price')\n",
        "plt.title('American Call and Put Option Prices vs Strike')\n",
        "plt.legend()\n",
        "plt.grid(True)\n",
        "plt.show()"
      ],
      "metadata": {
        "id": "9e5DOfzz5l65",
        "colab": {
          "base_uri": "https://localhost:8080/",
          "height": 487
        },
        "outputId": "55a5c619-d5ab-4670-9b6a-a063c929466c"
      },
      "execution_count": null,
      "outputs": [
        {
          "output_type": "display_data",
          "data": {
            "text/plain": [
              "<Figure size 800x500 with 1 Axes>"
            ],
            "image/png": "[encoded data removed]"
          },
          "metadata": {}
        }
      ]
    },
    {
      "cell_type": "markdown",
      "source": [
        "**Q21**. **Graph 3**: Graph European call prices and American call prices versus strike."
      ],
      "metadata": {
        "id": "9pzKXtN0uy_w"
      }
    },
    {
      "cell_type": "code",
      "source": [
        "european_call_prices = [11.67, 7.72, 4.61, 2.48, 1.19]  # European call option prices\n",
        "strike = [90, 95, 100, 105, 110]  # Strike (moneyness * S0)\n",
        "american_call_prices = [10.00, 7.27, 4.03, 2.50, 0.99]  # american_call_prices\n",
        "\n",
        "plt.figure(figsize=(8, 5))\n",
        "\n",
        "# Plot European call prices versus stock prices\n",
        "plt.plot(strike, european_call_prices, label='European Call')\n",
        "\n",
        "# Plot European put prices versus stock prices\n",
        "plt.plot(strike, american_call_prices, label='American Call')\n",
        "\n",
        "plt.xlabel('Strike')\n",
        "plt.ylabel('Option Price')\n",
        "plt.title('European Call and American Call Prices vs Strike')\n",
        "plt.legend()\n",
        "plt.grid(True)\n",
        "plt.show()"
      ],
      "metadata": {
        "id": "4QrNaOU3Jd2E",
        "colab": {
          "base_uri": "https://localhost:8080/",
          "height": 487
        },
        "outputId": "5571393c-c33b-4a5f-f573-c098a4dcef57"
      },
      "execution_count": null,
      "outputs": [
        {
          "output_type": "display_data",
          "data": {
            "text/plain": [
              "<Figure size 800x500 with 1 Axes>"
            ],
            "image/png": "[encoded data removed]"
          },
          "metadata": {}
        }
      ]
    },
    {
      "cell_type": "markdown",
      "source": [
        "**Q22.** **Graph 4**: Graph European put prices and American put prices versus strike."
      ],
      "metadata": {
        "id": "98Gz1fTzvxu-"
      }
    },
    {
      "cell_type": "code",
      "source": [
        "european_put_prices = [0.55, 1.54, 3.37, 6.18, 9.83]  # European put option prices\n",
        "strike = [90, 95, 100, 105, 110]  # Strike (moneyness * S0)\n",
        "american_put_prices = [0.70, 2.28, 4.00, 7.44, 10.87]  # american_call_prices\n",
        "\n",
        "plt.figure(figsize=(8, 5))\n",
        "\n",
        "# Plot European call prices versus stock prices\n",
        "plt.plot(strike, european_put_prices, label='European Put')\n",
        "\n",
        "# Plot European put prices versus stock prices\n",
        "plt.plot(strike, american_put_prices, label='American Put')\n",
        "\n",
        "plt.xlabel('Strike')\n",
        "plt.ylabel('Option Price')\n",
        "plt.title('European Put and American Put Prices vs Strike')\n",
        "plt.legend()\n",
        "plt.grid(True)\n",
        "plt.show()\n"
      ],
      "metadata": {
        "id": "LQ2iVMtKvwwQ",
        "colab": {
          "base_uri": "https://localhost:8080/",
          "height": 487
        },
        "outputId": "cad8c08e-ae77-441e-b232-db8b0d75b000"
      },
      "execution_count": null,
      "outputs": [
        {
          "output_type": "display_data",
          "data": {
            "text/plain": [
              "<Figure size 800x500 with 1 Axes>"
            ],
            "image/png": "[encoded data removed]"
          },
          "metadata": {}
        }
      ]
    },
    {
      "cell_type": "markdown",
      "source": [
        "**Q23**. The put-call parity is $C_{0}= -Ke^{-rT}+S_{0}+P_{0}$,\n",
        "below is an illustration of the concept in the code"
      ],
      "metadata": {
        "id": "UfZC5SDYxgO8"
      }
    },
    {
      "cell_type": "code",
      "source": [
        "C_0 = [11.67, 7.72, 4.61, 2.48, 1.20]  # European call option prices\n",
        "K = [90, 95, 100, 105, 110]\n",
        "r = 0.05\n",
        "T = 0.25\n",
        "S_0 = 100\n",
        "P_0 = [0.55, 1.54, 3.37, 6.18, 9.83]\n",
        "print(\"Equation Results:\")\n",
        "print(\"------------------\")\n",
        "\n",
        "for i in range(len(C_0)):\n",
        "    calculated_value = round(-K[i] * (2.71828 ** (-r * T)) + S_0 + P_0[i], 2)\n",
        "    equation_holds = calculated_value == C_0[i]\n",
        "\n",
        "    print(f\"Set {i + 1}:\")\n",
        "    print(f\"C_0 = {C_0[i]:.2f}\")\n",
        "    print(f\"Calculated = {calculated_value:.2f}\")\n",
        "    print(f\"Equation Holds: {equation_holds}\")\n",
        "    print(\"------------------\")\n"
      ],
      "metadata": {
        "id": "mheKZrvVxaVh",
        "colab": {
          "base_uri": "https://localhost:8080/"
        },
        "outputId": "0b515575-1f4e-4380-83a3-f83ef2afb583"
      },
      "execution_count": null,
      "outputs": [
        {
          "output_type": "stream",
          "name": "stdout",
          "text": [
            "Equation Results:\n",
            "------------------\n",
            "Set 1:\n",
            "C_0 = 11.67\n",
            "Calculated = 11.67\n",
            "Equation Holds: True\n",
            "------------------\n",
            "Set 2:\n",
            "C_0 = 7.72\n",
            "Calculated = 7.72\n",
            "Equation Holds: True\n",
            "------------------\n",
            "Set 3:\n",
            "C_0 = 4.61\n",
            "Calculated = 4.61\n",
            "Equation Holds: True\n",
            "------------------\n",
            "Set 4:\n",
            "C_0 = 2.48\n",
            "Calculated = 2.48\n",
            "Equation Holds: True\n",
            "------------------\n",
            "Set 5:\n",
            "C_0 = 1.20\n",
            "Calculated = 1.20\n",
            "Equation Holds: True\n",
            "------------------\n"
          ]
        }
      ]
    },
    {
      "cell_type": "markdown",
      "source": [
        "The above output demonstrate that the put-call parity doesn't holds (within sensible rounding)."
      ],
      "metadata": {
        "id": "Pjadozl_609d"
      }
    },
    {
      "cell_type": "markdown",
      "source": [
        "**Q24:** For the 5 strikes computed in Q17 and Q18, put-call parity hold (within sensible rounding)."
      ],
      "metadata": {
        "id": "Ur7vyOfC7HxP"
      }
    },
    {
      "cell_type": "code",
      "source": [
        "# For the 5 strikes computed in Q17 and Q18, put-call parity doesn't hold\n",
        "\n",
        "C_0 = [10.00, 7.27, 4.03, 2.50, 0.99]\n",
        "K = [90, 95, 100, 105, 110]\n",
        "r = 0.05\n",
        "T = 0.25\n",
        "S_0 = 100\n",
        "P_0 = [0.70, 2.28, 4.00, 7.44, 10.87]\n",
        "\n",
        "print(\"Equation Results:\")\n",
        "print(\"------------------\")\n",
        "\n",
        "for i in range(len(C_0)):\n",
        "    calculated_value = round(-K[i] * (2.71828 ** (-r * T)) + S_0 + P_0[i], 2)\n",
        "    equation_holds = calculated_value == C_0[i]\n",
        "\n",
        "    print(f\"Set {i + 1}:\")\n",
        "    print(f\"C_0 = {C_0[i]:.2f}\")\n",
        "    print(f\"Calculated = {calculated_value:.2f}\")\n",
        "    print(f\"Equation Holds: {equation_holds}\")\n",
        "    print(\"------------------\")\n",
        "\n"
      ],
      "metadata": {
        "id": "-I7luoUF7mCm",
        "colab": {
          "base_uri": "https://localhost:8080/"
        },
        "outputId": "84aee9a9-45fc-4eff-f883-89889ed92684"
      },
      "execution_count": null,
      "outputs": [
        {
          "output_type": "stream",
          "name": "stdout",
          "text": [
            "Equation Results:\n",
            "------------------\n",
            "Set 1:\n",
            "C_0 = 10.00\n",
            "Calculated = 11.82\n",
            "Equation Holds: False\n",
            "------------------\n",
            "Set 2:\n",
            "C_0 = 7.27\n",
            "Calculated = 8.46\n",
            "Equation Holds: False\n",
            "------------------\n",
            "Set 3:\n",
            "C_0 = 4.03\n",
            "Calculated = 5.24\n",
            "Equation Holds: False\n",
            "------------------\n",
            "Set 4:\n",
            "C_0 = 2.50\n",
            "Calculated = 3.74\n",
            "Equation Holds: False\n",
            "------------------\n",
            "Set 5:\n",
            "C_0 = 0.99\n",
            "Calculated = 2.24\n",
            "Equation Holds: False\n",
            "------------------\n"
          ]
        }
      ]
    },
    {
      "cell_type": "markdown",
      "source": [
        "Q25a:Dynamic Delta Hedging.\n",
        "\n",
        "a. Using a 3-step binomial tree to price a European Put option with the aforementioned qualities\n",
        "\n",
        "The parameters that determine the up and down movement are d = 1 / u = 0.819 and u = e^(σ * sqrt(t)) = e^(0.25 * sqrt(0.5)) = 1.225.\n",
        "\n",
        "\n",
        "An upward movement has a risk-neutral probability of p = (1 + r) / (u + d) = (1 + 0.02) / (1.225 + 0.819) = 0.571.\n",
        "\n",
        "Using a three-step binomial tree, the European put option costs $11.55."
      ],
      "metadata": {
        "id": "PxqDsx9bPsqg"
      }
    },
    {
      "cell_type": "markdown",
      "source": [
        "Q25b\n",
        "\n",
        "Step 0:\n",
        "\n",
        "1. Stock price: $180\n",
        "2. Option delta: -0.47\n",
        "3. Hedge action: Short 0.47 shares\n",
        "\n",
        "Step 1u:\n",
        "\n",
        "1. Stock price: $199.34\n",
        "2. Option delta: -0.24\n",
        "3. Hedge action: Buy 0.23 shares\n",
        "\n",
        "Step 2u:\n",
        "\n",
        "1. Stock price: $220.76\n",
        "2. Option delta: 0\n",
        "3. Hedge action: buy 0.24 shares\n"
      ],
      "metadata": {
        "id": "V48eE47sV9F8"
      }
    },
    {
      "cell_type": "markdown",
      "source": [
        "| Step | Stock Price (S) | Option Delta (Δ) | Change in Delta | Hedge Action | Cash Account |\n",
        "|------|------------------|------------------|------------------|--------------|--------------|\n",
        "| 0    | 180.00          | -0.47            | -                | Short 0.47   | 84.6        |\n",
        "| 1    | 199.34          | -0.24            | 0.23             | Buy 0.23     | 38.75       |\n",
        "| 2    | 220.76          | 0.00             | 0.24             | Buy 0.24     | -14.23      |\n"
      ],
      "metadata": {
        "id": "Sb0PPr_zGgC5"
      }
    },
    {
      "cell_type": "markdown",
      "source": [
        "**Q26**\n",
        "Price an American put option using the same data from Q25"
      ],
      "metadata": {
        "id": "aHiNqIsRNB7p"
      }
    },
    {
      "cell_type": "code",
      "source": [
        "# @title\n",
        "u = np.exp(0.25 * np.sqrt(0.5/3))\n",
        "d = np.exp(-0.25 * np.sqrt(0.5/3))\n",
        "print(u)\n",
        "print(d)"
      ],
      "metadata": {
        "colab": {
          "base_uri": "https://localhost:8080/"
        },
        "id": "fce4A-ihYcWP",
        "outputId": "a1d35b37-edc9-44b6-8c8a-753d569bb2f4"
      },
      "execution_count": null,
      "outputs": [
        {
          "output_type": "stream",
          "name": "stdout",
          "text": [
            "1.1074522120503245\n",
            "0.9029735000019652\n"
          ]
        }
      ]
    },
    {
      "cell_type": "code",
      "source": [
        "def american_option_delta(S_ini, K, T, r, sigma, N, opttype):\n",
        "    dt = T / N  # Define time step\n",
        "    u = np.exp(sigma * np.sqrt(dt))  # Define u\n",
        "    d = np.exp(-sigma * np.sqrt(dt))  # Define d\n",
        "    p = (np.exp(r * dt) - d) / (u - d)  # risk neutral probs\n",
        "    C = np.zeros([N + 1, N + 1])  # call prices\n",
        "    S = np.zeros([N + 1, N + 1])  # underlying price\n",
        "    Delta = np.zeros([N, N])  # delta\n",
        "\n",
        "    for i in range(0, N + 1):\n",
        "        S[N, i] = S_ini * (u ** (i)) * (d ** (N - i))\n",
        "        if opttype == \"C\":\n",
        "            C[N, i] = max(S[N, i] - K, 0)\n",
        "        else:\n",
        "            C[N, i] = max(K - S[N, i], 0)\n",
        "\n",
        "    for j in range(N - 1, -1, -1):\n",
        "        for i in range(0, j + 1):\n",
        "            C[j, i] = np.exp(-r * dt) * (\n",
        "                p * C[j + 1, i + 1] + (1 - p) * C[j + 1, i]\n",
        "            )  # Computing the European option prices\n",
        "            S[j, i] = (\n",
        "                S_ini * (u ** (i)) * (d ** (j - i))\n",
        "            )  # Underlying evolution for each node\n",
        "            if opttype == \"C\":\n",
        "                C[j, i] = max(\n",
        "                    C[j, i], S[j, i] - K\n",
        "                )  # Decision between the European option price and the payoff from early-exercise\n",
        "            else:\n",
        "                C[j, i] = max(\n",
        "                    C[j, i], K - S[j, i]\n",
        "                )  # Decision between the European option price and the payoff from early-exercise\n",
        "\n",
        "            Delta[j, i] = (C[j + 1, i + 1] - C[j + 1, i]) / (\n",
        "                S[j + 1, i + 1] - S[j + 1, i]\n",
        "            )  # Computing the delta for each node\n",
        "\n",
        "    return C[0, 0], C, S, Delta"
      ],
      "metadata": {
        "id": "8UN8Ero-siDW"
      },
      "execution_count": null,
      "outputs": []
    },
    {
      "cell_type": "code",
      "source": [
        "putprice_ameri_q26, C, S, Delta_america = american_option_delta(180, 182, 0.5, 0.02, 0.25, 25,\"P\")\n",
        "print(\"The put option price is:\", round(putprice_ameri_q26,2))"
      ],
      "metadata": {
        "id": "aICh5__2tKQv",
        "colab": {
          "base_uri": "https://localhost:8080/"
        },
        "outputId": "c3f7d9aa-6b4d-48b7-df74-00c2c3896c3a"
      },
      "execution_count": null,
      "outputs": [
        {
          "output_type": "stream",
          "name": "stdout",
          "text": [
            "The put option price is: 13.04\n"
          ]
        }
      ]
    },
    {
      "cell_type": "code",
      "source": [
        "Delta_america"
      ],
      "metadata": {
        "id": "9hQYobIrxmfl",
        "colab": {
          "base_uri": "https://localhost:8080/"
        },
        "outputId": "b61e857d-eeac-468f-f28b-7d6bc6ba80cb"
      },
      "execution_count": null,
      "outputs": [
        {
          "output_type": "execute_result",
          "data": {
            "text/plain": [
              "array([[-4.75556732e-01,  0.00000000e+00,  0.00000000e+00,\n",
              "         0.00000000e+00,  0.00000000e+00,  0.00000000e+00,\n",
              "         0.00000000e+00,  0.00000000e+00,  0.00000000e+00,\n",
              "         0.00000000e+00,  0.00000000e+00,  0.00000000e+00,\n",
              "         0.00000000e+00,  0.00000000e+00,  0.00000000e+00,\n",
              "         0.00000000e+00,  0.00000000e+00,  0.00000000e+00,\n",
              "         0.00000000e+00,  0.00000000e+00,  0.00000000e+00,\n",
              "         0.00000000e+00,  0.00000000e+00,  0.00000000e+00,\n",
              "         0.00000000e+00],\n",
              "       [-5.60805802e-01, -3.95110331e-01,  0.00000000e+00,\n",
              "         0.00000000e+00,  0.00000000e+00,  0.00000000e+00,\n",
              "         0.00000000e+00,  0.00000000e+00,  0.00000000e+00,\n",
              "         0.00000000e+00,  0.00000000e+00,  0.00000000e+00,\n",
              "         0.00000000e+00,  0.00000000e+00,  0.00000000e+00,\n",
              "         0.00000000e+00,  0.00000000e+00,  0.00000000e+00,\n",
              "         0.00000000e+00,  0.00000000e+00,  0.00000000e+00,\n",
              "         0.00000000e+00,  0.00000000e+00,  0.00000000e+00,\n",
              "         0.00000000e+00],\n",
              "       [-6.47889393e-01, -4.78628233e-01, -3.16297570e-01,\n",
              "         0.00000000e+00,  0.00000000e+00,  0.00000000e+00,\n",
              "         0.00000000e+00,  0.00000000e+00,  0.00000000e+00,\n",
              "         0.00000000e+00,  0.00000000e+00,  0.00000000e+00,\n",
              "         0.00000000e+00,  0.00000000e+00,  0.00000000e+00,\n",
              "         0.00000000e+00,  0.00000000e+00,  0.00000000e+00,\n",
              "         0.00000000e+00,  0.00000000e+00,  0.00000000e+00,\n",
              "         0.00000000e+00,  0.00000000e+00,  0.00000000e+00,\n",
              "         0.00000000e+00],\n",
              "       [-7.33054876e-01, -5.67521869e-01, -3.94742590e-01,\n",
              "        -2.42271901e-01,  0.00000000e+00,  0.00000000e+00,\n",
              "         0.00000000e+00,  0.00000000e+00,  0.00000000e+00,\n",
              "         0.00000000e+00,  0.00000000e+00,  0.00000000e+00,\n",
              "         0.00000000e+00,  0.00000000e+00,  0.00000000e+00,\n",
              "         0.00000000e+00,  0.00000000e+00,  0.00000000e+00,\n",
              "         0.00000000e+00,  0.00000000e+00,  0.00000000e+00,\n",
              "         0.00000000e+00,  0.00000000e+00,  0.00000000e+00,\n",
              "         0.00000000e+00],\n",
              "       [-8.12363495e-01, -6.58214260e-01, -4.81938808e-01,\n",
              "        -3.12458738e-01, -1.76039173e-01,  0.00000000e+00,\n",
              "         0.00000000e+00,  0.00000000e+00,  0.00000000e+00,\n",
              "         0.00000000e+00,  0.00000000e+00,  0.00000000e+00,\n",
              "         0.00000000e+00,  0.00000000e+00,  0.00000000e+00,\n",
              "         0.00000000e+00,  0.00000000e+00,  0.00000000e+00,\n",
              "         0.00000000e+00,  0.00000000e+00,  0.00000000e+00,\n",
              "         0.00000000e+00,  0.00000000e+00,  0.00000000e+00,\n",
              "         0.00000000e+00],\n",
              "       [-8.82239749e-01, -7.46423855e-01, -5.74974122e-01,\n",
              "        -3.94144818e-01, -2.35374600e-01, -1.20046520e-01,\n",
              "         0.00000000e+00,  0.00000000e+00,  0.00000000e+00,\n",
              "         0.00000000e+00,  0.00000000e+00,  0.00000000e+00,\n",
              "         0.00000000e+00,  0.00000000e+00,  0.00000000e+00,\n",
              "         0.00000000e+00,  0.00000000e+00,  0.00000000e+00,\n",
              "         0.00000000e+00,  0.00000000e+00,  0.00000000e+00,\n",
              "         0.00000000e+00,  0.00000000e+00,  0.00000000e+00,\n",
              "         0.00000000e+00],\n",
              "       [-9.40026318e-01, -8.27708696e-01, -6.69718351e-01,\n",
              "        -4.85567490e-01, -3.07872617e-01, -1.66960899e-01,\n",
              "        -7.57751528e-02,  0.00000000e+00,  0.00000000e+00,\n",
              "         0.00000000e+00,  0.00000000e+00,  0.00000000e+00,\n",
              "         0.00000000e+00,  0.00000000e+00,  0.00000000e+00,\n",
              "         0.00000000e+00,  0.00000000e+00,  0.00000000e+00,\n",
              "         0.00000000e+00,  0.00000000e+00,  0.00000000e+00,\n",
              "         0.00000000e+00,  0.00000000e+00,  0.00000000e+00,\n",
              "         0.00000000e+00],\n",
              "       [-9.84351452e-01, -8.98198326e-01, -7.61190235e-01,\n",
              "        -5.83399711e-01, -3.93246835e-01, -2.27308119e-01,\n",
              "        -1.10013455e-01, -4.34657309e-02,  0.00000000e+00,\n",
              "         0.00000000e+00,  0.00000000e+00,  0.00000000e+00,\n",
              "         0.00000000e+00,  0.00000000e+00,  0.00000000e+00,\n",
              "         0.00000000e+00,  0.00000000e+00,  0.00000000e+00,\n",
              "         0.00000000e+00,  0.00000000e+00,  0.00000000e+00,\n",
              "         0.00000000e+00,  0.00000000e+00,  0.00000000e+00,\n",
              "         0.00000000e+00],\n",
              "       [-1.00000000e+00, -9.55351380e-01, -8.44265099e-01,\n",
              "        -6.82795552e-01, -4.89603525e-01, -3.02318584e-01,\n",
              "        -1.56523512e-01, -6.61236315e-02, -2.20843064e-02,\n",
              "         0.00000000e+00,  0.00000000e+00,  0.00000000e+00,\n",
              "         0.00000000e+00,  0.00000000e+00,  0.00000000e+00,\n",
              "         0.00000000e+00,  0.00000000e+00,  0.00000000e+00,\n",
              "         0.00000000e+00,  0.00000000e+00,  0.00000000e+00,\n",
              "         0.00000000e+00,  0.00000000e+00,  0.00000000e+00,\n",
              "         0.00000000e+00],\n",
              "       [-1.00000000e+00, -9.91904243e-01, -9.14662175e-01,\n",
              "        -7.77833977e-01, -5.93111299e-01, -3.91927060e-01,\n",
              "        -2.17758373e-01, -9.87384343e-02, -3.53462461e-02,\n",
              "        -9.56950354e-03,  0.00000000e+00,  0.00000000e+00,\n",
              "         0.00000000e+00,  0.00000000e+00,  0.00000000e+00,\n",
              "         0.00000000e+00,  0.00000000e+00,  0.00000000e+00,\n",
              "         0.00000000e+00,  0.00000000e+00,  0.00000000e+00,\n",
              "         0.00000000e+00,  0.00000000e+00,  0.00000000e+00,\n",
              "         0.00000000e+00],\n",
              "       [-1.00000000e+00, -1.00000000e+00, -9.70031462e-01,\n",
              "        -8.62412223e-01, -6.98020609e-01, -4.94112255e-01,\n",
              "        -2.95498663e-01, -1.44397731e-01, -5.56514414e-02,\n",
              "        -1.61849829e-02, -3.32671992e-03,  0.00000000e+00,\n",
              "         0.00000000e+00,  0.00000000e+00,  0.00000000e+00,\n",
              "         0.00000000e+00,  0.00000000e+00,  0.00000000e+00,\n",
              "         0.00000000e+00,  0.00000000e+00,  0.00000000e+00,\n",
              "         0.00000000e+00,  0.00000000e+00,  0.00000000e+00,\n",
              "         0.00000000e+00],\n",
              "       [-1.00000000e+00, -1.00000000e+00, -9.98156517e-01,\n",
              "        -9.31469827e-01, -7.97245111e-01, -6.04386109e-01,\n",
              "        -3.90050890e-01, -2.06273217e-01, -8.60081196e-02,\n",
              "        -2.70049648e-02, -5.97456531e-03, -8.28045962e-04,\n",
              "         0.00000000e+00,  0.00000000e+00,  0.00000000e+00,\n",
              "         0.00000000e+00,  0.00000000e+00,  0.00000000e+00,\n",
              "         0.00000000e+00,  0.00000000e+00,  0.00000000e+00,\n",
              "         0.00000000e+00,  0.00000000e+00,  0.00000000e+00,\n",
              "         0.00000000e+00],\n",
              "       [-1.00000000e+00, -1.00000000e+00, -1.00000000e+00,\n",
              "        -9.82183775e-01, -8.83612947e-01, -7.15742972e-01,\n",
              "        -4.99302749e-01, -2.86953944e-01, -1.30137792e-01,\n",
              "        -4.43645765e-02, -1.06233402e-02, -1.58768807e-03,\n",
              "        -1.11199745e-04,  0.00000000e+00,  0.00000000e+00,\n",
              "         0.00000000e+00,  0.00000000e+00,  0.00000000e+00,\n",
              "         0.00000000e+00,  0.00000000e+00,  0.00000000e+00,\n",
              "         0.00000000e+00,  0.00000000e+00,  0.00000000e+00,\n",
              "         0.00000000e+00],\n",
              "       [-1.00000000e+00, -1.00000000e+00, -1.00000000e+00,\n",
              "        -1.00000000e+00, -9.51632573e-01, -8.19425337e-01,\n",
              "        -6.17901752e-01, -3.87385247e-01, -1.92180630e-01,\n",
              "        -7.15902566e-02, -1.86727072e-02, -3.02744973e-03,\n",
              "        -2.29038142e-04,  0.00000000e+00,  0.00000000e+00,\n",
              "         0.00000000e+00,  0.00000000e+00,  0.00000000e+00,\n",
              "         0.00000000e+00,  0.00000000e+00,  0.00000000e+00,\n",
              "         0.00000000e+00,  0.00000000e+00,  0.00000000e+00,\n",
              "         0.00000000e+00],\n",
              "       [-1.00000000e+00, -1.00000000e+00, -1.00000000e+00,\n",
              "        -1.00000000e+00, -9.92530111e-01, -9.06737566e-01,\n",
              "        -7.37032009e-01, -5.05482926e-01, -2.75940828e-01,\n",
              "        -1.13139224e-01, -3.23820298e-02, -5.73572545e-03,\n",
              "        -4.71749917e-04,  0.00000000e+00,  0.00000000e+00,\n",
              "         0.00000000e+00,  0.00000000e+00,  0.00000000e+00,\n",
              "         0.00000000e+00,  0.00000000e+00,  0.00000000e+00,\n",
              "         0.00000000e+00,  0.00000000e+00,  0.00000000e+00,\n",
              "         0.00000000e+00],\n",
              "       [-1.00000000e+00, -1.00000000e+00, -1.00000000e+00,\n",
              "        -1.00000000e+00, -1.00000000e+00, -9.71742363e-01,\n",
              "        -8.45394940e-01, -6.34773912e-01, -3.83475796e-01,\n",
              "        -1.74464048e-01, -5.52692520e-02, -1.07842031e-02,\n",
              "        -9.71663419e-04,  0.00000000e+00,  0.00000000e+00,\n",
              "         0.00000000e+00,  0.00000000e+00,  0.00000000e+00,\n",
              "         0.00000000e+00,  0.00000000e+00,  0.00000000e+00,\n",
              "         0.00000000e+00,  0.00000000e+00,  0.00000000e+00,\n",
              "         0.00000000e+00],\n",
              "       [-1.00000000e+00, -1.00000000e+00, -1.00000000e+00,\n",
              "        -1.00000000e+00, -1.00000000e+00, -1.00000000e+00,\n",
              "        -9.31815235e-01, -7.63843297e-01, -5.12975897e-01,\n",
              "        -2.61271331e-01, -9.25472194e-02, -2.00914103e-02,\n",
              "        -2.00133538e-03,  0.00000000e+00,  0.00000000e+00,\n",
              "         0.00000000e+00,  0.00000000e+00,  0.00000000e+00,\n",
              "         0.00000000e+00,  0.00000000e+00,  0.00000000e+00,\n",
              "         0.00000000e+00,  0.00000000e+00,  0.00000000e+00,\n",
              "         0.00000000e+00],\n",
              "       [-1.00000000e+00, -1.00000000e+00, -1.00000000e+00,\n",
              "        -1.00000000e+00, -1.00000000e+00, -1.00000000e+00,\n",
              "        -9.87675237e-01, -8.77784813e-01, -6.56320894e-01,\n",
              "        -3.77706516e-01, -1.51395745e-01, -3.70140382e-02,\n",
              "        -4.12215097e-03,  0.00000000e+00,  0.00000000e+00,\n",
              "         0.00000000e+00,  0.00000000e+00,  0.00000000e+00,\n",
              "         0.00000000e+00,  0.00000000e+00,  0.00000000e+00,\n",
              "         0.00000000e+00,  0.00000000e+00,  0.00000000e+00,\n",
              "         0.00000000e+00],\n",
              "       [-1.00000000e+00, -1.00000000e+00, -1.00000000e+00,\n",
              "        -1.00000000e+00, -1.00000000e+00, -1.00000000e+00,\n",
              "        -1.00000000e+00, -9.62783373e-01, -7.97574810e-01,\n",
              "        -5.23024788e-01, -2.40575026e-01, -6.72405495e-02,\n",
              "        -8.49039535e-03,  0.00000000e+00,  0.00000000e+00,\n",
              "         0.00000000e+00,  0.00000000e+00,  0.00000000e+00,\n",
              "         0.00000000e+00,  0.00000000e+00,  0.00000000e+00,\n",
              "         0.00000000e+00,  0.00000000e+00,  0.00000000e+00,\n",
              "         0.00000000e+00],\n",
              "       [-1.00000000e+00, -1.00000000e+00, -1.00000000e+00,\n",
              "        -1.00000000e+00, -1.00000000e+00, -1.00000000e+00,\n",
              "        -1.00000000e+00, -1.00000000e+00, -9.14862648e-01,\n",
              "        -6.86894607e-01, -3.68386890e-01, -1.19963689e-01,\n",
              "        -1.74876694e-02,  0.00000000e+00,  0.00000000e+00,\n",
              "         0.00000000e+00,  0.00000000e+00,  0.00000000e+00,\n",
              "         0.00000000e+00,  0.00000000e+00,  0.00000000e+00,\n",
              "         0.00000000e+00,  0.00000000e+00,  0.00000000e+00,\n",
              "         0.00000000e+00],\n",
              "       [-1.00000000e+00, -1.00000000e+00, -1.00000000e+00,\n",
              "        -1.00000000e+00, -1.00000000e+00, -1.00000000e+00,\n",
              "        -1.00000000e+00, -1.00000000e+00, -9.87642320e-01,\n",
              "        -8.45341098e-01, -5.37374503e-01, -2.08919517e-01,\n",
              "        -3.60193569e-02,  0.00000000e+00,  0.00000000e+00,\n",
              "         0.00000000e+00,  0.00000000e+00,  0.00000000e+00,\n",
              "         0.00000000e+00,  0.00000000e+00,  0.00000000e+00,\n",
              "         0.00000000e+00,  0.00000000e+00,  0.00000000e+00,\n",
              "         0.00000000e+00],\n",
              "       [-1.00000000e+00, -1.00000000e+00, -1.00000000e+00,\n",
              "        -1.00000000e+00, -1.00000000e+00, -1.00000000e+00,\n",
              "        -1.00000000e+00, -1.00000000e+00, -1.00000000e+00,\n",
              "        -9.63180064e-01, -7.34140816e-01, -3.51693397e-01,\n",
              "        -7.41890781e-02,  0.00000000e+00,  0.00000000e+00,\n",
              "         0.00000000e+00,  0.00000000e+00,  0.00000000e+00,\n",
              "         0.00000000e+00,  0.00000000e+00,  0.00000000e+00,\n",
              "         0.00000000e+00,  0.00000000e+00,  0.00000000e+00,\n",
              "         0.00000000e+00],\n",
              "       [-1.00000000e+00, -1.00000000e+00, -1.00000000e+00,\n",
              "        -1.00000000e+00, -1.00000000e+00, -1.00000000e+00,\n",
              "        -1.00000000e+00, -1.00000000e+00, -1.00000000e+00,\n",
              "        -1.00000000e+00, -9.16078350e-01, -5.62453082e-01,\n",
              "        -1.52807262e-01,  0.00000000e+00,  0.00000000e+00,\n",
              "         0.00000000e+00,  0.00000000e+00,  0.00000000e+00,\n",
              "         0.00000000e+00,  0.00000000e+00,  0.00000000e+00,\n",
              "         0.00000000e+00,  0.00000000e+00,  0.00000000e+00,\n",
              "         0.00000000e+00],\n",
              "       [-1.00000000e+00, -1.00000000e+00, -1.00000000e+00,\n",
              "        -1.00000000e+00, -1.00000000e+00, -1.00000000e+00,\n",
              "        -1.00000000e+00, -1.00000000e+00, -1.00000000e+00,\n",
              "        -1.00000000e+00, -1.00000000e+00, -8.24957709e-01,\n",
              "        -3.14737155e-01,  0.00000000e+00,  0.00000000e+00,\n",
              "         0.00000000e+00,  0.00000000e+00,  0.00000000e+00,\n",
              "         0.00000000e+00,  0.00000000e+00,  0.00000000e+00,\n",
              "         0.00000000e+00,  0.00000000e+00,  0.00000000e+00,\n",
              "         0.00000000e+00],\n",
              "       [-1.00000000e+00, -1.00000000e+00, -1.00000000e+00,\n",
              "        -1.00000000e+00, -1.00000000e+00, -1.00000000e+00,\n",
              "        -1.00000000e+00, -1.00000000e+00, -1.00000000e+00,\n",
              "        -1.00000000e+00, -1.00000000e+00, -1.00000000e+00,\n",
              "        -6.48264194e-01,  0.00000000e+00,  0.00000000e+00,\n",
              "         0.00000000e+00,  0.00000000e+00,  0.00000000e+00,\n",
              "         0.00000000e+00,  0.00000000e+00,  0.00000000e+00,\n",
              "         0.00000000e+00,  0.00000000e+00,  0.00000000e+00,\n",
              "         0.00000000e+00]])"
            ]
          },
          "metadata": {},
          "execution_count": 34
        }
      ]
    },
    {
      "cell_type": "code",
      "source": [
        "S"
      ],
      "metadata": {
        "colab": {
          "base_uri": "https://localhost:8080/"
        },
        "id": "-dzpD_frJi_X",
        "outputId": "111934ce-b89a-4ea3-d275-78ff042f511f"
      },
      "execution_count": null,
      "outputs": [
        {
          "output_type": "execute_result",
          "data": {
            "text/plain": [
              "array([[180.        ,   0.        ,   0.        ,   0.        ],\n",
              "       [162.53523   , 199.34139817,   0.        ,   0.        ],\n",
              "       [146.76500551, 180.        , 220.76107236,   0.        ],\n",
              "       [132.5249107 , 162.53523   , 199.34139817, 244.48233791]])"
            ]
          },
          "metadata": {},
          "execution_count": 18
        }
      ]
    },
    {
      "cell_type": "markdown",
      "source": [
        "Let's take the entire negative side: at $t_0$, we sell the stock for 180., which equals 84.6 Cash; at $t_1$, we sell the stock for $162.54*(0.76-0.48)$, which equals 45.51 Cash; and at $t_2$, we sell the stock for $146.77*(1-0.76) = 39.54$ Cash."
      ],
      "metadata": {
        "id": "vzfMQ0dGKztM"
      }
    },
    {
      "cell_type": "markdown",
      "source": [
        "**Q26C**"
      ],
      "metadata": {
        "id": "1nNaEmLeP4N_"
      }
    },
    {
      "cell_type": "code",
      "source": [
        "def european_option(S_ini, K, T, r, u, d, N, opttype):\n",
        "    dt = T / N  # Define time step\n",
        "    p = (np.exp(r * dt) - d) / (u - d)  # risk neutral probs\n",
        "    C = np.zeros([N + 1, N + 1])  # call prices\n",
        "    S = np.zeros([N + 1, N + 1])  # underlying price\n",
        "    Delta = np.zeros([N, N])  # delta\n",
        "\n",
        "    for i in range(0, N + 1):\n",
        "        S[N, i] = S_ini * (u ** (i)) * (d ** (N - i))\n",
        "        if opttype == \"C\":\n",
        "            C[N, i] = max(S[N, i] - K, 0)\n",
        "        else:\n",
        "            C[N, i] = max(K - S[N, i], 0)\n",
        "\n",
        "    for j in range(N - 1, -1, -1):\n",
        "        for i in range(0, j + 1):\n",
        "            C[j, i] = np.exp(-r * dt) * (\n",
        "                p * C[j + 1, i + 1] + (1 - p) * C[j + 1, i]\n",
        "            )  # Computing the European option prices\n",
        "            S[j, i] = (\n",
        "                S_ini * (u ** (i)) * (d ** (j - i))\n",
        "            )  # Underlying evolution for each node\n",
        "\n",
        "            Delta[j, i] = (C[j + 1, i + 1] - C[j + 1, i]) / (\n",
        "                S[j + 1, i + 1] - S[j + 1, i]\n",
        "            )  # Computing the delta for each node\n",
        "\n",
        "    return C[0, 0], C, S, Delta"
      ],
      "metadata": {
        "id": "96G8QP8AP101"
      },
      "execution_count": null,
      "outputs": []
    },
    {
      "cell_type": "code",
      "source": [
        "price_euro, C_euro, S_euro, delta_euro = european_option(180, 182, 0.5, 0.02, 1.1074522120503245, 0.9029735000019652, 3, \"P\")"
      ],
      "metadata": {
        "id": "vQaM7-rxP-pD"
      },
      "execution_count": null,
      "outputs": []
    },
    {
      "cell_type": "code",
      "source": [
        "delta_euro"
      ],
      "metadata": {
        "colab": {
          "base_uri": "https://localhost:8080/"
        },
        "id": "xevOuxdRQaGf",
        "outputId": "c156524d-febc-485d-fa27-d7cefb814dd5"
      },
      "execution_count": null,
      "outputs": [
        {
          "output_type": "execute_result",
          "data": {
            "text/plain": [
              "array([[-0.47255415,  0.        ,  0.        ],\n",
              "       [-0.74474354, -0.24233392,  0.        ],\n",
              "       [-1.        , -0.52884533,  0.        ]])"
            ]
          },
          "metadata": {},
          "execution_count": 28
        }
      ]
    },
    {
      "cell_type": "markdown",
      "source": [
        "It is evident that the absolute value of delta_euro is somewhat lower than that of delta_america."
      ],
      "metadata": {
        "id": "ApI7ZxOSQwD_"
      }
    },
    {
      "cell_type": "markdown",
      "source": [
        "**Q27**\n",
        "Repeat Q26 considering now an Asian ATM put option."
      ],
      "metadata": {
        "id": "R4s-t6fJFo_M"
      }
    },
    {
      "cell_type": "code",
      "source": [
        "def asian_option_mc_delta(S_ini, K, T, r, sigma, N, M):\n",
        "    dt = T / N  # Define time step\n",
        "    u = np.exp(sigma * np.sqrt(dt))  # Define u\n",
        "    d = np.exp(-sigma * np.sqrt(dt))  # Define d\n",
        "    p = (np.exp(r * dt) - d) / (u - d)  # risk neutral probabilities\n",
        "    Asian = np.zeros([M])  # Asian option prices\n",
        "    S = np.zeros([M, N + 1])  # underlying price paths\n",
        "    S[:, 0] = S_ini\n",
        "    delta = np.zeros([M, N])  # delta for each step\n",
        "\n",
        "    for j in range(0, M):\n",
        "        random = np.random.binomial(1, p, N)\n",
        "        S_t = S_ini\n",
        "        Total = S_ini\n",
        "\n",
        "        for i in range(1, N + 1):\n",
        "            S_t_prev = S_t\n",
        "            S_t = S_t * (u if random[i - 1] == 1 else d)\n",
        "            S[j, i] = S_t\n",
        "            Total += S_t\n",
        "\n",
        "            # calculating delta for each step\n",
        "            if i < N:\n",
        "                Su = S_t * u\n",
        "                Sd = S_t * d\n",
        "                AverageSu = (Total + Su) / (i + 1)\n",
        "                AverageSd = (Total + Sd) / (i + 1)\n",
        "                Cu = np.exp(-r * (T - i * dt)) * max(AverageSu - K, 0)\n",
        "                Cd = np.exp(-r * (T - i * dt)) * max(AverageSd - K, 0)\n",
        "                delta[j, i - 1] = (Cu - Cd) / (Su - Sd)\n",
        "\n",
        "        Asian[j] = np.exp(-r * T) * max(Total / (N + 1) - K, 0)\n",
        "\n",
        "    return S, Asian, delta"
      ],
      "metadata": {
        "id": "FJW-Ed58GQQs"
      },
      "execution_count": null,
      "outputs": []
    },
    {
      "cell_type": "code",
      "source": [
        "# Given parameters\n",
        "S_ini = 182  # initial stock price\n",
        "K = 182  # strike price\n",
        "T = 0.5  # time to expiration\n",
        "r = 0.02  # risk-free interest rate\n",
        "sigma = 0.25  # volatility\n",
        "N = 25  # number of steps\n",
        "M = 10000  # number of simulations\n",
        "\n",
        "# Calculate option prices and deltas\n",
        "S, Asian, delta = asian_option_mc_delta(S_ini, K, T, r, sigma, N, M)"
      ],
      "metadata": {
        "id": "CiQdMB8KJ0_X"
      },
      "execution_count": null,
      "outputs": []
    },
    {
      "cell_type": "code",
      "source": [
        "print(np.mean(Asian))"
      ],
      "metadata": {
        "id": "7m-dhgF6Snrm",
        "colab": {
          "base_uri": "https://localhost:8080/"
        },
        "outputId": "6350d232-52e3-422b-9e9c-d80dc03c5838"
      },
      "execution_count": null,
      "outputs": [
        {
          "output_type": "stream",
          "name": "stdout",
          "text": [
            "7.78723314356149\n"
          ]
        }
      ]
    },
    {
      "cell_type": "code",
      "source": [
        "delta"
      ],
      "metadata": {
        "id": "TCMPN3N_TUBW",
        "colab": {
          "base_uri": "https://localhost:8080/"
        },
        "outputId": "ade3a142-9645-45e4-9746-fbf2f2e37d1f"
      },
      "execution_count": null,
      "outputs": [
        {
          "output_type": "execute_result",
          "data": {
            "text/plain": [
              "array([[0.49522297, 0.33028073, 0.24780965, ..., 0.04163335, 0.039984  ,\n",
              "        0.        ],\n",
              "       [0.49522297, 0.33028073, 0.24780965, ..., 0.        , 0.        ,\n",
              "        0.        ],\n",
              "       [0.49522297, 0.33028073, 0.24780965, ..., 0.        , 0.        ,\n",
              "        0.        ],\n",
              "       ...,\n",
              "       [0.49522297, 0.33028073, 0.24780965, ..., 0.        , 0.        ,\n",
              "        0.        ],\n",
              "       [0.49522297, 0.33028073, 0.24780965, ..., 0.04163335, 0.039984  ,\n",
              "        0.        ],\n",
              "       [0.49522297, 0.33028073, 0.24780965, ..., 0.        , 0.        ,\n",
              "        0.        ]])"
            ]
          },
          "metadata": {},
          "execution_count": 22
        }
      ]
    },
    {
      "cell_type": "code",
      "source": [
        "def asian_at_the_money_put(S_ini, K, T, r, sigma, N, M):\n",
        "    dt = T / N  # Define time step\n",
        "    u = np.exp(sigma * np.sqrt(dt))  # Define u\n",
        "    d = np.exp(-sigma * np.sqrt(dt))\n",
        "    p = (np.exp(r * dt) - d) / (u - d)  # Risk-neutral probabilities\n",
        "\n",
        "    S = np.zeros([N + 1, N + 1])  # Underlying price matrix\n",
        "    C = np.zeros([N + 1, N + 1])  # Option price matrix\n",
        "    A = np.zeros([N + 1, N + 1])  # Asian price matrix\n",
        "    delta = np.zeros([N + 1, N + 1])  # Delta matrix\n",
        "    cash_account = np.zeros([N + 1, N + 1])  # Cash account matrix\n",
        "\n",
        "    for i in range(0, N + 1):\n",
        "        S[N, i] = S_ini * (u ** i) * (d ** (N - i))\n",
        "        C[N, i] = max(K - S[N, i], 0)  # At-the-money put option payoff\n",
        "        A[N, i] = S[N, i]  # Asian option payoff\n",
        "        delta[N, i] = -np.where(S[N, i] > K, 1, 0)  # Initial delta\n",
        "        cash_account[N, i] = -C[N, i] - delta[N, i] * S[N, i]  # Initial cash account\n",
        "\n",
        "    for j in range(N - 1, -1, -1):\n",
        "        for i in range(0, j + 1):\n",
        "            S[j, i] = S_ini * (u ** i) * (d ** (j - i))\n",
        "            A[j, i] = (M * A[j + 1, i] + S[j, i]) / (M + 1)  # Asian option average price\n",
        "            C[j, i] = np.exp(-r * dt) * (p * C[j + 1, i + 1] + (1 - p) * C[j + 1, i])  # Option price\n",
        "\n",
        "            if A[j, i] < K:\n",
        "                C[j, i] = max(K - A[j, i], C[j, i])  # Decision between Asian option price and payoff\n",
        "\n",
        "            delta[j, i] = (C[j + 1, i + 1] - C[j + 1, i]) / (S[j, i] * (u - d))  # Delta calculation\n",
        "            cash_account[j, i] = np.exp(r * dt) * (cash_account[j + 1, i] * (1 + r * dt) + delta[j, i] * S[j, i] - C[j, i])  # Cash account evolution\n",
        "\n",
        "    return C[0, 0], cash_account\n",
        "\n",
        "# New parameter values\n",
        "S_ini = 180     # Initial underlying price\n",
        "K = 182         # Strike price\n",
        "T = 0.5         # Time to expiration (6 months in years)\n",
        "r = 0.02        # Risk-free interest rate\n",
        "N = 25          # Number of time steps\n",
        "M = 10000         # Number of averaging periods for Asian option\n",
        "\n",
        "option_price, cash_account = asian_at_the_money_put(S_ini, K, T, r, sigma, N, M)\n",
        "print(\"Asian At-The-Money Put Option Price with Delta Hedging:\", option_price)\n",
        "print(\"Cash Account Evolution:\")\n",
        "print(cash_account)"
      ],
      "metadata": {
        "colab": {
          "base_uri": "https://localhost:8080/"
        },
        "id": "FsHWWGNZTGOh",
        "outputId": "9599e65a-7216-4c39-a983-a67eb493c6b6"
      },
      "execution_count": null,
      "outputs": [
        {
          "output_type": "stream",
          "name": "stdout",
          "text": [
            "Asian At-The-Money Put Option Price with Delta Hedging: 107.51040982781727\n",
            "Cash Account Evolution:\n",
            "[[-4773.10046603     0.             0.             0.\n",
            "      0.             0.             0.             0.\n",
            "      0.             0.             0.             0.\n",
            "      0.             0.             0.             0.\n",
            "      0.             0.             0.             0.\n",
            "      0.             0.             0.             0.\n",
            "      0.             0.        ]\n",
            " [-4584.68794895 -4583.87917769     0.             0.\n",
            "      0.             0.             0.             0.\n",
            "      0.             0.             0.             0.\n",
            "      0.             0.             0.             0.\n",
            "      0.             0.             0.             0.\n",
            "      0.             0.             0.             0.\n",
            "      0.             0.        ]\n",
            " [-4396.42581967 -4395.42213697 -4394.34491377     0.\n",
            "      0.             0.             0.             0.\n",
            "      0.             0.             0.             0.\n",
            "      0.             0.             0.             0.\n",
            "      0.             0.             0.             0.\n",
            "      0.             0.             0.             0.\n",
            "      0.             0.        ]\n",
            " [-4208.31395793 -4207.11550008 -4205.82923043 -4204.44871495\n",
            "      0.             0.             0.             0.\n",
            "      0.             0.             0.             0.\n",
            "      0.             0.             0.             0.\n",
            "      0.             0.             0.             0.\n",
            "      0.             0.             0.             0.\n",
            "      0.             0.        ]\n",
            " [-4020.35224355 -4018.95914673 -4017.46397678 -4015.85925475\n",
            "  -4014.13695367     0.             0.             0.\n",
            "      0.             0.             0.             0.\n",
            "      0.             0.             0.             0.\n",
            "      0.             0.             0.             0.\n",
            "      0.             0.             0.             0.\n",
            "      0.             0.        ]\n",
            " [-3832.54055642 -3830.95295671 -3829.24903252 -3827.42026068\n",
            "  -3825.45749352 -3823.35091311     0.             0.\n",
            "      0.             0.             0.             0.\n",
            "      0.             0.             0.             0.\n",
            "      0.             0.             0.             0.\n",
            "      0.             0.             0.             0.\n",
            "      0.             0.        ]\n",
            " [-3644.87877658 -3643.09680994 -3641.18427743 -3639.13161239\n",
            "  -3636.92854724 -3634.56406204 -3632.02632946     0.\n",
            "      0.             0.             0.             0.\n",
            "      0.             0.             0.             0.\n",
            "      0.             0.             0.             0.\n",
            "      0.             0.             0.             0.\n",
            "      0.             0.        ]\n",
            " [-3457.36678413 -3455.39058641 -3453.26959138 -3450.99318964\n",
            "  -3448.54999445 -3445.92778473 -3443.11344397 -3440.09289461\n",
            "      0.             0.             0.             0.\n",
            "      0.             0.             0.             0.\n",
            "      0.             0.             0.             0.\n",
            "      0.             0.             0.             0.\n",
            "      0.             0.        ]\n",
            " [-3270.00445926 -3267.8341662  -3265.50485435 -3263.00487227\n",
            "  -3260.32171486 -3257.44196073 -3254.35120511 -3251.03398779\n",
            "  -3247.47371577     0.             0.             0.\n",
            "      0.             0.             0.             0.\n",
            "      0.             0.             0.             0.\n",
            "      0.             0.             0.             0.\n",
            "      0.             0.        ]\n",
            " [-3082.79168228 -3080.42742952 -3077.8899464  -3075.16654022\n",
            "  -3072.24358827 -3069.1064697  -3065.73949238 -3062.12581441\n",
            "  -3058.24735987 -3054.0847284      0.             0.\n",
            "      0.             0.             0.             0.\n",
            "      0.             0.             0.             0.\n",
            "      0.             0.             0.             0.\n",
            "      0.             0.        ]\n",
            " [-2895.72833358 -2893.17025664 -2890.42474771 -2887.47807353\n",
            "  -2884.31549459 -2880.9211914  -2877.27818538 -2873.36825389\n",
            "  -2869.17183915 -2864.66795033 -2859.8340586      0.\n",
            "      0.             0.             0.             0.\n",
            "      0.             0.             0.             0.\n",
            "      0.             0.             0.             0.\n",
            "      0.             0.        ]\n",
            " [-2708.81429366 -2706.06252795 -2703.10913854 -2699.93935235\n",
            "  -2696.53731382 -2692.88600569 -2688.9671638  -2684.76118577\n",
            "  -2680.24703296 -2675.40212519 -2670.20222783 -2664.62133056\n",
            "      0.             0.             0.             0.\n",
            "      0.             0.             0.             0.\n",
            "      0.             0.             0.             0.\n",
            "      0.             0.        ]\n",
            " [-2522.0494431  -2519.10412391 -2515.94299924 -2512.55025688\n",
            "  -2508.90892605 -2505.0007925  -2500.80630743 -2496.30448966\n",
            "  -2491.47282074 -2486.28713224 -2480.72148493 -2474.74803896\n",
            "  -1637.15074397     0.             0.             0.\n",
            "      0.             0.             0.             0.\n",
            "      0.             0.             0.             0.\n",
            "      0.             0.        ]\n",
            " [-2335.43366258 -2332.29492511 -2328.92621027 -2325.31066747\n",
            "  -2321.43021147 -2317.26543189 -2312.79549616 -2307.99804529\n",
            "  -2302.84908202 -2297.32285082 -2291.39170901 -2285.02598852\n",
            "  -1511.80586793   188.27642529     0.             0.\n",
            "      0.             0.             0.             0.\n",
            "      0.             0.             0.             0.\n",
            "      0.             0.        ]\n",
            " [-2148.96683288 -2145.6348122  -2142.05865217 -2138.22046454\n",
            "  -2134.10105036 -2129.67980399 -2124.93460997 -2119.84173246\n",
            "  -2114.37569645 -2108.50916037 -2102.21277932 -2095.45505827\n",
            "  -1386.42139631   188.12587943   201.90998682     0.\n",
            "      0.             0.             0.             0.\n",
            "      0.             0.             0.             0.\n",
            "      0.             0.        ]\n",
            " [-1962.64883486 -1959.12366596 -1955.3402056  -1951.2795286\n",
            "  -1946.92132311 -1942.24378904 -1937.22352895 -1931.83543109\n",
            "  -1926.05254375 -1919.84594043 -1913.18457518 -1906.03512731\n",
            "  -1261.01134053   187.97545394   201.74853956   216.53078826\n",
            "      0.             0.             0.             0.\n",
            "      0.             0.             0.             0.\n",
            "      0.             0.        ]\n",
            " [-1776.47954951 -1772.76136723 -1768.77075128 -1764.48774026\n",
            "  -1759.8909102  -1754.95726737 -1749.66213326 -1743.97902119\n",
            "  -1737.87950374 -1731.33307062 -1724.30697603 -1716.76607484\n",
            "  -1135.5892161    187.82514874   201.5872214    216.35765021\n",
            "    232.21031809     0.             0.             0.\n",
            "      0.             0.             0.             0.\n",
            "      0.             0.        ]\n",
            " [-1590.45885787 -1586.54779697 -1582.35017005 -1577.84498024\n",
            "  -1573.00969219 -1567.8201194  -1562.25030319 -1556.27238286\n",
            "  -1549.85645636 -1542.97043069 -1535.57986137 -1527.64778016\n",
            "  -1010.16805985   187.67496372   201.42603222   216.18465059\n",
            "    232.02464268   249.02524145     0.             0.\n",
            "      0.             0.             0.             0.\n",
            "      0.             0.        ]\n",
            " [-1404.58664111 -1400.48283623 -1396.07834285 -1391.35112934\n",
            "  -1386.27754977 -1380.83222567 -1374.98791908 -1368.71539629\n",
            "  -1361.98328161 -1354.75790045 -1347.00311084 -1338.68012267\n",
            "   -884.76044654   187.52489878   201.26497193   216.01178931\n",
            "    231.83911574   248.82612082   267.05777498     0.\n",
            "      0.             0.             0.             0.\n",
            "      0.             0.        ]\n",
            " [-1218.86278049 -1214.56636615 -1209.9551507  -1205.00606845\n",
            "  -1199.69436367 -1193.99346678 -1187.87486141 -1181.30794179\n",
            "  -1174.25985963 -1166.69535983 -1158.57660414 -1149.86298186\n",
            "   -759.37850498   187.37495384   201.10404042   215.83906625\n",
            "    231.65373714   248.62715941   266.84423554   286.39608886\n",
            "      0.             0.             0.             0.\n",
            "      0.             0.        ]\n",
            " [-1033.28715734 -1028.79826797 -1023.98047472 -1018.80967858\n",
            "  -1013.26001478 -1007.30372346 -1000.91101074  -994.04989974\n",
            "   -986.6860706   -978.78268884  -970.30022108  -961.19623731\n",
            "   -634.03393346   187.2251288    200.9432376    215.66648129\n",
            "    231.46850677   248.42835709   266.63086684   286.1670865\n",
            "    307.13473787     0.             0.             0.\n",
            "      0.             0.        ]\n",
            " [ -847.85965311  -843.17842303  -838.15419613  -832.7618408\n",
            "   -826.97438404  -820.76287651  -814.09624771  -806.94115062\n",
            "   -799.26179485  -791.0197676   -782.17384158  -772.67976872\n",
            "   -508.73801477   187.07542355   200.78256335   215.49403434\n",
            "    231.28342451   248.22971374   266.41766876   285.93826725\n",
            "    306.88915288   329.37512374     0.             0.\n",
            "      0.             0.        ]\n",
            " [ -662.58014934  -657.70671274  -652.47619623  -646.86243632\n",
            "   -640.83735251  -634.37080683  -627.43045308  -619.98157503\n",
            "   -611.98691277  -603.40647632  -594.19734564  -584.31345586\n",
            "   -383.50163059   186.92583801   200.62201758   215.32172527\n",
            "    231.09849025   248.03122921   266.20464114   285.70963096\n",
            "    306.64376427   329.11175534   353.22599095     0.\n",
            "      0.             0.        ]\n",
            " [ -477.44852766  -472.38301864  -466.94635643  -461.11134639\n",
            "   -454.84880132  -448.12739543  -440.91350769  -433.17105364\n",
            "   -424.86130486  -415.94269531  -406.37061334  -396.09717861\n",
            "   -258.33527548   186.77637208   200.46160018   215.14955398\n",
            "    230.91370386   247.8329034    265.99178387   285.48117749\n",
            "    306.39857186   328.84859752   352.94355139   378.80395843\n",
            "      0.             0.        ]\n",
            " [ -292.4646698   -287.20722234  -281.56455824  -275.50845241\n",
            "   -269.00861171  -262.0325234   -254.54529248  -246.50946721\n",
            "   -237.88485172  -228.62830496  -218.6935249   -208.03081695\n",
            "   -133.2490703    186.62702566   200.30131105   214.97752036\n",
            "    230.72906522   247.63473617   265.77909679   285.2529067\n",
            "    306.15357551   328.58565013   352.66133766   378.50106672\n",
            "    406.23408979     0.        ]\n",
            " [ -107.62845757  -102.17920556   -96.33068324   -90.05363584\n",
            "    -83.31666503   -76.08607192   -68.32568848   -59.99669662\n",
            "    -51.05743403   -41.46318577   -31.1659606    -20.11425094\n",
            "     -8.25277522   186.47779866   200.14115009   214.8056243\n",
            "    230.54457422   247.43672739   265.56657978   285.02481842\n",
            "    305.90877506   328.32291298   352.3793496    378.1984172\n",
            "    405.90926494   435.65050479]]\n"
          ]
        }
      ]
    },
    {
      "cell_type": "markdown",
      "source": [
        "The entire cash account amount at maturity is estimated to be 4773.10 US dollars, as can be seen in the above matrix. Zero and 4773.10 US dollars represent the least and largest cash account balances that were observed."
      ],
      "metadata": {
        "id": "oZU3BhFIUvDF"
      }
    },
    {
      "cell_type": "code",
      "source": [
        "\n",
        "delta_euro"
      ],
      "metadata": {
        "id": "OM3nhH_vUepj",
        "colab": {
          "base_uri": "https://localhost:8080/",
          "height": 0
        },
        "outputId": "26b2113a-05df-4154-ef41-9b0a203e36f8"
      },
      "execution_count": 37,
      "outputs": [
        {
          "output_type": "execute_result",
          "data": {
            "text/plain": [
              "array([[-0.46500454,  0.        ,  0.        ],\n",
              "       [-0.73895482, -0.23697299,  0.        ],\n",
              "       [-1.        , -0.52166526,  0.        ]])"
            ]
          },
          "metadata": {},
          "execution_count": 37
        }
      ]
    },
    {
      "cell_type": "markdown",
      "source": [
        "Q27C. It is evident that the Asian delta's absolute value is greater than the absolute value of the delta_euro.\n"
      ],
      "metadata": {
        "id": "zfWL5EewVv4l"
      }
    },
    {
      "cell_type": "markdown",
      "source": [
        "# Reference\n",
        "\n",
        "Schumacher, J. M. (2020). Introduction to Financial Derivatives: Modeling, Pricing and Hedging. Open Press TiU: https://digi-courses.com/openpresstiu-introduction-to-financial-derivatives/"
      ],
      "metadata": {
        "id": "D8eZRd1WprWs"
      }
    }
  ]
}