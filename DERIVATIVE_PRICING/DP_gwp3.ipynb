{
 "cells": [
  {
   "cell_type": "markdown",
   "metadata": {
    "id": "wr7fK4P86FWN"
   },
   "source": [
    "# MScFE 620 DERIVATIVE PRICING Group Work Project # 3\n",
    "\n",
    "- The group is now asked to assess the causes of volatility by 2 properties: stochastic volatility and jumps in the underlying. Speciﬁcally, we will use the Heston Model and Merton Model instead of the Black-Scholes Model.\n",
    "\n",
    "- To Do: This assignment is based on the same questions as in GWP1 and GWP2. To maintain the same numbering, questions begin from #5. Remember to use the following general parameters: S=80; r = 5.5%; σ = 35%; T = 3 months\n",
    "\n",
    "- Also, remember that you will be employing Monte-Carlo method, so make sure you run a suﬃcient number of simulations and consider enough time steps (for you to determine)."
   ]
  },
  {
   "cell_type": "markdown",
   "metadata": {
    "id": "5A4pH3mF9_tQ"
   },
   "source": [
    "# Step 1:\n",
    "## Team Member A: Stochastic Volatility Modeler\n",
    "For the Heston model, you can use the following parameters:\n",
    "- $ν_0$ = 3. 2%\n",
    "- $κ_ν$ = 1. 85\n",
    "- $θ_ν$ = 0. 045\n",
    "\n",
    "**5. Using the Heston Model and Monte-Carlo simulation, price an ATM European call and put, using a correlation value of -0.30.**\n",
    "\n",
    "Using the Heston model and Monte Carlo simulation, we would initialize model and simulation parameters, generate random numbers for both asset and volatility processes, create a covariance matrix to account for correlation, simulate volatility paths, and then simulate asset price paths while taking the volatility paths into account in order to price an At-The-Money(ATM) European call and put option with a correlation value of -0.30. Next, we want to compute the call and put option payoffs at maturity, use the risk-free rate to discount these payoffs to present value, and average the outcomes of all the simulations. The anticipated values of the ATM European call and put options in the Heston model using Monte Carlo simulation are shown by the resulting average (Schumacher, 2020).\n",
    "\n",
    "**An overview on the calculated estimates**\n",
    "\n",
    "Based on the calculation presented below, the call has a value of $\\$2.83$,  while the put is worth $\\$2.83$ as well. European call and put options are frequently priced similarly, with the put options being marginally less expensive because of the opportunity cost of keeping cash rather than the underlying asset."
   ]
  },
  {
   "cell_type": "code",
   "execution_count": 2,
   "metadata": {
    "id": "gdRLphlNBmbo"
   },
   "outputs": [],
   "source": [
    "# importing all libraries\n",
    "import matplotlib.pyplot as plt\n",
    "import numpy as np\n",
    "import scipy.stats as ss\n",
    "from tabulate import tabulate"
   ]
  },
  {
   "cell_type": "code",
   "execution_count": null,
   "metadata": {
    "colab": {
     "base_uri": "https://localhost:8080/"
    },
    "id": "HGouk3IwKRK_",
    "outputId": "a02bd478-2bb5-4e84-b148-3b1123ce263f"
   },
   "outputs": [
    {
     "name": "stdout",
     "output_type": "stream",
     "text": [
      "European Call Price under Heston model:  2.828469737881668\n",
      "European Put Price under Heston model:  2.8327835614765298\n"
     ]
    }
   ],
   "source": [
    "def SDE_vol(v0, kappa, theta, sigma, T, M, Ite, rand, row, cho_matrix):\n",
    "    dt = T / M  # T = maturity, M = number of time steps\n",
    "    v = np.zeros((M + 1, Ite), dtype=float)\n",
    "    v[0] = v0\n",
    "    sdt = np.sqrt(dt)  # Sqrt of dt\n",
    "    for t in range(1, M + 1):\n",
    "        ran = np.dot(cho_matrix, rand[:, t])\n",
    "        v[t] = np.maximum(\n",
    "            0,\n",
    "            v[t - 1]\n",
    "            + kappa * (theta - v[t - 1]) * dt\n",
    "            + np.sqrt(v[t - 1]) * sigma * ran[row] * sdt,\n",
    "        )\n",
    "    return v\n",
    "\n",
    "def Heston_paths(S0, r, v, row, cho_matrix):\n",
    "    S = np.zeros((M + 1, Ite), dtype=float)\n",
    "    S[0] = S0\n",
    "    sdt = np.sqrt(dt)\n",
    "    for t in range(1, M + 1, 1):\n",
    "        ran = np.dot(cho_matrix, rand[:, t])\n",
    "        S[t] = S[t - 1] * np.exp((r - 0.5 * v[t]) * dt + np.sqrt(v[t]) * ran[row] * sdt)\n",
    "\n",
    "    return S\n",
    "\n",
    "def random_number_gen(M, Ite):\n",
    "    rand = np.random.standard_normal((2, M + 1, Ite))\n",
    "    return rand\n",
    "np.random.seed(42)\n",
    "\n",
    "v0 = 0.032\n",
    "kappa_v = 1.85\n",
    "sigma_v = 0.35\n",
    "theta_v = 0.045\n",
    "rho = -0.30\n",
    "\n",
    "S0 = 80\n",
    "r = 0.055\n",
    "M0 = 50  # Number of time steps in a year\n",
    "T = 3/12  # Number of years\n",
    "M = int(M0 * T)  # Total time steps\n",
    "Ite = 50000  # Number of simulations\n",
    "dt = T / M  # Length of time step\n",
    "\n",
    "rand = random_number_gen(M, Ite)\n",
    "np.random.seed(42)\n",
    "\n",
    "# Covariance Matrix\n",
    "covariance_matrix = np.zeros((2, 2), dtype=float)\n",
    "covariance_matrix[0] = [1.0, rho]\n",
    "covariance_matrix[1] = [rho, 1.0]\n",
    "cho_matrix = np.linalg.cholesky(covariance_matrix)\n",
    "\n",
    "# Volatility process paths\n",
    "V = SDE_vol(v0, kappa_v, theta_v, sigma_v, T, M, Ite, rand, 1, cho_matrix)\n",
    "\n",
    "# Underlying price process paths\n",
    "S = Heston_paths(S0, r, V, 0, cho_matrix)\n",
    "\n",
    "def heston_call_mc(S, K, r, T, t, type_of):\n",
    "    if type_of == \"C\":\n",
    "        payoff = np.maximum(0, S[-1, :] - K)\n",
    "    else:\n",
    "        payoff = np.maximum(0, K - S[-1, :])\n",
    "\n",
    "    avg = np.mean(payoff)\n",
    "\n",
    "    return np.exp(-r * (T - t)) * avg\n",
    "\n",
    "print(\"European Call Price under Heston model: \", heston_call_mc(S, 80, 0.055, 3/12, 0, \"C\"))\n",
    "print(\"European Put Price under Heston model: \", heston_call_mc(S, 80, 0.055, 3/12, 0, \"P\"))"
   ]
  },
  {
   "cell_type": "code",
   "execution_count": null,
   "metadata": {
    "colab": {
     "base_uri": "https://localhost:8080/"
    },
    "id": "ruGdvKIzDYI8",
    "outputId": "929fbc84-4e3d-456b-96a4-d58648f3d109"
   },
   "outputs": [
    {
     "name": "stdout",
     "output_type": "stream",
     "text": [
      "Summary of Results\n",
      "\n",
      "+--------+----------+--------+---------------------------------------------------------------------------+---------+\n",
      "|   Q_um | Exer     | Type   | GWP 3 Method                                                              | Price   |\n",
      "+========+==========+========+===========================================================================+=========+\n",
      "|      5 | European | Call   | Heston Model with Monte-Carlo simulation and a correlation value of -0.30 | $2.83   |\n",
      "+--------+----------+--------+---------------------------------------------------------------------------+---------+\n",
      "|      5 | European | Put    | Heston Model with Monte-Carlo simulation and a correlation value of -0.30 | $2.83   |\n",
      "+--------+----------+--------+---------------------------------------------------------------------------+---------+\n"
     ]
    }
   ],
   "source": [
    "table_data = [\n",
    "    [\"5\",  \"European\", \"Call\",\"Heston Model with Monte-Carlo simulation and a correlation value of -0.30\", \"$2.83\"],\n",
    "    [\"5\",  \"European\", \"Put\", \"Heston Model with Monte-Carlo simulation and a correlation value of -0.30\", \"$2.83\"]\n",
    "]\n",
    "\n",
    "# Define the title for the table\n",
    "table_title = \"Summary of Results\"\n",
    "\n",
    "# Define the table headers\n",
    "headers = [\"Q_um\",  \"Exer\",\"Type\", \"GWP 3 Method\", \"Price\"]\n",
    "\n",
    "# Format the table using tabulate\n",
    "table = tabulate(table_data, headers=headers, tablefmt=\"grid\")\n",
    "\n",
    "# Add the title above the table\n",
    "table_with_title = f\"{table_title}\\n\\n{table}\"\n",
    "\n",
    "# Print the formatted table\n",
    "print(table_with_title)"
   ]
  },
  {
   "cell_type": "markdown",
   "metadata": {
    "id": "7dAA9w1IWkoS"
   },
   "source": [
    "**6. Using the Heston Model, price an ATM European call and put, using a correlation value of -0.70**\n",
    "\n",
    "The pricing of an ATM European call and put option with the call option valued at $\\$2.1$ and the put option at $\\$3.43$. This changes is significantly as the correlation value varies in the Heston model and it goes from -0.30 to -0.70. The main reason for this is how correlation affects the dynamics of option pricing. The cost of the call option decreases when the asset price rises because of the higher negative correlation (-0.70) between asset returns and volatility returns. On the other hand, the put option gains from the negative correlation, which raises the put option's price and protects against increased downside risk. This adjustment demonstrates the significance of correlation variations in influencing market sentiment, model calibration, and option price sensitivity(Schumacher, 2020)."
   ]
  },
  {
   "cell_type": "code",
   "execution_count": null,
   "metadata": {
    "colab": {
     "base_uri": "https://localhost:8080/"
    },
    "id": "VTxmjmlWWh6b",
    "outputId": "28fd32bd-1b60-48a7-874b-e1c98a84e9b6"
   },
   "outputs": [
    {
     "name": "stdout",
     "output_type": "stream",
     "text": [
      "European Call Price under Heston model:  2.100269052154384\n",
      "European Put Price under Heston model:  3.4294332097648033\n"
     ]
    }
   ],
   "source": [
    "def SDE_vol(v0, kappa, theta, sigma, T, M, Ite, rand, row, cho_matrix):\n",
    "    dt = T / M  # T = maturity, M = number of time steps\n",
    "    v = np.zeros((M + 1, Ite), dtype=float)\n",
    "    v[0] = v0\n",
    "    sdt = np.sqrt(dt)  # Sqrt of dt\n",
    "    for t in range(1, M + 1):\n",
    "        ran = np.dot(cho_matrix, rand[:, t])\n",
    "        v[t] = np.maximum(\n",
    "            0,\n",
    "            v[t - 1]\n",
    "            + kappa * (theta - v[t - 1]) * dt\n",
    "            + np.sqrt(v[t - 1]) * sigma * ran[row] * sdt,\n",
    "        )\n",
    "    return v\n",
    "\n",
    "def Heston_paths(S0, r, v, row, cho_matrix):\n",
    "    S = np.zeros((M + 1, Ite), dtype=float)\n",
    "    S[0] = S0\n",
    "    sdt = np.sqrt(dt)\n",
    "    for t in range(1, M + 1, 1):\n",
    "        ran = np.dot(cho_matrix, rand[:, t])\n",
    "        S[t] = S[t - 1] * np.exp((r - 0.5 * v[t]) * dt + np.sqrt(v[t]) * ran[row] * sdt)\n",
    "\n",
    "    return S\n",
    "\n",
    "def random_number_gen(M, Ite):\n",
    "    rand = np.random.standard_normal((2, M + 1, Ite))\n",
    "    return rand\n",
    "np.random.seed(42)\n",
    "\n",
    "v0 = 0.032\n",
    "kappa_v = 1.85\n",
    "sigma_v = 0.35\n",
    "theta_v = 0.045\n",
    "rho = -0.70\n",
    "\n",
    "S0 = 80\n",
    "r = 0.055\n",
    "M0 = 50  # Number of time steps in a year\n",
    "T = 3/12  # Number of years\n",
    "M = int(M0 * T)  # Total time steps\n",
    "Ite = 10000\n",
    "dt = T / M  # Length of time step\n",
    "\n",
    "rand = random_number_gen(M, Ite)\n",
    "np.random.seed(42)\n",
    "\n",
    "\n",
    "# Covariance Matrix\n",
    "covariance_matrix = np.zeros((2, 2), dtype=float)\n",
    "covariance_matrix[0] = [1.0, rho]\n",
    "covariance_matrix[1] = [rho, 1.0]\n",
    "cho_matrix = np.linalg.cholesky(covariance_matrix)\n",
    "\n",
    "# Volatility process paths\n",
    "V = SDE_vol(v0, kappa_v, theta_v, sigma_v, T, M, Ite, rand, 1, cho_matrix)\n",
    "\n",
    "# Underlying price process paths\n",
    "S = Heston_paths(S0, r, V, 0, cho_matrix)\n",
    "\n",
    "def heston_call_mc(S, K, r, T, t, type_of):\n",
    "    if type_of == \"C\":\n",
    "        payoff = np.maximum(0, S[-1, :] - K)\n",
    "    else:\n",
    "        payoff = np.maximum(0, K - S[-1, :])\n",
    "\n",
    "    average = np.mean(payoff)\n",
    "\n",
    "    return np.exp(-r * (T - t)) * average\n",
    "\n",
    "print(\"European Call Price under Heston model: \", heston_call_mc(S, 80, 0.055, 3/12, 0, \"C\"))\n",
    "print(\"European Put Price under Heston model: \", heston_call_mc(S, 80, 0.055, 3/12, 0, \"P\"))"
   ]
  },
  {
   "cell_type": "code",
   "execution_count": null,
   "metadata": {
    "colab": {
     "base_uri": "https://localhost:8080/"
    },
    "id": "jym8qTUDeP8X",
    "outputId": "e13ace28-d87b-441e-8917-eb5b059be794"
   },
   "outputs": [
    {
     "name": "stdout",
     "output_type": "stream",
     "text": [
      "Summary of Results\n",
      "\n",
      "+--------+----------+--------+------------------------------------------------+---------+\n",
      "|   Q #s | Exer     | Type   | GWP 3 Method                                   | Price   |\n",
      "+========+==========+========+================================================+=========+\n",
      "|      6 | European | Call   | Heston Model with a correlation value of -0.70 | $2.1    |\n",
      "+--------+----------+--------+------------------------------------------------+---------+\n",
      "|      6 | European | Put    | Heston Model with a correlation value of -0.70 | $3.43   |\n",
      "+--------+----------+--------+------------------------------------------------+---------+\n"
     ]
    }
   ],
   "source": [
    "table_data = [\n",
    "    [\"6\",  \"European\",\"Call\", \"Heston Model with a correlation value of -0.70\", \"$2.1\"],\n",
    "    [\"6\",  \"European\",\"Put\", \"Heston Model with a correlation value of -0.70\", \"$3.43\"]\n",
    "]\n",
    "\n",
    "table_title = \"Summary of Results\"\n",
    "\n",
    "headers = [\"Q #s\", \"Exer\",\"Type\",  \"GWP 3 Method\", \"Price\"]\n",
    "\n",
    "table = tabulate(table_data, headers=headers, tablefmt=\"grid\")\n",
    "\n",
    "table_with_title = f\"{table_title}\\n\\n{table}\"\n",
    "\n",
    "print(table_with_title)"
   ]
  },
  {
   "cell_type": "markdown",
   "metadata": {
    "id": "rf6xEpHWhC1E"
   },
   "source": [
    "**7. Calculate delta and gamma for each of the options in Questions 5 and 6. (Hint:\n",
    "You can numerically approximate this by forcing a change in the variable of\n",
    "interest –i.e., underlying stock price and delta change—and recalculate the option\n",
    "price).**\n",
    "\n",
    "\"Delta\" and \"gamma\" are Greek letters that stand for two significant risk sensitivity of options in the context of the Heston Model and Monte Carlo simulation for option pricing (SICA, F., DI LORENZO, E. M. I. L. I. A., & CUOMO, S., 2020).\n",
    "\n",
    "The term \"delta\" refers to an option's price sensitivity to changes in the price of the underlying asset. By modeling a slight change in the asset price, reevaluating the option's price in each simulation, and computing the average change, delta can be computed in the context of the Heston Model and Monte Carlo simulation. For call options, it can have values between -1 and 1, and for put options, it can have values between -1 and 0. We determine delta to be 0.56 for the call option and 0.70 for the put option in the context of the Heston Model and Monte Carlo simulation with a rho of -0.30 (Schumacher, 2020).\n",
    "\n",
    "On the other land, Gamma quantifies how quickly the delta of an option fluctuates in response to shifts in the price of the underlying asset. The calculation of gamma in the Heston Model and Monte Carlo simulation involves simulating slight variations in the asset price and the related delta changes. The second derivative of the option price with respect to the asset price, denoted as $(Γ = ∂^²V/∂S^²)$, is then determined. Because of this, gamma can be either positive or negative. Usually, it can be particularly detrimental for long option holdings. The delta for the call option is -0.43 and for the put option is -0.54, respectively, in the framework of the Heston Model and Monte Carlo simulation with a rho of -0.30 (Schumacher, 2020)."
   ]
  },
  {
   "cell_type": "code",
   "execution_count": null,
   "metadata": {
    "colab": {
     "base_uri": "https://localhost:8080/"
    },
    "id": "WOBZb2MalEDh",
    "outputId": "dcb9d6db-8fe1-454e-ef23-9ab398b9c3da"
   },
   "outputs": [
    {
     "name": "stdout",
     "output_type": "stream",
     "text": [
      "ATM European Call Option Delta: 0.5573553338046949\n",
      "ATM European Call Option Gamma: 0.6966941672558686\n",
      "ATM European Put Option Delta: -0.42893484286741\n",
      "ATM European Put Option Gamma: -0.5361685535842625\n"
     ]
    }
   ],
   "source": [
    "v0 = 0.032\n",
    "kappa_v = 1.85\n",
    "theta_v = 0.045\n",
    "sigma_v = 0.35\n",
    "rho = -0.30\n",
    "\n",
    "# Option Parameters\n",
    "S0 = 80\n",
    "K_call = 80\n",
    "K_put = 80\n",
    "r = 0.055\n",
    "T = 3/12  # Time to maturity (in years)\n",
    "M0 = 50   # Number of time steps in a year\n",
    "M = int(M0 * T)  # Total time steps\n",
    "Ite = 50000\n",
    "dt = T / M  # Length of time step\n",
    "\n",
    "# Small perturbation for delta calculation\n",
    "delta_S = 0.01\n",
    "\n",
    "# Generate random numbers\n",
    "rand = np.random.standard_normal((2, M + 1, Ite))\n",
    "np.random.seed(42)\n",
    "\n",
    "# Covariance Matrix\n",
    "covariance_matrix = np.array([[1.0, rho], [rho, 1.0]])\n",
    "cho_matrix = np.linalg.cholesky(covariance_matrix)\n",
    "\n",
    "# Function to simulate volatility paths\n",
    "def SDE_vol(v0, kappa, theta, sigma, T, M, Ite, rand, row, cho_matrix):\n",
    "    dt = T / M\n",
    "    v = np.zeros((M + 1, Ite), dtype=float)\n",
    "    v[0] = v0\n",
    "    sdt = np.sqrt(dt)\n",
    "    for t in range(1, M + 1):\n",
    "        ran = np.dot(cho_matrix, rand[:, t])\n",
    "        v[t] = np.maximum(\n",
    "            0,\n",
    "            v[t - 1] + kappa * (theta - v[t - 1]) * dt\n",
    "            + np.sqrt(v[t - 1]) * sigma * ran[row] * sdt,\n",
    "        )\n",
    "    return v\n",
    "\n",
    "# Function to simulate stock price paths\n",
    "def Heston_paths(S0, r, v, row, cho_matrix):\n",
    "    S = np.zeros((M + 1, Ite), dtype=float)\n",
    "    S[0] = S0\n",
    "    sdt = np.sqrt(dt)\n",
    "    for t in range(1, M + 1):\n",
    "        ran = np.dot(cho_matrix, rand[:, t])\n",
    "        S[t] = S[t - 1] * np.exp((r - 0.5 * v[t]) * dt + np.sqrt(v[t]) * ran[row] * sdt)\n",
    "    return S\n",
    "\n",
    "# Calculate option prices at the original stock price\n",
    "V = SDE_vol(v0, kappa_v, theta_v, sigma_v, T, M, Ite, rand, 1, cho_matrix)\n",
    "S = Heston_paths(S0, r, V, 0, cho_matrix)\n",
    "\n",
    "call_price_original = np.mean(np.maximum(0, S[-1] - K_call) * np.exp(-r * T))\n",
    "put_price_original = np.mean(np.maximum(0, K_put - S[-1]) * np.exp(-r * T))\n",
    "\n",
    "# Calculate option prices with a slightly increased stock price\n",
    "S_perturbed = S0 * (1 + delta_S)\n",
    "V_perturbed = SDE_vol(v0, kappa_v, theta_v, sigma_v, T, M, Ite, rand, 1, cho_matrix)\n",
    "S_perturbed = Heston_paths(S_perturbed, r, V_perturbed, 0, cho_matrix)\n",
    "\n",
    "call_price_perturbed = np.mean(np.maximum(0, S_perturbed[-1] - K_call) * np.exp(-r * T))\n",
    "put_price_perturbed = np.mean(np.maximum(0, K_put - S_perturbed[-1]) * np.exp(-r * T))\n",
    "\n",
    "# Calculate delta and gamma for the European call and put options\n",
    "call_delta = (call_price_perturbed - call_price_original) / (delta_S * S0)\n",
    "put_delta = (put_price_perturbed - put_price_original) / (delta_S * S0)\n",
    "\n",
    "# Calculate gamma using finite differences\n",
    "call_gamma = ((call_price_perturbed - 2 * call_price_original + call_price_original) / (delta_S**2 * S0**2))\n",
    "put_gamma = ((put_price_perturbed - 2 * put_price_original + put_price_original) / (delta_S**2 * S0**2))\n",
    "\n",
    "# Print the results\n",
    "print(\"ATM European Call Option Delta:\", call_delta)\n",
    "print(\"ATM European Call Option Gamma:\", call_gamma)\n",
    "print(\"ATM European Put Option Delta:\", put_delta)\n",
    "print(\"ATM European Put Option Gamma:\", put_gamma)"
   ]
  },
  {
   "cell_type": "code",
   "execution_count": null,
   "metadata": {
    "colab": {
     "base_uri": "https://localhost:8080/"
    },
    "id": "HtK8xjEGofej",
    "outputId": "40453162-e5b4-4832-e6db-bd6bd7e4753c"
   },
   "outputs": [
    {
     "name": "stdout",
     "output_type": "stream",
     "text": [
      "Summary of Results for Delta and Gamma of each options in Question 5\n",
      "\n",
      "+--------+----------+--------+---------------------------------------------------------------------------+---------+---------+---------+\n",
      "|   Q #s | Type     | Exer   | GWP 3 Method                                                              | Price   |   Delta |   Gamma |\n",
      "+========+==========+========+===========================================================================+=========+=========+=========+\n",
      "|      7 | European | Call   | Heston Model with Monte-Carlo simulation and a correlation value of -0.30 | $2.83   |    0.56 |    0.7  |\n",
      "+--------+----------+--------+---------------------------------------------------------------------------+---------+---------+---------+\n",
      "|      7 | European | Put    | Heston Model with Monte-Carlo simulation and a correlation value of -0.30 | $2.83   |   -0.43 |   -0.54 |\n",
      "+--------+----------+--------+---------------------------------------------------------------------------+---------+---------+---------+\n"
     ]
    }
   ],
   "source": [
    "table_data = [\n",
    "    [\"7\",  \"European\", \"Call\",\"Heston Model with Monte-Carlo simulation and a correlation value of -0.30\", \"$2.83\", \"0.56\", \"0.70\"],\n",
    "    [\"7\",  \"European\",\"Put\", \"Heston Model with Monte-Carlo simulation and a correlation value of -0.30\", \"$2.83\", \"-0.43\", \"-0.54\"]\n",
    "]\n",
    "\n",
    "# Define the title for the table\n",
    "table_title = \"Summary of Results for Delta and Gamma of each options in Question 5\"\n",
    "\n",
    "# Define the table headers\n",
    "headers = [\"Q #s\", \"Type\", \"Exer\", \"GWP 3 Method\", \"Price\", \"Delta\", \"Gamma\"]\n",
    "\n",
    "# Format the table using tabulate\n",
    "table = tabulate(table_data, headers=headers, tablefmt=\"grid\")\n",
    "\n",
    "# Add the title above the table\n",
    "table_with_title = f\"{table_title}\\n\\n{table}\"\n",
    "\n",
    "# Print the formatted table\n",
    "print(table_with_title)"
   ]
  },
  {
   "cell_type": "markdown",
   "metadata": {
    "id": "-YUTbR6JLikq"
   },
   "source": [
    "## Team Member B: Jump Modeler\n",
    "Using Merton model which uses Poisson distribution to model the extreme move of the underlying asset."
   ]
  },
  {
   "cell_type": "markdown",
   "metadata": {
    "id": "wn5JU1muM8g6"
   },
   "source": [
    "**8. Using the Merton Model, price an ATM European call and put with jump intensity parameter equal to 0.75**\n",
    "\n",
    "Given parameters:\n",
    "\n",
    "*   mu = -0.5\n",
    "*   lambda = 0.75\n",
    "*   delta = 0.22\n",
    "*   Other inputs are the same as Question 5 above\n",
    "\n",
    "We first model the distribution of underlying asset which accounts for extreme moves over the life of the option using Monte-Carlo methods. Then we average discounted payoff to derive the option price\n",
    "\n",
    "\n",
    "\n"
   ]
  },
  {
   "cell_type": "code",
   "execution_count": null,
   "metadata": {
    "id": "YIG0OA0vNOdS"
   },
   "outputs": [],
   "source": [
    "lamb = 0.75  # Lambda of the model\n",
    "mu = -0.5  # Mu\n",
    "delta = 0.22  # Delta\n",
    "r = 0.055  # Risk-free rate\n",
    "sigma = 0.35  # Volatility\n",
    "T = 0.25 # Maturity/time period (in years)\n",
    "S0 = 80  # Current Stock Price\n",
    "Ite = 100000  # Number of simulations (paths)\n",
    "M = 50  # Number of steps\n",
    "dt = T / M  # Time-step"
   ]
  },
  {
   "cell_type": "code",
   "execution_count": null,
   "metadata": {
    "id": "z8dWFmj_Ph9y"
   },
   "outputs": [],
   "source": [
    "SM = np.zeros((M + 1, Ite))\n",
    "SM[0] = S0\n",
    "\n",
    "# rj\n",
    "rj = lamb * (np.exp(mu + 0.5 * delta**2) - 1)\n",
    "\n",
    "# Random numbers\n",
    "z1 = np.random.standard_normal((M + 1, Ite))\n",
    "z2 = np.random.standard_normal((M + 1, Ite))\n",
    "y = np.random.poisson(lamb * dt, (M + 1, Ite))\n"
   ]
  },
  {
   "cell_type": "code",
   "execution_count": null,
   "metadata": {
    "id": "bmSrk45rP1Ea"
   },
   "outputs": [],
   "source": [
    "for t in range(1, M + 1):\n",
    "    SM[t] = SM[t - 1] * (\n",
    "        np.exp((r - rj - 0.5 * sigma**2) * dt + sigma * np.sqrt(dt) * z1[t])\n",
    "        + (np.exp(mu + delta * z2[t]) - 1) * y[t]\n",
    "    )\n",
    "    SM[t] = np.maximum(\n",
    "        SM[t], 0.00001)"
   ]
  },
  {
   "cell_type": "code",
   "execution_count": null,
   "metadata": {
    "id": "dnETEYIhP8Cj"
   },
   "outputs": [],
   "source": [
    "def merton_call_mc(S, K, r, T, t):\n",
    "    payoff = np.maximum(0, S[-1, :] - K)\n",
    "\n",
    "    average = np.mean(payoff)\n",
    "\n",
    "    return np.exp(-r * (T - t)) * average"
   ]
  },
  {
   "cell_type": "code",
   "execution_count": null,
   "metadata": {
    "id": "e3cQSmy8P9QK"
   },
   "outputs": [],
   "source": [
    "def merton_put_mc(S, K, r, T, t):\n",
    "    payoff = np.maximum(0, K - S[-1, :])\n",
    "\n",
    "    average = np.mean(payoff)\n",
    "\n",
    "    return np.exp(-r * (T - t)) * average"
   ]
  },
  {
   "cell_type": "code",
   "execution_count": null,
   "metadata": {
    "colab": {
     "base_uri": "https://localhost:8080/"
    },
    "id": "BJB5oZfvQF9i",
    "outputId": "fb113ce3-0cdf-46e1-921a-03b537fae3a5"
   },
   "outputs": [
    {
     "name": "stdout",
     "output_type": "stream",
     "text": [
      "European Call Price under Merton model with 0.75 jump intensity:  8.28\n",
      "European Put Price under Merton model with 0.75 jump intensity:  7.21\n"
     ]
    }
   ],
   "source": [
    "print(\"European Call Price under Merton model with 0.75 jump intensity: \",round(merton_call_mc(SM, 80, r, T, 0),2))\n",
    "print(\"European Put Price under Merton model with 0.75 jump intensity: \", round(merton_put_mc(SM, 80, r, T, 0),2))"
   ]
  },
  {
   "cell_type": "code",
   "execution_count": null,
   "metadata": {
    "colab": {
     "base_uri": "https://localhost:8080/"
    },
    "id": "MpSVM4RHy975",
    "outputId": "dd43b776-355e-48df-ee1f-196e65b04193"
   },
   "outputs": [
    {
     "name": "stdout",
     "output_type": "stream",
     "text": [
      "Summary of Results\n",
      "\n",
      "+--------+----------+--------+---------------------------------------------------------------------+---------+\n",
      "|   Q_no | Exer     | Type   | GWP 3 Method                                                        | Price   |\n",
      "+========+==========+========+=====================================================================+=========+\n",
      "|      8 | European | Call   | ATM European Call Price under Merton model with 0.75 jump intensity | $8.23   |\n",
      "+--------+----------+--------+---------------------------------------------------------------------+---------+\n",
      "|      8 | European | Put    | ATM European Put Price under Merton model with 0.75 jump intensity  | $7.35   |\n",
      "+--------+----------+--------+---------------------------------------------------------------------+---------+\n"
     ]
    }
   ],
   "source": [
    "table_dataq8 = [\n",
    "    [\"8\",  \"European\", \"Call\",\"ATM European Call Price under Merton model with 0.75 jump intensity\", \"$8.23\"],\n",
    "    [\"8\",  \"European\", \"Put\", \"ATM European Put Price under Merton model with 0.75 jump intensity\", \"$7.35\"]\n",
    "]\n",
    "\n",
    "# Define the title for the table\n",
    "table_titleq8 = \"Summary of Results\"\n",
    "\n",
    "# Define the table headers\n",
    "headersq8 = [\"Q_no\",  \"Exer\",\"Type\", \"GWP 3 Method\", \"Price\"]\n",
    "\n",
    "# Format the table using tabulate\n",
    "tableq8 = tabulate(table_dataq8, headers=headersq8, tablefmt=\"grid\")\n",
    "\n",
    "# Add the title above the table\n",
    "table_with_titleq8 = f\"{table_titleq8}\\n\\n{tableq8}\"\n",
    "\n",
    "# Print the formatted table\n",
    "print(table_with_titleq8)"
   ]
  },
  {
   "cell_type": "markdown",
   "metadata": {
    "id": "GCVLfTzIUfyD"
   },
   "source": [
    "**9. Using the Merton Model, price an ATM European call and put with jump intensity\n",
    "parameter equal to 0.25.**\n",
    "\n",
    "Parameters are the same with question 8 but using jump intensity of 0.25 instead\n",
    "\n",
    "We first model the distribution of underlying asset which accounts for extreme moves over the life of the option using Monte-Carlo methos. Then we average discounted payoff to derive the option price"
   ]
  },
  {
   "cell_type": "code",
   "execution_count": null,
   "metadata": {
    "colab": {
     "base_uri": "https://localhost:8080/"
    },
    "id": "AWpF0uiTQ45T",
    "outputId": "cf527ab8-de67-44ce-d3c8-b904c979a96f"
   },
   "outputs": [
    {
     "name": "stdout",
     "output_type": "stream",
     "text": [
      "European Call Price under Merton model with 0.25 jump intensity:  6.7971969430588155\n",
      "European Put Price under Merton model with 0.25 jump intensity:  5.717192539740826\n"
     ]
    }
   ],
   "source": [
    "lamb1 = 0.25\n",
    "rj1 = lamb1 * (np.exp(mu + 0.5 * delta**2) - 1)\n",
    "y1 = np.random.poisson(lamb1 * dt, (M + 1, Ite))\n",
    "SM1 = np.zeros((M + 1, Ite))\n",
    "SM1[0] = S0\n",
    "\n",
    "for t in range(1, M + 1):\n",
    "    SM1[t] = SM1[t - 1] * (\n",
    "        np.exp((r - rj1 - 0.5 * sigma**2) * dt + sigma * np.sqrt(dt) * z1[t])\n",
    "        + (np.exp(mu + delta * z2[t]) - 1) * y1[t]\n",
    "    )\n",
    "    SM1[t] = np.maximum(\n",
    "        SM1[t], 0.00001)\n",
    "print(\"European Call Price under Merton model with 0.25 jump intensity: \", merton_call_mc(SM1, 80, r, T, 0))\n",
    "print(\"European Put Price under Merton model with 0.25 jump intensity: \", merton_put_mc(SM1, 80, r, T, 0))"
   ]
  },
  {
   "cell_type": "code",
   "execution_count": null,
   "metadata": {
    "colab": {
     "base_uri": "https://localhost:8080/"
    },
    "id": "rw5uw9ssziCJ",
    "outputId": "838bbb43-1b2a-4239-8c84-265aa2527b7b"
   },
   "outputs": [
    {
     "name": "stdout",
     "output_type": "stream",
     "text": [
      "Summary of Results\n",
      "\n",
      "+--------+----------+--------+---------------------------------------------------------------------+---------+\n",
      "|   Q_no | Exer     | Type   | GWP 3 Method                                                        | Price   |\n",
      "+========+==========+========+=====================================================================+=========+\n",
      "|      9 | European | Call   | ATM European Call Price under Merton model with 0.25 jump intensity | $6.80   |\n",
      "+--------+----------+--------+---------------------------------------------------------------------+---------+\n",
      "|      9 | European | Put    | ATM European Put Price under Merton model with 0.25 jump intensity  | $5.72   |\n",
      "+--------+----------+--------+---------------------------------------------------------------------+---------+\n"
     ]
    }
   ],
   "source": [
    "table_dataq9 = [\n",
    "    [\"9\",  \"European\", \"Call\",\"ATM European Call Price under Merton model with 0.25 jump intensity\", \"$6.80\"],\n",
    "    [\"9\",  \"European\", \"Put\", \"ATM European Put Price under Merton model with 0.25 jump intensity\", \"$5.72\"]\n",
    "]\n",
    "\n",
    "# Define the title for the table\n",
    "table_titleq9 = \"Summary of Results\"\n",
    "\n",
    "# Define the table headers\n",
    "headersq9 = [\"Q_no\",  \"Exer\",\"Type\", \"GWP 3 Method\", \"Price\"]\n",
    "\n",
    "# Format the table using tabulate\n",
    "tableq9 = tabulate(table_dataq9, headers=headersq9, tablefmt=\"grid\")\n",
    "\n",
    "# Add the title above the table\n",
    "table_with_titleq9 = f\"{table_titleq9}\\n\\n{tableq9}\"\n",
    "\n",
    "# Print the formatted table\n",
    "print(table_with_titleq9)"
   ]
  },
  {
   "cell_type": "markdown",
   "metadata": {
    "id": "mQ6_QPA7X5Ac"
   },
   "source": [
    "**10. Calculate delta and gamma for each of the options in Questions 8 and 9. (Hint:\n",
    "You can use the same trick as in Question 7).**\n",
    "\n",
    "We could approximate delta and gamma for option by calculating the option price and delta with respect to changing in underlying asset by small amount"
   ]
  },
  {
   "cell_type": "code",
   "execution_count": null,
   "metadata": {
    "colab": {
     "base_uri": "https://localhost:8080/"
    },
    "id": "zqdpAmNhWr3c",
    "outputId": "23944a0e-5af3-4d8f-ee1d-41e95379c180"
   },
   "outputs": [
    {
     "name": "stdout",
     "output_type": "stream",
     "text": [
      "Delta of call option in question 8:  0.6494402918627173\n",
      "Gamma of call option in question 8:  0.023569712321425126\n",
      "Delta of put option in question 8:  -0.35034592180675617\n",
      "Gamma of put option in question 8:  0.023569712321780397\n"
     ]
    }
   ],
   "source": [
    "SMup = np.zeros((M + 1, Ite))\n",
    "SMup[0] = S0+0.1\n",
    "for t in range(1, M + 1):\n",
    "    SMup[t] = SMup[t - 1] * (\n",
    "        np.exp((r - rj - 0.5 * sigma**2) * dt + sigma * np.sqrt(dt) * z1[t])\n",
    "        + (np.exp(mu + delta * z2[t]) - 1) * y[t]\n",
    "    )\n",
    "    SMup[t] = np.maximum(\n",
    "        SMup[t], 0.00001)\n",
    "SMdown = np.zeros((M + 1, Ite))\n",
    "SMdown[0] = S0-0.1\n",
    "for t in range(1, M + 1):\n",
    "    SMdown[t] = SMdown[t - 1] * (\n",
    "        np.exp((r - rj - 0.5 * sigma**2) * dt + sigma * np.sqrt(dt) * z1[t])\n",
    "        + (np.exp(mu + delta * z2[t]) - 1) * y[t]\n",
    "    )\n",
    "    SMdown[t] = np.maximum(\n",
    "        SMdown[t], 0.00001)\n",
    "q8callpriceup = merton_call_mc(SMup, 80, r, T, 0)\n",
    "q8callpricemean = merton_call_mc(SM, 80, r, T, 0)\n",
    "q8callpricedown = merton_call_mc(SMdown, 80, r, T, 0)\n",
    "q8deltacall = (q8callpriceup-q8callpricemean)/0.1\n",
    "q8gammacall = (q8callpriceup-2*q8callpricemean+q8callpricedown)/0.1**2\n",
    "q8putpriceup = merton_put_mc(SMup, 80, r, T, 0)\n",
    "q8putpricemean = merton_put_mc(SM, 80, r, T, 0)\n",
    "q8putpricedown = merton_put_mc(SMdown, 80, r, T, 0)\n",
    "q8deltaput = (q8putpriceup-q8putpricemean)/0.1\n",
    "q8gammaput = (q8putpriceup-2*q8putpricemean+q8putpricedown)/0.1**2\n",
    "print(\"Delta of call option in question 8: \",q8deltacall)\n",
    "print(\"Gamma of call option in question 8: \",q8gammacall)\n",
    "print(\"Delta of put option in question 8: \",q8deltaput)\n",
    "print(\"Gamma of put option in question 8: \",q8gammaput)"
   ]
  },
  {
   "cell_type": "code",
   "execution_count": null,
   "metadata": {
    "colab": {
     "base_uri": "https://localhost:8080/"
    },
    "id": "RnQ6RhdkYsjs",
    "outputId": "10e6bf50-47b6-4adf-8d95-ce6663475e2c"
   },
   "outputs": [
    {
     "name": "stdout",
     "output_type": "stream",
     "text": [
      "Delta of call option in question 9:  0.598358593085857\n",
      "Gamma of call option in question 9:  0.02557898432860028\n",
      "Delta of put option in question 9:  -0.4015727459013885\n",
      "Gamma of put option in question 9:  0.025578984328777917\n"
     ]
    }
   ],
   "source": [
    "SM1up = np.zeros((M + 1, Ite))\n",
    "SM1up[0] = S0+0.1\n",
    "for t in range(1, M + 1):\n",
    "    SM1up[t] = SM1up[t - 1] * (\n",
    "        np.exp((r - rj1 - 0.5 * sigma**2) * dt + sigma * np.sqrt(dt) * z1[t])\n",
    "        + (np.exp(mu + delta * z2[t]) - 1) * y1[t]\n",
    "    )\n",
    "    SM1up[t] = np.maximum(\n",
    "        SM1up[t], 0.00001)\n",
    "SM1down = np.zeros((M + 1, Ite))\n",
    "SM1down[0] = S0-0.1\n",
    "for t in range(1, M + 1):\n",
    "    SM1down[t] = SM1down[t - 1] * (\n",
    "        np.exp((r - rj1 - 0.5 * sigma**2) * dt + sigma * np.sqrt(dt) * z1[t])\n",
    "        + (np.exp(mu + delta * z2[t]) - 1) * y1[t]\n",
    "    )\n",
    "    SM1down[t] = np.maximum(\n",
    "        SM1down[t], 0.00001)\n",
    "q9callpriceup = merton_call_mc(SM1up, 80, r, T, 0)\n",
    "q9callpricemean = merton_call_mc(SM1, 80, r, T, 0)\n",
    "q9callpricedown = merton_call_mc(SM1down, 80, r, T, 0)\n",
    "q9deltacall = (q9callpriceup-q9callpricemean)/0.1\n",
    "q9gammacall = (q9callpriceup-2*q9callpricemean+q9callpricedown)/0.1**2\n",
    "q9putpriceup = merton_put_mc(SM1up, 80, r, T, 0)\n",
    "q9putpricemean = merton_put_mc(SM1, 80, r, T, 0)\n",
    "q9putpricedown = merton_put_mc(SM1down, 80, r, T, 0)\n",
    "q9deltaput = (q9putpriceup-q9putpricemean)/0.1\n",
    "q9gammaput = (q9putpriceup-2*q9putpricemean+q9putpricedown)/0.1**2\n",
    "print(\"Delta of call option in question 9: \",q9deltacall)\n",
    "print(\"Gamma of call option in question 9: \",q9gammacall)\n",
    "print(\"Delta of put option in question 9: \",q9deltaput)\n",
    "print(\"Gamma of put option in question 9: \",q9gammaput)"
   ]
  },
  {
   "cell_type": "code",
   "execution_count": null,
   "metadata": {
    "colab": {
     "base_uri": "https://localhost:8080/"
    },
    "id": "cWRzPZEGcf9O",
    "outputId": "dc791a18-9589-48f9-cd0c-e3089405f7cc"
   },
   "outputs": [
    {
     "name": "stdout",
     "output_type": "stream",
     "text": [
      "Summary of Results for Delta and Gamma of each options in Question 8 & 9\n",
      "\n",
      "+--------+----------+--------+---------------------------------------------------------------------+---------+---------+\n",
      "|   Q #s | Type     | Exer   | GWP 3 Method                                                        |   Delta |   Gamma |\n",
      "+========+==========+========+=====================================================================+=========+=========+\n",
      "|     10 | European | Call   | ATM European Call Price under Merton model with 0.75 jump intensity |    0.65 |    0.02 |\n",
      "+--------+----------+--------+---------------------------------------------------------------------+---------+---------+\n",
      "|     10 | European | Put    | ATM European Call Price under Merton model with 0.75 jump intensity |   -0.35 |    0.02 |\n",
      "+--------+----------+--------+---------------------------------------------------------------------+---------+---------+\n",
      "|     10 | European | Call   | ATM European Call Price under Merton model with 0.25 jump intensity |    0.59 |    0.02 |\n",
      "+--------+----------+--------+---------------------------------------------------------------------+---------+---------+\n",
      "|     10 | European | Put    | ATM European Call Price under Merton model with 0.25 jump intensity |   -0.4  |    0.02 |\n",
      "+--------+----------+--------+---------------------------------------------------------------------+---------+---------+\n"
     ]
    }
   ],
   "source": [
    "table_dataq10 = [\n",
    "    [\"10\",  \"European\", \"Call\",\"ATM European Call Price under Merton model with 0.75 jump intensity\", \"0.65\", \"0.02\"],\n",
    "    [\"10\",  \"European\",\"Put\", \"ATM European Put Price under Merton model with 0.75 jump intensity\", \"-0.35\", \"0.02\"],\n",
    "    [\"10\",  \"European\", \"Call\",\"ATM European Call Price under Merton model with 0.25 jump intensity\", \"0.59\", \"0.02\"],\n",
    "    [\"10\",  \"European\", \"Put\",\"ATM European Put Price under Merton model with 0.25 jump intensity\",\"-0.40\", \"0.02\"]\n",
    "]\n",
    "\n",
    "# Define the title for the table\n",
    "table_titleq10 = \"Summary of Results for Delta and Gamma of each options in Question 8 & 9\"\n",
    "\n",
    "# Define the table headers\n",
    "headersq10 = [\"Q #s\", \"Type\", \"Exer\", \"GWP 3 Method\", \"Delta\", \"Gamma\"]\n",
    "\n",
    "# Format the table using tabulate\n",
    "tableq10 = tabulate(table_dataq10, headers=headersq10, tablefmt=\"grid\")\n",
    "\n",
    "# Add the title above the table\n",
    "table_with_titleq10 = f\"{table_titleq10}\\n\\n{tableq10}\"\n",
    "\n",
    "# Print the formatted table\n",
    "print(table_with_titleq10)"
   ]
  },
  {
   "cell_type": "markdown",
   "metadata": {
    "id": "1uX6NiLL7A1J"
   },
   "source": [
    "# Team Member C: Model Validator\n",
    "\n",
    "**11. For Questions 5, 6, 8, and 9, use put-call Parity to determine if the prices of the\n",
    "put and call from the Heston Model and Merton Model satisfy put-call parity.**\n",
    "\n",
    "- The put-call parity is $C_{0}= -Ke^{-rT}+S_{0}+P_{0}$, for Question 5 ,\n",
    "As we can see\n",
    " $C_{0}= 2.83, -Ke^{-rT} = -78.91, S_{0} = 80, P_{0}= 2.83$.\n",
    "So that $C_{0}=-Ke^{-rT}+S_{0}+P_{0}$, which means  Put-Call parity is not satisfied under the Heston Model.\n",
    "\n",
    "\n",
    "- The put-call parity is $C_{0}= -Ke^{-rT}+S_{0}+P_{0}$, for Question 6 ,\n",
    "As we can see\n",
    " $C_{0}= 2.1, -Ke^{-rT} = -78.91, S_{0} = 80,P_{0}= 3.43$.\n",
    "So that $C_{0}\\neq-Ke^{-rT}+S_{0}+P_{0}$, which means  Put-Call parity is not satisfied under the Heston Model.\n",
    "\n",
    "- The put-call parity is $C_{0}= -Ke^{-rT}+S_{0}+P_{0}$, for Question 8 ,\n",
    "As we can see\n",
    " $C_{0}= 8.23, -Ke^{-rT} = -78.91, S_{0} = 80,P_{0}=7.35$ .\n",
    "So that $C_{0}\\neq-Ke^{-rT}+S_{0}+P_{0}$, which means  Put-Call parity is not satisfied under the Merton Model.\n",
    "\n",
    "- The put-call parity is $C_{0}= -Ke^{-rT}+S_{0}+P_{0}$, for Question 9 ,\n",
    "As we can see\n",
    " $C_{0}=6.80, -Ke^{-rT} = -78.91, S_{0} = 80, P_{0}=5.72$ .\n",
    "So that $C_{0}\\neq-Ke^{-rT}+S_{0}+P_{0}$, which means  Put-Call parity is not satisfied under the Merton Model."
   ]
  },
  {
   "cell_type": "markdown",
   "metadata": {
    "id": "_jzQ5aZq8mya"
   },
   "source": [
    "**12. Run the Heston Model and Merton Model for 7 different strikes: 3 OTM calls; 1\n",
    "ATM call; and 3 ITM calls. The strikes should be equally spaced. Try to use the\n",
    "following APPROXIMATE moneyness values: 0.85, 0.90, 0.95, 1, 1.05, 1.10, and\n",
    "1.15. Recall that moneyness = stock/strike.**"
   ]
  },
  {
   "cell_type": "code",
   "execution_count": null,
   "metadata": {
    "colab": {
     "base_uri": "https://localhost:8080/"
    },
    "id": "qdtvyr-68vLz",
    "outputId": "a8b553b5-851e-4fc4-dda8-7040200b92ad"
   },
   "outputs": [
    {
     "name": "stdout",
     "output_type": "stream",
     "text": [
      "Strike Price: 68.0, Call Option Price: 12.08\n",
      "Strike Price: 72.0, Call Option Price: 8.48\n",
      "Strike Price: 76.0, Call Option Price: 5.32\n",
      "Strike Price: 80.0, Call Option Price: 2.86\n",
      "Strike Price: 84.0, Call Option Price: 1.30\n",
      "Strike Price: 88.0, Call Option Price: 0.51\n",
      "Strike Price: 92.0, Call Option Price: 0.18\n",
      "Strike Price: 68.0, Put Option Price: 0.20\n",
      "Strike Price: 72.0, Put Option Price: 0.55\n",
      "Strike Price: 76.0, Put Option Price: 1.33\n",
      "Strike Price: 80.0, Put Option Price: 2.82\n",
      "Strike Price: 84.0, Put Option Price: 5.20\n",
      "Strike Price: 88.0, Put Option Price: 8.36\n",
      "Strike Price: 92.0, Put Option Price: 11.98\n"
     ]
    }
   ],
   "source": [
    "def SDE_vol(v0, kappa, theta, sigma, T, M, Ite, rand, row, cho_matrix):\n",
    "    dt = T / M  # T = maturity, M = number of time steps\n",
    "    v = np.zeros((M + 1, Ite), dtype=float)\n",
    "    v[0] = v0\n",
    "    sdt = np.sqrt(dt)  # Sqrt of dt\n",
    "    for t in range(1, M + 1):\n",
    "        ran = np.dot(cho_matrix, rand[:, t])\n",
    "        v[t] = np.maximum(\n",
    "            0,\n",
    "            v[t - 1]\n",
    "            + kappa * (theta - v[t - 1]) * dt\n",
    "            + np.sqrt(v[t - 1]) * sigma * ran[row] * sdt,\n",
    "        )\n",
    "    return v\n",
    "\n",
    "def Heston_paths(S0, r, v, row, cho_matrix):\n",
    "    S = np.zeros((M + 1, Ite), dtype=float)\n",
    "    S[0] = S0\n",
    "    sdt = np.sqrt(dt)\n",
    "    for t in range(1, M + 1, 1):\n",
    "        ran = np.dot(cho_matrix, rand[:, t])\n",
    "        S[t] = S[t - 1] * np.exp((r - 0.5 * v[t]) * dt + np.sqrt(v[t]) * ran[row] * sdt)\n",
    "\n",
    "    return S\n",
    "\n",
    "def random_number_gen(M, Ite):\n",
    "    rand = np.random.standard_normal((2, M + 1, Ite))\n",
    "    return rand\n",
    "\n",
    "v0 = 0.032\n",
    "kappa_v = 1.85\n",
    "sigma_v = 0.35\n",
    "theta_v = 0.045\n",
    "rho = -0.30\n",
    "\n",
    "S0 = 80  # Current underlying asset price\n",
    "r = 0.055  # Risk-free rate\n",
    "M0 = 50  # Number of time steps in a year\n",
    "T = 3/12  # Number of years\n",
    "M = int(M0 * T)  # Total time steps\n",
    "Ite = 100000  # Number of simulations\n",
    "dt = T / M  # Length of time step\n",
    "\n",
    "# Generating random numbers from standard normal\n",
    "rand = random_number_gen(M, Ite)\n",
    "\n",
    "\n",
    "# Covariance Matrix\n",
    "covariance_matrix = np.zeros((2, 2), dtype=float)\n",
    "covariance_matrix[0] = [1.0, rho]\n",
    "covariance_matrix[1] = [rho, 1.0]\n",
    "cho_matrix = np.linalg.cholesky(covariance_matrix)\n",
    "\n",
    "# Volatility process paths\n",
    "V = SDE_vol(v0, kappa_v, theta_v, sigma_v, T, M, Ite, rand, 1, cho_matrix)\n",
    "\n",
    "# Underlying price process paths\n",
    "S = Heston_paths(S0, r, V, 0, cho_matrix)\n",
    "\n",
    "def heston_call_mc(S, K, r, T, t, type_of):\n",
    "    if type_of == \"C\":\n",
    "        payoff = np.maximum(0, S[-1, :] - K)\n",
    "    else:\n",
    "        payoff = np.maximum(0, K - S[-1, :])\n",
    "\n",
    "    average = np.mean(payoff)\n",
    "\n",
    "    return np.exp(-r * (T - t)) * average\n",
    "\n",
    "moneyness_values = [0.85, 0.90, 0.95, 1.0, 1.05, 1.10, 1.15]\n",
    "\n",
    "# Calculate strikes based on moneyness values\n",
    "strikes = [S0 * m for m in moneyness_values]\n",
    "\n",
    "# Initialize lists to store option prices\n",
    "call_option_prices = []\n",
    "\n",
    "# Calculate option prices for each strike\n",
    "for strike in strikes:\n",
    "    call_price = heston_call_mc(S, strike, r, T, 0, \"C\")\n",
    "    call_option_prices.append(call_price)\n",
    "    print(f\"Strike Price: {strike}, Call Option Price: {call_price:.2f}\")\n",
    "for strike in strikes:\n",
    "    put_price = heston_call_mc(S, strike, r, T, 0, \"P\")\n",
    "    call_option_prices.append(put_price)\n",
    "    print(f\"Strike Price: {strike}, Put Option Price: {put_price:.2f}\")"
   ]
  },
  {
   "cell_type": "code",
   "execution_count": null,
   "metadata": {
    "colab": {
     "base_uri": "https://localhost:8080/"
    },
    "id": "XR19zUxC6_vo",
    "outputId": "3d4fa60b-d7b4-45c1-bd5b-00aa4102c8b9"
   },
   "outputs": [
    {
     "name": "stdout",
     "output_type": "stream",
     "text": [
      "Summary of Results\n",
      "\n",
      "+--------+----------+--------+---------------------------------------------------------------+-----------+---------+\n",
      "|   Q #s | Type     | Exer   | GWP 3 Method                                                  |   Strikes |   Price |\n",
      "+========+==========+========+===============================================================+===========+=========+\n",
      "|     12 | European | Call   | Heston Model in combination with a correlation value of -0.30 |        68 |   12.08 |\n",
      "+--------+----------+--------+---------------------------------------------------------------+-----------+---------+\n",
      "|     12 | European | Call   | Heston Model in combination with a correlation value of -0.30 |        72 |    8.48 |\n",
      "+--------+----------+--------+---------------------------------------------------------------+-----------+---------+\n",
      "|     12 | European | Call   | Heston Model in combination with a correlation value of -0.30 |        76 |    5.32 |\n",
      "+--------+----------+--------+---------------------------------------------------------------+-----------+---------+\n",
      "|     12 | European | Call   | Heston Model in combination with a correlation value of -0.30 |        80 |    2.86 |\n",
      "+--------+----------+--------+---------------------------------------------------------------+-----------+---------+\n",
      "|     12 | European | Call   | Heston Model in combination with a correlation value of -0.30 |        84 |    1.3  |\n",
      "+--------+----------+--------+---------------------------------------------------------------+-----------+---------+\n",
      "|     12 | European | Call   | Heston Model in combination with a correlation value of -0.30 |        88 |    0.51 |\n",
      "+--------+----------+--------+---------------------------------------------------------------+-----------+---------+\n",
      "|     12 | European | Call   | Heston Model in combination with a correlation value of -0.30 |        92 |    0.18 |\n",
      "+--------+----------+--------+---------------------------------------------------------------+-----------+---------+\n",
      "|     12 | European | Put    | Heston Model in combination with a correlation value of -0.30 |        68 |    0.2  |\n",
      "+--------+----------+--------+---------------------------------------------------------------+-----------+---------+\n",
      "|     12 | European | Put    | Heston Model in combination with a correlation value of -0.30 |        72 |    0.55 |\n",
      "+--------+----------+--------+---------------------------------------------------------------+-----------+---------+\n",
      "|     12 | European | Put    | Heston Model in combination with a correlation value of -0.30 |        76 |    1.33 |\n",
      "+--------+----------+--------+---------------------------------------------------------------+-----------+---------+\n",
      "|     12 | European | Put    | Heston Model in combination with a correlation value of -0.30 |        80 |    2.82 |\n",
      "+--------+----------+--------+---------------------------------------------------------------+-----------+---------+\n",
      "|     12 | European | Put    | Heston Model in combination with a correlation value of -0.30 |        84 |    5.2  |\n",
      "+--------+----------+--------+---------------------------------------------------------------+-----------+---------+\n",
      "|     12 | European | Put    | Heston Model in combination with a correlation value of -0.30 |        88 |    8.36 |\n",
      "+--------+----------+--------+---------------------------------------------------------------+-----------+---------+\n",
      "|     12 | European | Put    | Heston Model in combination with a correlation value of -0.30 |        92 |   11.98 |\n",
      "+--------+----------+--------+---------------------------------------------------------------+-----------+---------+\n"
     ]
    }
   ],
   "source": [
    "table_data = [\n",
    "    [\"12\",  \"European\",\"Call\", \"Heston Model in combination with a correlation value of -0.30\", \"68\",\"12.08\"],\n",
    "    [\"12\",  \"European\",\"Call\", \"Heston Model in combination with a correlation value of -0.30\", \"72\",\"8.48\"],\n",
    "    [\"12\",  \"European\",\"Call\", \"Heston Model in combination with a correlation value of -0.30\", \"76\",\"5.32\"],\n",
    "    [\"12\",  \"European\",\"Call\", \"Heston Model in combination with a correlation value of -0.30\", \"80\",\"2.86\"],\n",
    "    [\"12\",  \"European\",\"Call\", \"Heston Model in combination with a correlation value of -0.30\", \"84\",\"1.30\"],\n",
    "    [\"12\",  \"European\", \"Call\",\"Heston Model in combination with a correlation value of -0.30\", \"88\",\"0.51\"],\n",
    "    [\"12\",  \"European\", \"Call\",\"Heston Model in combination with a correlation value of -0.30\",\"92\", \"0.18\"],\n",
    "     [\"12\",  \"European\",\"Put\", \"Heston Model in combination with a correlation value of -0.30\", \"68\",\"0.20\"],\n",
    "    [\"12\",  \"European\",\"Put\", \"Heston Model in combination with a correlation value of -0.30\", \"72\",\"0.55\"],\n",
    "    [\"12\", \"European\",\"Put\",  \"Heston Model in combination with a correlation value of -0.30\", \"76\",\"1.33\"],\n",
    "    [\"12\",  \"European\",\"Put\", \"Heston Model in combination with a correlation value of -0.30\", \"80\",\"2.82\"],\n",
    "    [\"12\",  \"European\",\"Put\", \"Heston Model in combination with a correlation value of -0.30\", \"84\",\"5.20\"],\n",
    "    [\"12\",  \"European\",\"Put\", \"Heston Model in combination with a correlation value of -0.30\", \"88\",\"8.36\"],\n",
    "    [\"12\",  \"European\",\"Put\", \"Heston Model in combination with a correlation value of -0.30\",\"92\", \"11.98\"],\n",
    "]\n",
    "\n",
    "# Define the title for the table\n",
    "table_title = \"Summary of Results\"\n",
    "\n",
    "# Define the table headers\n",
    "headers = [\"Q #s\", \"Type\", \"Exer\", \"GWP 3 Method\",\"Strikes\", \"Price\"]\n",
    "\n",
    "# Format the table using tabulate\n",
    "table = tabulate(table_data, headers=headers, tablefmt=\"grid\")\n",
    "\n",
    "# Add the title above the table\n",
    "table_with_title = f\"{table_title}\\n\\n{table}\"\n",
    "\n",
    "# Print the formatted table\n",
    "print(table_with_title)"
   ]
  },
  {
   "cell_type": "code",
   "execution_count": 4,
   "metadata": {
    "colab": {
     "base_uri": "https://localhost:8080/"
    },
    "id": "Uou2uxQz-mBJ",
    "outputId": "63259943-0efd-42d4-f849-6af1ab58c32b"
   },
   "outputs": [
    {
     "name": "stdout",
     "output_type": "stream",
     "text": [
      "European Call Option Price with jump intensity of 0.75: 8.24\n",
      "European Put Option Price jump intensity of 0.75: 7.40\n"
     ]
    }
   ],
   "source": [
    "r = 0.055\n",
    "sigma = 0.35\n",
    "T = 3 / 12\n",
    "lamb = 0.75\n",
    "muJ = -0.5\n",
    "deltaJ = 0.22\n",
    "n_paths = 10000\n",
    "n_steps = 100\n",
    "np.random.seed(0)\n",
    "\n",
    "def merton_jump_paths(S0, r, sigma, T, lamb, muJ, deltaJ, n_paths, n_steps):\n",
    "    dt = T / n_steps\n",
    "    jump_intensity = lamb * (np.exp(muJ + 0.5 * deltaJ**2) - 1)\n",
    "\n",
    "    paths = np.zeros((n_steps + 1, n_paths))\n",
    "    paths[0] = S0\n",
    "\n",
    "    for t in range(1, n_steps + 1):\n",
    "        normal_shocks = np.random.normal(0, 1, n_paths)\n",
    "        jump_shocks = np.random.normal(muJ, deltaJ, n_paths)\n",
    "        jump_sizes = np.random.poisson(lamb * dt, n_paths)\n",
    "\n",
    "        paths[t] = paths[t-1] * np.exp((r - 0.5 * sigma**2 - jump_intensity) * dt + sigma * np.sqrt(dt) * normal_shocks + jump_shocks * jump_sizes)\n",
    "\n",
    "    return paths\n",
    "\n",
    "def european_call_merton(S0, K, r, T, sigma, lamb, muJ, deltaJ, n_paths, n_steps):\n",
    "    paths = merton_jump_paths(S0, r, sigma, T, lamb, muJ, deltaJ, n_paths, n_steps)\n",
    "    # Payoff at maturity for European call option\n",
    "    payoff = np.maximum(paths[-1] - K, 0)\n",
    "    # Discount the payoff to present value\n",
    "    return np.mean(payoff) * np.exp(-r * T)\n",
    "\n",
    "def european_put_merton(S0, K, r, T, sigma, lamb, muJ, deltaJ, n_paths, n_steps):\n",
    "    dt = T / n_steps\n",
    "    discount = np.exp(-r * T)\n",
    "    paths = merton_jump_paths(S0, r, sigma, T, lamb, muJ, deltaJ, n_paths, n_steps)\n",
    "\n",
    "    # Payoff at maturity for a European put\n",
    "    payoff = np.maximum(K - paths[-1], 0)\n",
    "\n",
    "    return np.mean(payoff) * discount\n",
    "\n",
    "\n",
    "\n",
    "european_call_price = european_call_merton(S0, K, r, T, sigma, lamb, muJ, deltaJ, n_paths, n_steps)\n",
    "print(f\"European Call Option Price with jump intensity of 0.75: {european_call_price:.2f}\")\n",
    "\n",
    "european_put_price = european_put_merton(S0, K, r, T, sigma, lamb, muJ, deltaJ, n_paths, n_steps)\n",
    "print(f\"European Put Option Price jump intensity of 0.75: {european_put_price:.2f}\")"
   ]
  },
  {
   "cell_type": "code",
   "execution_count": 6,
   "metadata": {
    "colab": {
     "base_uri": "https://localhost:8080/"
    },
    "id": "DEB-jPNhtL9z",
    "outputId": "3326da3e-5da4-47a5-9412-e809a872ab4c"
   },
   "outputs": [
    {
     "name": "stdout",
     "output_type": "stream",
     "text": [
      "Summary of Results for Delta and Gamma of each options in Question 5\n",
      "\n",
      "+--------+--------------------------------------------------------+---------+\n",
      "|   Q #s | GWP 3 Method                                           |   Price |\n",
      "+========+========================================================+=========+\n",
      "|     12 | European Call Option Price with jump intensity of 0.75 |    8.24 |\n",
      "+--------+--------------------------------------------------------+---------+\n",
      "|     12 | European Put Option Price with jump intensity of 0.75  |    7.4  |\n",
      "+--------+--------------------------------------------------------+---------+\n"
     ]
    }
   ],
   "source": [
    "table_data = [\n",
    "    [\"12\",  \"European Call Option Price with jump intensity of 0.75\", \"8.24\"],\n",
    "    [\"12\",  \"European Put Option Price with jump intensity of 0.75\", \"7.40\"]\n",
    "]\n",
    "\n",
    "# Define the title for the table\n",
    "table_title = \"Summary of Results for Delta and Gamma of each options in Question 5\"\n",
    "\n",
    "# Define the table headers\n",
    "headers = [\"Q #s\", \"GWP 3 Method\", \"Price\"]\n",
    "\n",
    "# Format the table using tabulate\n",
    "table = tabulate(table_data, headers=headers, tablefmt=\"grid\")\n",
    "\n",
    "# Add the title above the table\n",
    "table_with_title = f\"{table_title}\\n\\n{table}\"\n",
    "\n",
    "# Print the formatted table\n",
    "print(table_with_title)"
   ]
  },
  {
   "cell_type": "code",
   "execution_count": null,
   "metadata": {
    "colab": {
     "base_uri": "https://localhost:8080/"
    },
    "id": "LbDA_erY_73U",
    "outputId": "c1e0a5d5-56bf-4eea-8ce5-f692ba9ac9fb"
   },
   "outputs": [
    {
     "name": "stdout",
     "output_type": "stream",
     "text": [
      "Strike Price: 68.0, Call Option Price: 16.29\n",
      "Strike Price: 72.0, Call Option Price: 13.30\n",
      "Strike Price: 76.0, Call Option Price: 10.65\n",
      "Strike Price: 80.0, Call Option Price: 8.26\n",
      "Strike Price: 84.0, Call Option Price: 6.27\n",
      "Strike Price: 88.0, Call Option Price: 4.68\n",
      "Strike Price: 92.0, Call Option Price: 3.39\n",
      "Strike Price: 68.0, Put Option Price: 3.33\n",
      "Strike Price: 72.0, Put Option Price: 4.36\n",
      "Strike Price: 76.0, Put Option Price: 5.66\n",
      "Strike Price: 80.0, Put Option Price: 7.14\n",
      "Strike Price: 84.0, Put Option Price: 9.19\n",
      "Strike Price: 88.0, Put Option Price: 11.47\n",
      "Strike Price: 92.0, Put Option Price: 14.19\n"
     ]
    }
   ],
   "source": [
    "np.random.seed(0)\n",
    "\n",
    "moneyness_values = [0.85, 0.90, 0.95, 1.0, 1.05, 1.10, 1.15]\n",
    "\n",
    "# Calculate strikes based on moneyness values\n",
    "strikes = [S0 * m for m in moneyness_values]\n",
    "\n",
    "# Initialize lists to store option prices\n",
    "call_option_prices = []\n",
    "\n",
    "# Calculate option prices for each strike\n",
    "for strike in strikes:\n",
    "    european_call_price = european_call_merton(S0, strike, r, T, sigma, lamb, muJ, deltaJ, n_paths, n_steps)\n",
    "    call_option_prices.append(european_call_price)\n",
    "    print(f\"Strike Price: {strike}, Call Option Price: {european_call_price:.2f}\")\n",
    "for strike in strikes:\n",
    "    european_put_price = european_put_merton(S0, strike, r, T, sigma, lamb, muJ, deltaJ, n_paths, n_steps)\n",
    "    call_option_prices.append(european_put_price)\n",
    "    print(f\"Strike Price: {strike}, Put Option Price: {european_put_price:.2f}\")"
   ]
  },
  {
   "cell_type": "code",
   "execution_count": null,
   "metadata": {
    "colab": {
     "base_uri": "https://localhost:8080/"
    },
    "id": "PxNlhhLcAcOw",
    "outputId": "4f450b11-5529-433b-dab0-b894c0020e7f"
   },
   "outputs": [
    {
     "name": "stdout",
     "output_type": "stream",
     "text": [
      "Summary of Results\n",
      "\n",
      "+----+--------+----------+---------------------------------------------------------+----------------+----------------+\n",
      "|    | Q #s   | Type     | Exer                                                    |   GWP 3 Method |   StrikesPrice |\n",
      "+====+========+==========+=========================================================+================+================+\n",
      "| 12 | Call   | European | Merton Model in combination with jump intensity of 0.75 |             68 |          16.29 |\n",
      "+----+--------+----------+---------------------------------------------------------+----------------+----------------+\n",
      "| 12 | Call   | European | Merton Model in combination with jump intensity of 0.75 |             72 |          13.4  |\n",
      "+----+--------+----------+---------------------------------------------------------+----------------+----------------+\n",
      "| 12 | Call   | European | Merton Model in combination with jump intensity of 0.75 |             76 |          10.63 |\n",
      "+----+--------+----------+---------------------------------------------------------+----------------+----------------+\n",
      "| 12 | Call   | European | Merton Model in combination with jump intensity of 0.75 |             80 |           8.24 |\n",
      "+----+--------+----------+---------------------------------------------------------+----------------+----------------+\n",
      "| 12 | Call   | European | Merton Model in combination with jump intensity of 0.75 |             84 |           6.33 |\n",
      "+----+--------+----------+---------------------------------------------------------+----------------+----------------+\n",
      "| 12 | Call   | European | Merton Model in combination with jump intensity of 0.75 |             88 |           4.69 |\n",
      "+----+--------+----------+---------------------------------------------------------+----------------+----------------+\n",
      "| 12 | Call   | European | Merton Model in combination with jump intensity of 0.75 |             92 |           3.38 |\n",
      "+----+--------+----------+---------------------------------------------------------+----------------+----------------+\n",
      "| 12 | Put    | European | Merton Model in combination with jump intensity of 0.75 |             68 |           3.4  |\n",
      "+----+--------+----------+---------------------------------------------------------+----------------+----------------+\n",
      "| 12 | Put    | European | Merton Model in combination with jump intensity of 0.75 |             72 |           4.36 |\n",
      "+----+--------+----------+---------------------------------------------------------+----------------+----------------+\n",
      "| 12 | Put    | European | Merton Model in combination with jump intensity of 0.75 |             76 |           5.56 |\n",
      "+----+--------+----------+---------------------------------------------------------+----------------+----------------+\n",
      "| 12 | Put    | European | Merton Model in combination with jump intensity of 0.75 |             80 |           7.22 |\n",
      "+----+--------+----------+---------------------------------------------------------+----------------+----------------+\n",
      "| 12 | Put    | European | Merton Model in combination with jump intensity of 0.75 |             84 |           9.14 |\n",
      "+----+--------+----------+---------------------------------------------------------+----------------+----------------+\n",
      "| 12 | Put    | European | Merton Model in combination with jump intensity of 0.75 |             88 |          11.55 |\n",
      "+----+--------+----------+---------------------------------------------------------+----------------+----------------+\n",
      "| 12 | Put    | European | Merton Model in combination with jump intensity of 0.75 |             92 |          14.17 |\n",
      "+----+--------+----------+---------------------------------------------------------+----------------+----------------+\n"
     ]
    }
   ],
   "source": [
    "table_data = [\n",
    "    [\"12\", \"Call\", \"European\", \"Merton Model in combination with jump intensity of 0.75\", \"68\",\"16.29\"],\n",
    "    [\"12\", \"Call\", \"European\", \"Merton Model in combination with jump intensity of 0.75\", \"72\",\"13.40\"],\n",
    "    [\"12\", \"Call\", \"European\", \"Merton Model in combination with jump intensity of 0.75\", \"76\",\"10.63\"],\n",
    "    [\"12\", \"Call\", \"European\", \"Merton Model in combination with jump intensity of 0.75\", \"80\",\"8.24\"],\n",
    "    [\"12\", \"Call\", \"European\", \"Merton Model in combination with jump intensity of 0.75\", \"84\",\"6.33\"],\n",
    "    [\"12\", \"Call\", \"European\", \"Merton Model in combination with jump intensity of 0.75\", \"88\",\"4.69\"],\n",
    "    [\"12\", \"Call\", \"European\", \"Merton Model in combination with jump intensity of 0.75\", \"92\",\"3.38\"],\n",
    "    [\"12\", \"Put\", \"European\", \"Merton Model in combination with jump intensity of 0.75\", \"68\",\"3.40\"],\n",
    "    [\"12\", \"Put\", \"European\", \"Merton Model in combination with jump intensity of 0.75\", \"72\",\"4.36\"],\n",
    "    [\"12\", \"Put\", \"European\", \"Merton Model in combination with jump intensity of 0.75\", \"76\",\"5.56\"],\n",
    "    [\"12\", \"Put\", \"European\", \"Merton Model in combination with jump intensity of 0.75\", \"80\",\"7.22\"],\n",
    "    [\"12\", \"Put\", \"European\", \"Merton Model in combination with jump intensity of 0.75\", \"84\",\"9.14\"],\n",
    "    [\"12\", \"Put\", \"European\", \"Merton Model in combination with jump intensity of 0.75\", \"88\",\"11.55\"],\n",
    "    [\"12\", \"Put\", \"European\", \"Merton Model in combination with jump intensity of 0.75\", \"92\",\"14.17\"],\n",
    "]\n",
    "\n",
    "# Define the title for the table\n",
    "table_title = \"Summary of Results\"\n",
    "\n",
    "# Define the table headers\n",
    "headers = [\"Q #s\", \"Type\", \"Exer\", \"GWP 3 Method\",\"Strikes\" \"Price\"]\n",
    "\n",
    "# Format the table using tabulate\n",
    "table = tabulate(table_data, headers=headers, tablefmt=\"grid\")\n",
    "\n",
    "# Add the title above the table\n",
    "table_with_title = f\"{table_title}\\n\\n{table}\"\n",
    "\n",
    "# Print the formatted table\n",
    "print(table_with_title)"
   ]
  },
  {
   "cell_type": "markdown",
   "metadata": {
    "id": "oi2ysyPUjD8M"
   },
   "source": [
    "#Step 2: All team members:"
   ]
  },
  {
   "cell_type": "markdown",
   "metadata": {
    "id": "Fh4qaeNjfr83"
   },
   "source": [
    "**Question 13: Repeat Questions 5 and 8 for the case of an American call option.**\n",
    "\n",
    "13. Repeat question 8 for American call option as below. We iterate backward through time steps, calculating the intrinsic value, discounted future values and early exercise value at each step. Then we compare if early exercise has greater value"
   ]
  },
  {
   "cell_type": "code",
   "execution_count": 11,
   "metadata": {
    "colab": {
     "base_uri": "https://localhost:8080/"
    },
    "id": "QhBMunxOnycF",
    "outputId": "31abc22a-b399-4fd5-ab0e-cf475b04a45b"
   },
   "outputs": [
    {
     "name": "stdout",
     "output_type": "stream",
     "text": [
      "American Call Price under Heston: , 4.59\n"
     ]
    }
   ],
   "source": [
    "\n",
    "S0 = 80\n",
    "r = 0.055\n",
    "sigma = 0.35\n",
    "T = 3 / 12\n",
    "lamb = 0.75\n",
    "muJ = -0.5\n",
    "deltaJ = 0.22\n",
    "n_paths = 100000\n",
    "n_steps = 100\n",
    "\n",
    "def american_call_option(S, K, r, T, t):\n",
    "    # Initialize the option value at maturity\n",
    "    option_value = np.maximum(0, S[-1, :] - K)\n",
    "\n",
    "    # Time step\n",
    "    dt = T / len(S)\n",
    "\n",
    "    # Perform backward induction\n",
    "    for i in range(len(S) - 2, -1, -1):\n",
    "        # Calculate the present value of option value\n",
    "        option_value = np.exp(-r * dt) * (\n",
    "            option_value  # Continue holding the option\n",
    "        )\n",
    "\n",
    "        # Calculate the intrinsic value (exercise value) of the option\n",
    "        exercise_value = np.maximum(0, S[i, :] - K)\n",
    "\n",
    "        # Update the option value if it's optimal to exercise\n",
    "        option_value = np.maximum(option_value, exercise_value)\n",
    "\n",
    "    # Calculate the average option value across all simulations\n",
    "    option_price = np.mean(option_value)\n",
    "\n",
    "    return option_price\n",
    "\n",
    "american_call_price = american_call_option(S, 80, 0.055, 3/12, 0)\n",
    "print(f\"American Call Price under Heston: , {american_call_price:.2f}\")\n"
   ]
  },
  {
   "cell_type": "code",
   "execution_count": null,
   "metadata": {
    "colab": {
     "base_uri": "https://localhost:8080/"
    },
    "id": "-bWNQqaOruNS",
    "outputId": "0a75f817-f23e-41fb-b1e9-5de672d87b46"
   },
   "outputs": [
    {
     "name": "stdout",
     "output_type": "stream",
     "text": [
      "Summary of Results\n",
      "\n",
      "+----------+--------+----------+-------------------------------------------------------------------------------------------+---------+\n",
      "|   Q Nums | Type   | Exer     | GWP 3 Method                                                                              |   Price |\n",
      "+==========+========+==========+===========================================================================================+=========+\n",
      "|        5 | Call   | European | Heston Model in combination with Monte-Carlo simulation with a correlation value of -0.30 |    2.83 |\n",
      "+----------+--------+----------+-------------------------------------------------------------------------------------------+---------+\n",
      "|       13 | Call   | American | Heston Model in combination with Monte-Carlo simulation with a correlation value of -0.30 |    4.59 |\n",
      "+----------+--------+----------+-------------------------------------------------------------------------------------------+---------+\n"
     ]
    }
   ],
   "source": [
    "table_data = [\n",
    "    [\"5\", \"Call\", \"European\", \"Heston Model in combination with Monte-Carlo simulation with a correlation value of -0.30\", \"2.83\"],\n",
    "    [\"13\", \"Call\", \"American\", \"Heston Model in combination with Monte-Carlo simulation with a correlation value of -0.30\", \"4.59\"]\n",
    "]\n",
    "\n",
    "# Define the title for the table\n",
    "table_title = \"Summary of Results\"\n",
    "\n",
    "# Define the table headers\n",
    "headers = [\"Q Nums\", \"Type\", \"Exer\", \"GWP 3 Method\", \"Price\"]\n",
    "\n",
    "# Format the table using tabulate\n",
    "table = tabulate(table_data, headers=headers, tablefmt=\"grid\")\n",
    "\n",
    "# Add the title above the table\n",
    "table_with_title = f\"{table_title}\\n\\n{table}\"\n",
    "\n",
    "# Print the formatted table\n",
    "print(table_with_title)"
   ]
  },
  {
   "cell_type": "markdown",
   "metadata": {
    "id": "CgJcKAc1sfay"
   },
   "source": [
    "**Comment on the differences you observe from original Questions 5**\n",
    "\n",
    "We must implement the early exercise feature of American options in order to obtain an American call option. In order to accomplish this, we incorporate a backward induction loop that determines if exercising the option at each time step prior to maturity is desirable. For a variety of reasons, including the use of Monte Carlo simulations in the framework of the Heston model, the cost of an American call option is therefore typically higher than the cost of a European call option ([analystprep.com](https://analystprep.com/study-notes/frm/part-1/financial-markets-and-products/properties-of-stock-options/)).  This is caused by route dependence, stochastic volatility, the early exercise option, and the best time to execute. When it comes to early exercise options, European call options can only be performed at expiration, but American call options allow the holder to exercise the option at any time before or at expiration. We call this optional early exercise. This early exercise clause makes American options more advantageous than other options since it allows the option holder to profit from favorable price fluctuations in the underlying asset. American call options are generally more expensive because of their greater flexibility (Marroni & Perdomo, 2014).\n",
    "\n",
    "The concept of optimal exercise time also emphasizes the significance of timing at every stage of simulation while pricing an American option using Heston model simulations. This means comparing the intrinsic value of the option—that is, the difference between the strike price and the current asset price—with the calculated option value. If the intrinsic value of the American call option is higher than the option value, then it makes sense to exercise it. Option pricing may increase when comparing this feature to European options, which lack this flexibility (Marroni & Perdomo, 2014).\n",
    "\n",
    "Finally, the Heston model adds stochastic volatility to path-dependence and stochastic volatility, which increases the dynamic nature of the option pricing process. This path-dependent feature of American options is advantageous because it allows the option holder to exercise at times of favorable volatility, potentially raising option values. Conversely, European options simply rely on the asset price at expiration and are not affected by a route. In the Heston model, path-dependence and stochastic volatility combine to further explain why American call options are priced higher (Marroni & Perdomo, 2014)."
   ]
  },
  {
   "cell_type": "markdown",
   "metadata": {
    "id": "cRm2HdzhAZnH"
   },
   "source": [
    "**Pricing American all using Mertons model:**"
   ]
  },
  {
   "cell_type": "code",
   "execution_count": 5,
   "metadata": {
    "colab": {
     "base_uri": "https://localhost:8080/"
    },
    "id": "aoYKHye0WwTd",
    "outputId": "82392141-901b-4bb1-90aa-497325bbd530"
   },
   "outputs": [
    {
     "name": "stdout",
     "output_type": "stream",
     "text": [
      "American Call Option Price Using mertons model is: $8.36\n"
     ]
    }
   ],
   "source": [
    "def merton_jump_paths(S0, r, sigma, T, lamb, muJ, deltaJ, n_paths, n_steps):\n",
    "    dt = T / n_steps\n",
    "    jump_intensity = lamb * (np.exp(muJ + 0.5 * deltaJ**2) - 1)\n",
    "\n",
    "    paths = np.zeros((n_steps + 1, n_paths))\n",
    "    paths[0] = S0\n",
    "\n",
    "    for t in range(1, n_steps + 1):\n",
    "        normal_shocks = np.random.normal(0, 1, n_paths)\n",
    "        jump_shocks = np.random.normal(muJ, deltaJ, n_paths)\n",
    "        jump_sizes = np.random.poisson(lamb * dt, n_paths)\n",
    "\n",
    "        paths[t] = paths[t-1] * np.exp((r - 0.5 * sigma**2 - jump_intensity) * dt + sigma * np.sqrt(dt) * normal_shocks + jump_shocks * jump_sizes)\n",
    "\n",
    "    return paths\n",
    "\n",
    "def american_option_lsm(S0, K, r, T, sigma, lamb, muJ, deltaJ, n_paths, n_steps):\n",
    "    dt = T / n_steps\n",
    "    discount = np.exp(-r * dt)\n",
    "    paths = merton_jump_paths(S0, r, sigma, T, lamb, muJ, deltaJ, n_paths, n_steps)\n",
    "\n",
    "    # Initialize payoffs at maturity\n",
    "    payoff = np.maximum(paths[-1] - K, 0)\n",
    "\n",
    "    for t in range(n_steps - 1, 0, -1):\n",
    "        # Select in-the-money paths\n",
    "        itm = paths[t] > K\n",
    "        X = paths[t, itm]\n",
    "        Y = payoff[itm] * discount\n",
    "\n",
    "        # Using polynomial regression for continuation value estimation\n",
    "        reg = np.polyfit(X, Y, 2)\n",
    "        continuation = np.polyval(reg, X)\n",
    "\n",
    "        # Update the payoff\n",
    "        immediate_exercise = np.maximum(X - K, 0)\n",
    "        payoff[itm] = np.where(immediate_exercise > continuation, immediate_exercise, payoff[itm] * discount)\n",
    "\n",
    "    return np.mean(payoff) * discount\n",
    "\n",
    "\n",
    "S0 = 80\n",
    "K = 80\n",
    "r = 0.055\n",
    "sigma = 0.35\n",
    "T = 3 / 12\n",
    "lamb = 0.75\n",
    "muJ = -0.5\n",
    "deltaJ = 0.22\n",
    "n_paths = 100000\n",
    "n_steps = 50\n",
    "\n",
    "american_call_price = american_option_lsm(S0, K, r, T, sigma, lamb, muJ, deltaJ, n_paths, n_steps)\n",
    "print(f\"American Call Option Price Using mertons model is: ${american_call_price:.2f}\")"
   ]
  },
  {
   "cell_type": "code",
   "execution_count": null,
   "metadata": {
    "id": "AsQi5QWVzArQ"
   },
   "outputs": [],
   "source": [
    "table_data = [\n",
    "    [\"5\", \"Call\", \"European\", \"Heston Model in combination with Monte-Carlo simulation with a correlation value of -0.30\", \"2.83\"],\n",
    "    [\"13\", \"Call\", \"American\", \"Heston Model in combination with Monte-Carlo simulation with a correlation value of -0.30\", \"4.59\"]\n",
    "]\n",
    "\n",
    "# Define the title for the table\n",
    "table_title = \"Summary of Results\"\n",
    "\n",
    "# Define the table headers\n",
    "headers = [\"Q Nums\", \"Type\", \"Exer\", \"GWP 3 Method\", \"Price\"]\n",
    "\n",
    "# Format the table using tabulate\n",
    "table = tabulate(table_data, headers=headers, tablefmt=\"grid\")\n",
    "\n",
    "# Add the title above the table\n",
    "table_with_title = f\"{table_title}\\n\\n{table}\"\n",
    "\n",
    "# Print the formatted table\n",
    "print(table_with_title)"
   ]
  },
  {
   "cell_type": "markdown",
   "metadata": {
    "id": "l3mF0QyJ2d-J"
   },
   "source": [
    "**Comment on differences observed from original question 8**\n",
    "\n",
    "- Sensitivity to Jump Parameters: Jump parameters such as the volatility $(δ)$, mean $(μ)$, and intensity $(λ)$ of leaps are introduced by the Merton model. Compared to European options, the value of American options will be more susceptible to these factors because of its early exercise feature, especially when the likelihood of jumps impacting future prices is high..\n",
    "\n",
    "- Complexity of Computation:\n",
    " The Merton model arises from the need to consider optimal exercise decisions at each time step, the interaction with jump dynamics, path-dependent features, stochastic volatility, and the use of numerical methods. These factors collectively contribute to a more intricate and resource-intensive pricing process, especially when dealing with American options. Calculating the best stopping times in the presence of jumps requires additional computational effort compared to European options, where exercise decisions are made only at expiration. The interaction between jump dynamics and the early exercise feature, which is absent in European options, contributes to the computational intricacy.\n",
    "\n",
    "- Effect of Jumping on Early Exercise: Big upward increases (skewed to the right/positive skewness) could make it less desirable to exercise American calls at an early age. If there's a good likelihood that prices will rise in the future,"
   ]
  },
  {
   "cell_type": "markdown",
   "metadata": {
    "id": "1k4oEUNtz3n2"
   },
   "source": [
    "**14. Using Heston model data from Question 6, price a European up-and-in call option\n",
    "(UAI) with a barrier level of $\\$95$ and a strike price of $\\$95$ as well. This UAI option\n",
    "becomes alive only if the stock price reaches (at some point before maturity) the\n",
    "barrier level (even if it ends below it). Compare the price obtained to the one from\n",
    "the simple European call.**\n",
    "\n",
    "\n",
    "\n",
    "\n",
    "Because the DAI put option requires additional requirements before it becomes active, its price is often lower than the price of a standard ATM European put option. These additional requirements are as follows (Marroni & Perdomo, 2014):\n",
    "\n",
    " (i) it is only activated (alive) if the underlying stock price crosses or touches a predefined barrier level during the option's lifetime. If the stock price remains above the barrier level throughout the option's life, the DAI option expires worthless;\n",
    "\n",
    "(ii) the barrier level is typically set below the initial stock price, which means the stock price must move against the holder's favor to activate the option.DAI put options are less expensive than a standard ATM European put option because of these features that reduce the likelihood that they will become active and pay out. The reduced price corresponds to a decreased likelihood of profit for the DAI option (Marroni & Perdomo, 2014).\n",
    "\n",
    "\n",
    "In contrast, an ATM European put option pays out if the stock price at expiration is less than the strike price and has no barrier restrictions. It usually has a greater price since it has a higher probability of being lucrative. The risk-reward trade-off connected with barrier options, such as the DAI put option, is reflected in the price differential between these two options. If the stock prices decline, investors who assumed additional risk that the option may never expire receive compensation ([analystprep.com](https://analystprep.com/study-notes/frm/part-1/financial-markets-and-products/properties-of-stock-options/).)"
   ]
  },
  {
   "cell_type": "code",
   "execution_count": null,
   "metadata": {
    "colab": {
     "base_uri": "https://localhost:8080/"
    },
    "id": "VAd5cxXo0Sh1",
    "outputId": "9f1955de-1857-4534-c0f0-78d6b73eb301"
   },
   "outputs": [
    {
     "name": "stdout",
     "output_type": "stream",
     "text": [
      "European Up-and-In Call Option Price: 0.005827337456274561\n"
     ]
    }
   ],
   "source": [
    "# Heston Model Parameters\n",
    "v0 = 0.032\n",
    "kappa_v = 1.85\n",
    "theta_v = 0.045\n",
    "sigma_v = 0.35\n",
    "rho = -0.70  # Updated correlation value\n",
    "\n",
    "# Option Parameters\n",
    "S0 = 80\n",
    "K = 95\n",
    "B = 95\n",
    "r = 0.055\n",
    "T = 3/12  # Time to maturity (in years)\n",
    "M0 = 50   # Number of time steps in a year\n",
    "M = int(M0 * T)  # Total time steps\n",
    "Ite = 100000  # Number of simulations\n",
    "dt = T / M  # Length of time step\n",
    "\n",
    "# Generate random numbers\n",
    "rand = np.random.standard_normal((2, M + 1, Ite))\n",
    "\n",
    "# Covariance Matrix\n",
    "covariance_matrix = np.array([[1.0, rho], [rho, 1.0]])\n",
    "cho_matrix = np.linalg.cholesky(covariance_matrix)\n",
    "\n",
    "# Function to simulate volatility paths\n",
    "def SDE_vol(v0, kappa, theta, sigma, T, M, Ite, rand, row, cho_matrix):\n",
    "    dt = T / M\n",
    "    v = np.zeros((M + 1, Ite), dtype=float)\n",
    "    v[0] = v0\n",
    "    sdt = np.sqrt(dt)\n",
    "    for t in range(1, M + 1):\n",
    "        ran = np.dot(cho_matrix, rand[:, t])\n",
    "        v[t] = np.maximum(\n",
    "            0,\n",
    "            v[t - 1] + kappa * (theta - v[t - 1]) * dt\n",
    "            + np.sqrt(v[t - 1]) * sigma * ran[row] * sdt,\n",
    "        )\n",
    "    return v\n",
    "\n",
    "# Function to simulate stock price paths\n",
    "def Heston_paths(S0, r, v, row, cho_matrix):\n",
    "    S = np.zeros((M + 1, Ite), dtype=float)\n",
    "    S[0] = S0\n",
    "    sdt = np.sqrt(dt)\n",
    "    for t in range(1, M + 1):\n",
    "        ran = np.dot(cho_matrix, rand[:, t])\n",
    "        S[t] = S[t - 1] * np.exp((r - 0.5 * v[t]) * dt + np.sqrt(v[t]) * ran[row] * sdt)\n",
    "    return S\n",
    "\n",
    "# Calculate option prices\n",
    "V = SDE_vol(v0, kappa_v, theta_v, sigma_v, T, M, Ite, rand, 1, cho_matrix)\n",
    "S = Heston_paths(S0, r, V, 0, cho_matrix)\n",
    "\n",
    "# Initialize variables to track UAI call option price\n",
    "uai_call_price = 0\n",
    "\n",
    "# Iterate through simulation paths\n",
    "for i in range(Ite):\n",
    "    barrier_crossed = False  # Flag to check if barrier is crossed\n",
    "\n",
    "    for t in range(1, M + 1):\n",
    "        if S[t, i] >= B:\n",
    "            barrier_crossed = True\n",
    "            break  # Barrier crossed, exit inner loop\n",
    "\n",
    "    if barrier_crossed:\n",
    "        uai_call_price += np.maximum(0, S[-1, i] - K) * np.exp(-r * T)  # Calculate UAI call option price\n",
    "\n",
    "# Calculate the average UAI call option price\n",
    "uai_call_price /= Ite\n",
    "\n",
    "# Print the UAI call option price\n",
    "print(\"European Up-and-In Call Option Price:\", uai_call_price)"
   ]
  },
  {
   "cell_type": "code",
   "execution_count": 13,
   "metadata": {
    "colab": {
     "base_uri": "https://localhost:8080/"
    },
    "id": "0-sp12Rv39vi",
    "outputId": "5af8d127-5d37-431d-c51d-2088328478d1"
   },
   "outputs": [
    {
     "name": "stdout",
     "output_type": "stream",
     "text": [
      "Summary of Results\n",
      "\n",
      "+--------+----------+--------+-------------------------------------------------------------------+---------+\n",
      "|   Q #s | Exer     | Type   | GWP 3 Method                                                      |   Price |\n",
      "+========+==========+========+===================================================================+=========+\n",
      "|      6 | European | Call   | ATM European Call for a simple Heston Model                       |    2.1  |\n",
      "+--------+----------+--------+-------------------------------------------------------------------+---------+\n",
      "|     14 | American | Call   | Up-and-in Call option (UAI) with a barrier level/strike price $95 |    0.01 |\n",
      "+--------+----------+--------+-------------------------------------------------------------------+---------+\n"
     ]
    }
   ],
   "source": [
    "table_data = [\n",
    "    [\"6\", \"European\",\"Call\", \"ATM European Call for a simple Heston Model\", \"2.1\"],\n",
    "    [\"14\",  \"American\", \"Call\",\"Up-and-in Call option (UAI) with a barrier level/strike price $95\", \"0.01\"]\n",
    "]\n",
    "\n",
    "# Define the title for the table\n",
    "table_title = \"Summary of Results\"\n",
    "\n",
    "# Define the table headers\n",
    "headers = [\"Q #s\",  \"Exer\",\"Type\", \"GWP 3 Method\", \"Price\"]\n",
    "\n",
    "# Format the table using tabulate\n",
    "table = tabulate(table_data, headers=headers, tablefmt=\"grid\")\n",
    "\n",
    "# Add the title above the table\n",
    "table_with_title = f\"{table_title}\\n\\n{table}\"\n",
    "\n",
    "# Print the formatted table\n",
    "print(table_with_title)"
   ]
  },
  {
   "cell_type": "markdown",
   "metadata": {
    "id": "xVbwm366iqI_"
   },
   "source": [
    "**15: Using Merton model data from Question 8, price a European down-and-in put\n",
    "option (DAI) with a barrier level of 65 and a strike price of 65 as well. This UAO\n",
    "option becomes alive only if the stock price reaches (at some point before\n",
    "maturity) the barrier level (even if it ends above it).\n",
    "We first check across the path if barrier breached. If not breached, pay off should be equal 0**"
   ]
  },
  {
   "cell_type": "code",
   "execution_count": null,
   "metadata": {
    "colab": {
     "base_uri": "https://localhost:8080/"
    },
    "id": "0Omt0c0ffjN2",
    "outputId": "b351e46f-ccd9-47c7-ae58-026c94208e58"
   },
   "outputs": [
    {
     "name": "stdout",
     "output_type": "stream",
     "text": [
      "DAI Option Price using Merton with 0.75 jump intensity: 2.7979467627558656\n"
     ]
    }
   ],
   "source": [
    "def merton_down_and_in_put_mc(S, K, B, r, T, t):\n",
    "    # Check if the barrier is breached during the option's life\n",
    "    barrier_breached = np.any(S < B, axis=0)\n",
    "\n",
    "    # Calculate the payoff for the down-and-in put option\n",
    "    payoff = np.where(barrier_breached, np.maximum(0, K - S[-1, :]), 0)\n",
    "\n",
    "    average = np.mean(payoff)\n",
    "\n",
    "    return np.exp(-r * (T - t)) * average\n",
    "print(\"DAI Option Price using Merton with 0.75 jump intensity:\", merton_down_and_in_put_mc(SM, 65, 65, r, T, 0))"
   ]
  },
  {
   "cell_type": "code",
   "execution_count": null,
   "metadata": {
    "colab": {
     "base_uri": "https://localhost:8080/"
    },
    "id": "M0RU08eLjya_",
    "outputId": "21c39a06-5d1e-42c3-ef50-a10aac40dd53"
   },
   "outputs": [
    {
     "name": "stdout",
     "output_type": "stream",
     "text": [
      "Summary of Results\n",
      "\n",
      "+--------+----------+--------+---------------------------------------------------------------------+---------+\n",
      "|   Q_no | Exer     | Type   | GWP 3 Method                                                        | Price   |\n",
      "+========+==========+========+=====================================================================+=========+\n",
      "|      8 | European | Put    | ATM European Call Price under Merton model with 0.75 jump intensity | $7.35   |\n",
      "+--------+----------+--------+---------------------------------------------------------------------+---------+\n",
      "|     15 | DAI      | Put    | DAI Put Price under Merton model with 0.75 jump intensity           | $2.80   |\n",
      "+--------+----------+--------+---------------------------------------------------------------------+---------+\n"
     ]
    }
   ],
   "source": [
    "table_dataq15 = [\n",
    "    [\"8\",  \"European\", \"Put\",\"ATM European Call Price under Merton model with 0.75 jump intensity\", \"$7.35\"],\n",
    "    [\"15\",  \"DAI\", \"Put\", \"DAI Put Price under Merton model with 0.75 jump intensity\", \"$2.80\"]\n",
    "]\n",
    "\n",
    "# Define the title for the table\n",
    "table_titleq15 = \"Summary of Results\"\n",
    "\n",
    "# Define the table headers\n",
    "headersq15 = [\"Q_no\",  \"Exer\",\"Type\", \"GWP 3 Method\", \"Price\"]\n",
    "\n",
    "# Format the table using tabulate\n",
    "tableq15 = tabulate(table_dataq15, headers=headersq15, tablefmt=\"grid\")\n",
    "\n",
    "# Add the title above the table\n",
    "table_with_titleq15 = f\"{table_titleq15}\\n\\n{tableq15}\"\n",
    "\n",
    "# Print the formatted table\n",
    "print(table_with_titleq15)"
   ]
  },
  {
   "cell_type": "markdown",
   "metadata": {
    "id": "HX9at9v0jUR4"
   },
   "source": [
    "Compare the price obtained to the one from the simple European put:\n",
    "Option price of DAI type is much lower than the one in question 8 which reflects the harder condition for the option to be alive and the barrier is quite far away from the initial underlying price. The European Put Option Price with Jump Intensity of 0.75 at Strike $65, as we can see, is substantially smaller than the European Down-and-In Put Option Price with barrier."
   ]
  },
  {
   "cell_type": "markdown",
   "metadata": {
    "id": "EDrbMONpmBbT"
   },
   "source": [
    "#Reference\n",
    "\n",
    "- Hsu, Y. L. et al. \"Constant Elasticity of Variance (CEV) Option Pricing Model: Integration and Detailed Variation.\" Mathematics and Computers in Simulation, vol. 79, no. 1, 2008, pp. 60–71.\n",
    "- SICA, F., DI LORENZO, E. M. I. L. I. A., & CUOMO, S. Meshless Methods for Option Pricing and Risks Computation.\n",
    "\n",
    "- Schumacher, J. M. (2020). Introduction to Financial Derivatives: Modeling, Pricing and Hedging. Open Press TiU: https://digi-courses.com/openpresstiu-introduction-to-financial-derivatives/\n",
    "\n",
    "- Marroni L. & I. Perdomo (2014). Pricing and Hedging Financial Derivatives: A Guide for Practitioners. Wiley\n",
    "\n",
    "- https://analystprep.com/study-notes/frm/part-1/financial-markets-and-products/properties-of-stock-options/"
   ]
  }
 ],
 "metadata": {
  "colab": {
   "provenance": []
  },
  "kernelspec": {
   "display_name": "Python 3 (ipykernel)",
   "language": "python",
   "name": "python3"
  },
  "language_info": {
   "codemirror_mode": {
    "name": "ipython",
    "version": 3
   },
   "file_extension": ".py",
   "mimetype": "text/x-python",
   "name": "python",
   "nbconvert_exporter": "python",
   "pygments_lexer": "ipython3",
   "version": "3.11.5"
  }
 },
 "nbformat": 4,
 "nbformat_minor": 1
}
